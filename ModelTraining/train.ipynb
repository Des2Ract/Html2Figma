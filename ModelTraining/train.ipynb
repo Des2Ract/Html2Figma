{
 "cells": [
  {
   "cell_type": "code",
   "execution_count": 15,
   "metadata": {},
   "outputs": [],
   "source": [
    "import pandas as pd\n",
    "import numpy as np\n",
    "import joblib\n",
    "from sklearn.model_selection import train_test_split\n",
    "from sklearn.preprocessing import LabelEncoder, StandardScaler\n",
    "from sklearn.ensemble import RandomForestClassifier\n",
    "from sklearn.metrics import accuracy_score, classification_report"
   ]
  },
  {
   "cell_type": "code",
   "execution_count": 16,
   "metadata": {},
   "outputs": [],
   "source": [
    "# Load dataset with appropriate encoding to avoid decoding errors\n",
    "df = pd.read_csv('figma_dataset2.csv', encoding='latin1')"
   ]
  },
  {
   "cell_type": "code",
   "execution_count": 17,
   "metadata": {},
   "outputs": [
    {
     "name": "stdout",
     "output_type": "stream",
     "text": [
      "      tag   type       x       y  width   height characters  depth  \\\n",
      "0    BODY  FRAME       0       0  800.0  10577.0        NaN      0   \n",
      "1     DIV  GROUP       0       0  800.0      0.0        NaN      1   \n",
      "2     DIV  GROUP -100000 -100000  800.0    600.0        NaN      2   \n",
      "3  IFRAME  GROUP -100000 -100000  800.0    600.0        NaN      3   \n",
      "4     DIV  GROUP       0       0  800.0  10577.0        NaN      1   \n",
      "\n",
      "   num_children parent_tag  ...  x_normalized  y_normalized  x_center  \\\n",
      "0             3        NaN  ...        100000        100000     400.0   \n",
      "1             1       BODY  ...        100000        100000     400.0   \n",
      "2             1        DIV  ...             0             0  -99600.0   \n",
      "3             0        DIV  ...             0             0  -99600.0   \n",
      "4             1       BODY  ...        100000        100000     400.0   \n",
      "\n",
      "  y_center x_quarter y_quarter  aspect_ratio       area normalized_width  \\\n",
      "0   5288.5       0.5  0.500000      0.075636  8461600.0              1.0   \n",
      "1      0.0       0.5  0.000000           NaN        0.0              1.0   \n",
      "2 -99700.0    -124.5 -9.426113      1.333333   480000.0              1.0   \n",
      "3 -99700.0    -124.5 -9.426113      1.333333   480000.0              1.0   \n",
      "4   5288.5       0.5  0.500000      0.075636  8461600.0              1.0   \n",
      "\n",
      "  normalized_height  \n",
      "0          1.000000  \n",
      "1          0.000000  \n",
      "2          0.056727  \n",
      "3          0.056727  \n",
      "4          1.000000  \n",
      "\n",
      "[5 rows x 42 columns]\n"
     ]
    }
   ],
   "source": [
    "# Display first few rows to understand the structure\n",
    "print(df.head())"
   ]
  },
  {
   "cell_type": "code",
   "execution_count": 18,
   "metadata": {},
   "outputs": [],
   "source": [
    "# Define column categories based on the dataset attributes\n",
    "categorical_cols = ['type', 'characters', 'parent_tag', 'text_type', 'visibility', 'border_type', 'border_pattern', 'shadow_type']\n",
    "numerical_cols = ['x', 'y', 'width', 'height', 'depth', 'num_children', 'sibling_count', 'is_leaf', 'font_size', 'font_weight',\n",
    "                   'color', 'background_color', 'border_radius', 'border_color', 'border_opacity', 'border_weight', 'shadow_color',\n",
    "                   'shadow_offset', 'shadow_radius', 'text_length', 'word_count', 'contains_number', 'contains_special_chars',\n",
    "                   'x_normalized', 'y_normalized', 'x_center', 'y_center', 'x_quarter', 'y_quarter', 'aspect_ratio', 'area',\n",
    "                   'normalized_width', 'normalized_height']"
   ]
  },
  {
   "cell_type": "code",
   "execution_count": 19,
   "metadata": {},
   "outputs": [],
   "source": [
    "# Drop non-numeric values from numerical columns to prevent conversion errors\n",
    "df[numerical_cols] = df[numerical_cols].apply(pd.to_numeric, errors='coerce')"
   ]
  },
  {
   "cell_type": "code",
   "execution_count": 20,
   "metadata": {},
   "outputs": [],
   "source": [
    "# Fill missing values with appropriate replacements\n",
    "df[numerical_cols] = df[numerical_cols].fillna(df[numerical_cols].median())"
   ]
  },
  {
   "cell_type": "code",
   "execution_count": 21,
   "metadata": {},
   "outputs": [],
   "source": [
    "# Ensure all categorical columns are treated as strings before encoding\n",
    "df[categorical_cols] = df[categorical_cols].astype(str)"
   ]
  },
  {
   "cell_type": "code",
   "execution_count": 22,
   "metadata": {},
   "outputs": [],
   "source": [
    "# Encode categorical features using Label Encoding\n",
    "label_encoders = {}\n",
    "for col in categorical_cols:\n",
    "    le = LabelEncoder()\n",
    "    df[col] = le.fit_transform(df[col])\n",
    "    label_encoders[col] = le"
   ]
  },
  {
   "cell_type": "code",
   "execution_count": 23,
   "metadata": {},
   "outputs": [],
   "source": [
    "# Encode target variable\n",
    "tag_encoder = LabelEncoder()\n",
    "df['tag'] = tag_encoder.fit_transform(df['tag'])"
   ]
  },
  {
   "cell_type": "code",
   "execution_count": 24,
   "metadata": {},
   "outputs": [],
   "source": [
    "# Split dataset into features and target\n",
    "X = df.drop(columns=['tag'])  # Features\n",
    "y = df['tag']  # Target variable"
   ]
  },
  {
   "cell_type": "code",
   "execution_count": 25,
   "metadata": {},
   "outputs": [
    {
     "name": "stderr",
     "output_type": "stream",
     "text": [
      "C:\\Users\\AOZ\\AppData\\Roaming\\Python\\Python312\\site-packages\\sklearn\\utils\\extmath.py:1137: RuntimeWarning: invalid value encountered in divide\n",
      "  updated_mean = (last_sum + new_sum) / updated_sample_count\n",
      "C:\\Users\\AOZ\\AppData\\Roaming\\Python\\Python312\\site-packages\\sklearn\\utils\\extmath.py:1142: RuntimeWarning: invalid value encountered in divide\n",
      "  T = new_sum / new_sample_count\n",
      "C:\\Users\\AOZ\\AppData\\Roaming\\Python\\Python312\\site-packages\\sklearn\\utils\\extmath.py:1162: RuntimeWarning: invalid value encountered in divide\n",
      "  new_unnormalized_variance -= correction**2 / new_sample_count\n"
     ]
    }
   ],
   "source": [
    "# Replace infinite values with NaN\n",
    "X[numerical_cols] = X[numerical_cols].replace([np.inf, -np.inf], np.nan)\n",
    "\n",
    "# Normalize numerical features\n",
    "scaler = StandardScaler()\n",
    "X[numerical_cols] = scaler.fit_transform(X[numerical_cols])"
   ]
  },
  {
   "cell_type": "code",
   "execution_count": 26,
   "metadata": {},
   "outputs": [],
   "source": [
    "# Train-test split (80% train, 20% test)\n",
    "X_train, X_test, y_train, y_test = train_test_split(X, y, test_size=0.2, random_state=42)"
   ]
  },
  {
   "cell_type": "code",
   "execution_count": 27,
   "metadata": {},
   "outputs": [
    {
     "name": "stdout",
     "output_type": "stream",
     "text": [
      "No pre-trained model found, training a new one.\n",
      "Model saved for future use.\n"
     ]
    }
   ],
   "source": [
    "# Check if a pre-trained model exists\n",
    "model_filename = \"models/html_tag_model.pkl\"\n",
    "scaler_filename = \"models/scaler.pkl\"\n",
    "tag_encoder_filename = \"models/tag_encoder.pkl\"\n",
    "label_encoders_filename = \"models/label_encoders.pkl\"\n",
    "\n",
    "try:\n",
    "    model = joblib.load(model_filename)\n",
    "    scaler = joblib.load(scaler_filename)\n",
    "    tag_encoder = joblib.load(tag_encoder_filename)\n",
    "    label_encoders = joblib.load(label_encoders_filename)\n",
    "    print(\"Loaded pre-trained model.\")\n",
    "except FileNotFoundError:\n",
    "    print(\"No pre-trained model found, training a new one.\")\n",
    "    model = RandomForestClassifier(n_estimators=100, random_state=42)\n",
    "    model.fit(X_train, y_train)\n",
    "    \n",
    "    # Save the trained model, scaler, and encoder\n",
    "    joblib.dump(model, model_filename)\n",
    "    joblib.dump(scaler, scaler_filename)\n",
    "    joblib.dump(tag_encoder, tag_encoder_filename)\n",
    "    joblib.dump(label_encoders, label_encoders_filename)\n",
    "    print(\"Model saved for future use.\")"
   ]
  },
  {
   "cell_type": "code",
   "execution_count": 28,
   "metadata": {},
   "outputs": [
    {
     "name": "stdout",
     "output_type": "stream",
     "text": [
      "Accuracy: 0.9532\n",
      "                                           precision    recall  f1-score   support\n",
      "\n",
      "                                        A       1.00      1.00      1.00      2412\n",
      "                                  ADDRESS       1.00      0.89      0.94        28\n",
      "                                  ARTICLE       0.99      0.89      0.94       136\n",
      "                                    ASIDE       0.00      0.00      0.00         4\n",
      "                                        B       1.00      0.36      0.53        14\n",
      "                               BLOCKQUOTE       0.00      0.00      0.00         1\n",
      "                                     BODY       1.00      0.94      0.97        16\n",
      "                                   BUTTON       0.95      0.96      0.95       242\n",
      "                                   CANVAS       1.00      1.00      1.00        14\n",
      "                                     CITE       1.00      1.00      1.00         1\n",
      "                                       DD       0.00      0.00      0.00         1\n",
      "                                  DETAILS       1.00      1.00      1.00         2\n",
      "                                      DIV       0.93      0.99      0.96      8391\n",
      "                                       DT       1.00      0.50      0.67         2\n",
      "                 EDITORIAL-SPOTLIGHT-TILE       1.00      0.67      0.80         3\n",
      "                                       EM       0.33      0.09      0.14        11\n",
      "                                 FIELDSET       0.00      0.00      0.00         1\n",
      "                               FIGCAPTION       0.92      1.00      0.96        11\n",
      "                                   FIGURE       0.92      0.79      0.85        85\n",
      "                                   FOOTER       0.92      0.69      0.79        51\n",
      "                                     FORM       0.85      0.61      0.71        18\n",
      "                                   GPT-AD       0.00      0.00      0.00         1\n",
      "                                GU-ISLAND       1.00      0.89      0.94        19\n",
      "                                       H1       0.88      0.50      0.64        14\n",
      "                                       H2       0.93      0.74      0.82       266\n",
      "                                       H3       0.98      0.81      0.89       412\n",
      "                                       H4       0.98      0.88      0.92        48\n",
      "                                       H5       0.80      0.92      0.86        13\n",
      "                                       H6       1.00      1.00      1.00         6\n",
      "                                   HEADER       0.99      0.73      0.84       110\n",
      "                                       HR       0.97      1.00      0.98        28\n",
      "                                        I       1.00      0.91      0.96       117\n",
      "                                   IFRAME       0.83      0.56      0.67        18\n",
      "                                      IMG       0.96      0.99      0.98       549\n",
      "                                    INPUT       0.99      0.92      0.95       101\n",
      "                        JW-PLAYER-MANAGER       0.00      0.00      0.00         1\n",
      "                                    LABEL       0.99      0.93      0.96       100\n",
      "                                       LI       1.00      0.99      1.00       918\n",
      "                                     MAIN       0.71      0.33      0.45        15\n",
      "                                      NAV       0.90      0.24      0.38        38\n",
      "                     NEXT-ROUTE-ANNOUNCER       1.00      1.00      1.00         3\n",
      "                                       OL       1.00      0.25      0.40         4\n",
      "                                   OPTION       1.00      1.00      1.00        25\n",
      "                                        P       0.94      0.85      0.89       397\n",
      "                        PAGE-HOME-MANAGER       0.00      0.00      0.00         1\n",
      "                                  PICTURE       0.99      0.95      0.97       284\n",
      "                                 RT-BADGE       1.00      1.00      1.00         1\n",
      "                                RT-BUTTON       0.00      0.00      0.00         2\n",
      "                                RT-HEADER       0.00      0.00      0.00         1\n",
      "                            RT-HEADER-NAV       0.00      0.00      0.00         1\n",
      "                       RT-HEADER-NAV-ITEM       1.00      1.00      1.00         2\n",
      "                                  RT-ICON       1.00      1.00      1.00         3\n",
      "                                   RT-IMG       1.00      1.00      1.00        18\n",
      "                                  RT-LINK       0.00      0.00      0.00         1\n",
      "                                  RT-TEXT       1.00      0.97      0.99        40\n",
      "                                        S       1.00      1.00      1.00         1\n",
      "                      SCORE-ICON-AUDIENCE       0.15      0.14      0.14        22\n",
      "                       SCORE-ICON-CRITICS       0.37      0.39      0.38        28\n",
      "                   SCORE-PAIRS-DEPRECATED       1.00      1.00      1.00        31\n",
      "                                  SECTION       0.89      0.52      0.66       207\n",
      "                                   SELECT       0.00      0.00      0.00         3\n",
      "                                    SMALL       1.00      1.00      1.00         4\n",
      "                       SOCIAL-MEDIA-ICONS       0.00      0.00      0.00         1\n",
      "                                     SPAN       0.95      0.93      0.94      2426\n",
      "                                   STRONG       0.96      0.87      0.91        30\n",
      "                                  SUMMARY       1.00      1.00      1.00         1\n",
      "                                    TABLE       1.00      1.00      1.00         2\n",
      "                                    TBODY       1.00      1.00      1.00         2\n",
      "                                       TD       0.99      1.00      0.99        85\n",
      "                                TEXT-LIST       1.00      1.00      1.00         1\n",
      "                                       TH       1.00      0.93      0.97        15\n",
      "                                    THEAD       0.00      0.00      0.00         1\n",
      "                             TILE-DYNAMIC       1.00      1.00      1.00        21\n",
      "     TILES-CAROUSEL-RESPONSIVE-DEPRECATED       1.00      1.00      1.00         2\n",
      "TILES-CAROUSEL-RESPONSIVE-ITEM-DEPRECATED       1.00      1.00      1.00        24\n",
      "                                     TIME       1.00      0.94      0.97       108\n",
      "                                       TR       1.00      1.00      1.00        20\n",
      "                                      TXT       0.96      0.98      0.97      2057\n",
      "                                        U       1.00      1.00      1.00         9\n",
      "                                       UL       0.95      0.58      0.72       217\n",
      "                    USER-ACTIVITY-MANAGER       0.00      0.00      0.00         1\n",
      "                                  VF-TRAY       0.00      0.00      0.00         1\n",
      "                          VF-TRAY-TRIGGER       0.00      0.00      0.00         1\n",
      "                                    VIDEO       0.75      0.43      0.55         7\n",
      "                         WATCHLIST-BUTTON       1.00      1.00      1.00        21\n",
      "                                      svg       1.00      1.00      1.00       582\n",
      "\n",
      "                                micro avg       0.95      0.95      0.95     20932\n",
      "                                macro avg       0.75      0.67      0.70     20932\n",
      "                             weighted avg       0.95      0.95      0.95     20932\n",
      "\n"
     ]
    },
    {
     "name": "stderr",
     "output_type": "stream",
     "text": [
      "C:\\Users\\AOZ\\AppData\\Roaming\\Python\\Python312\\site-packages\\sklearn\\metrics\\_classification.py:1531: UndefinedMetricWarning: Precision is ill-defined and being set to 0.0 in labels with no predicted samples. Use `zero_division` parameter to control this behavior.\n",
      "  _warn_prf(average, modifier, f\"{metric.capitalize()} is\", len(result))\n",
      "C:\\Users\\AOZ\\AppData\\Roaming\\Python\\Python312\\site-packages\\sklearn\\metrics\\_classification.py:1531: UndefinedMetricWarning: Precision is ill-defined and being set to 0.0 in labels with no predicted samples. Use `zero_division` parameter to control this behavior.\n",
      "  _warn_prf(average, modifier, f\"{metric.capitalize()} is\", len(result))\n",
      "C:\\Users\\AOZ\\AppData\\Roaming\\Python\\Python312\\site-packages\\sklearn\\metrics\\_classification.py:1531: UndefinedMetricWarning: Precision is ill-defined and being set to 0.0 in labels with no predicted samples. Use `zero_division` parameter to control this behavior.\n",
      "  _warn_prf(average, modifier, f\"{metric.capitalize()} is\", len(result))\n"
     ]
    }
   ],
   "source": [
    "# Predict and evaluate model performance\n",
    "y_pred = model.predict(X_test)\n",
    "accuracy = accuracy_score(y_test, y_pred)\n",
    "print(f'Accuracy: {accuracy:.4f}')\n",
    "print(classification_report(y_test, y_pred, labels=np.unique(y_test), target_names=tag_encoder.inverse_transform(np.unique(y_test))))"
   ]
  }
 ],
 "metadata": {
  "kernelspec": {
   "display_name": "Python 3",
   "language": "python",
   "name": "python3"
  },
  "language_info": {
   "codemirror_mode": {
    "name": "ipython",
    "version": 3
   },
   "file_extension": ".py",
   "mimetype": "text/x-python",
   "name": "python",
   "nbconvert_exporter": "python",
   "pygments_lexer": "ipython3",
   "version": "3.12.6"
  }
 },
 "nbformat": 4,
 "nbformat_minor": 2
}
