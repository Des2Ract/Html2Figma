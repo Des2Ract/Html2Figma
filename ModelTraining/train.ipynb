{
 "cells": [
  {
   "cell_type": "code",
   "execution_count": 110,
   "metadata": {},
   "outputs": [],
   "source": [
    "import pandas as pd\n",
    "import numpy as np\n",
    "import joblib\n",
    "from sklearn.model_selection import train_test_split\n",
    "from sklearn.preprocessing import LabelEncoder, StandardScaler\n",
    "from sklearn.ensemble import RandomForestClassifier\n",
    "from sklearn.metrics import accuracy_score, classification_report"
   ]
  },
  {
   "cell_type": "code",
   "execution_count": 111,
   "metadata": {},
   "outputs": [],
   "source": [
    "# Load dataset with appropriate encoding to avoid decoding errors\n",
    "df = pd.read_csv('figma_dataset.csv', encoding='latin1')"
   ]
  },
  {
   "cell_type": "code",
   "execution_count": 112,
   "metadata": {},
   "outputs": [
    {
     "name": "stdout",
     "output_type": "stream",
     "text": [
      "      tag   type       x       y  width   height characters  depth  \\\n",
      "0    BODY  FRAME       0       0    800  10581.0        NaN      0   \n",
      "1     DIV  GROUP       0       0    800      0.0        NaN      1   \n",
      "2     DIV  GROUP -100000 -100000    800    600.0        NaN      2   \n",
      "3  IFRAME  GROUP -100000 -100000    800    600.0        NaN      3   \n",
      "4     DIV  GROUP       0       0    800  10581.0        NaN      1   \n",
      "\n",
      "   num_children parent_tag  ...  x_normalized  y_normalized  x_center  \\\n",
      "0             3        NaN  ...        100000        100000     400.0   \n",
      "1             1       BODY  ...        100000        100000     400.0   \n",
      "2             1        DIV  ...             0             0  -99600.0   \n",
      "3             0        DIV  ...             0             0  -99600.0   \n",
      "4             1       BODY  ...        100000        100000     400.0   \n",
      "\n",
      "  y_center x_quarter y_quarter  aspect_ratio       area normalized_width  \\\n",
      "0   5290.5       0.5   0.50000      0.075607  8464800.0              1.0   \n",
      "1      0.0       0.5   0.00000           NaN        0.0              1.0   \n",
      "2 -99700.0    -124.5  -9.42255      1.333333   480000.0              1.0   \n",
      "3 -99700.0    -124.5  -9.42255      1.333333   480000.0              1.0   \n",
      "4   5290.5       0.5   0.50000      0.075607  8464800.0              1.0   \n",
      "\n",
      "  normalized_height  \n",
      "0          1.000000  \n",
      "1          0.000000  \n",
      "2          0.056705  \n",
      "3          0.056705  \n",
      "4          1.000000  \n",
      "\n",
      "[5 rows x 42 columns]\n"
     ]
    }
   ],
   "source": [
    "# Display first few rows to understand the structure\n",
    "print(df.head())"
   ]
  },
  {
   "cell_type": "code",
   "execution_count": 113,
   "metadata": {},
   "outputs": [],
   "source": [
    "# Define column categories based on the dataset attributes\n",
    "categorical_cols = ['type', 'characters', 'parent_tag', 'text_type', 'visibility', 'border_type', 'border_pattern', 'shadow_type']\n",
    "numerical_cols = ['x', 'y', 'width', 'height', 'depth', 'num_children', 'sibling_count', 'is_leaf', 'font_size', 'font_weight',\n",
    "                   'color', 'background_color', 'border_radius', 'border_color', 'border_opacity', 'border_weight', 'shadow_color',\n",
    "                   'shadow_offset', 'shadow_radius', 'text_length', 'word_count', 'contains_number', 'contains_special_chars',\n",
    "                   'x_normalized', 'y_normalized', 'x_center', 'y_center', 'x_quarter', 'y_quarter', 'aspect_ratio', 'area',\n",
    "                   'normalized_width', 'normalized_height']"
   ]
  },
  {
   "cell_type": "code",
   "execution_count": 114,
   "metadata": {},
   "outputs": [],
   "source": [
    "# Drop non-numeric values from numerical columns to prevent conversion errors\n",
    "df[numerical_cols] = df[numerical_cols].apply(pd.to_numeric, errors='coerce')"
   ]
  },
  {
   "cell_type": "code",
   "execution_count": 115,
   "metadata": {},
   "outputs": [],
   "source": [
    "# Fill missing values with appropriate replacements\n",
    "df[numerical_cols] = df[numerical_cols].fillna(df[numerical_cols].median())"
   ]
  },
  {
   "cell_type": "code",
   "execution_count": 116,
   "metadata": {},
   "outputs": [],
   "source": [
    "# Ensure all categorical columns are treated as strings before encoding\n",
    "df[categorical_cols] = df[categorical_cols].astype(str)"
   ]
  },
  {
   "cell_type": "code",
   "execution_count": 117,
   "metadata": {},
   "outputs": [],
   "source": [
    "# Encode categorical features using Label Encoding\n",
    "label_encoders = {}\n",
    "for col in categorical_cols:\n",
    "    le = LabelEncoder()\n",
    "    df[col] = le.fit_transform(df[col])\n",
    "    label_encoders[col] = le"
   ]
  },
  {
   "cell_type": "code",
   "execution_count": 118,
   "metadata": {},
   "outputs": [],
   "source": [
    "# Encode target variable\n",
    "tag_encoder = LabelEncoder()\n",
    "df['tag'] = tag_encoder.fit_transform(df['tag'])"
   ]
  },
  {
   "cell_type": "code",
   "execution_count": 119,
   "metadata": {},
   "outputs": [],
   "source": [
    "# Split dataset into features and target\n",
    "X = df.drop(columns=['tag'])  # Features\n",
    "y = df['tag']  # Target variable"
   ]
  },
  {
   "cell_type": "code",
   "execution_count": 120,
   "metadata": {},
   "outputs": [
    {
     "name": "stderr",
     "output_type": "stream",
     "text": [
      "C:\\Users\\AOZ\\AppData\\Roaming\\Python\\Python312\\site-packages\\sklearn\\utils\\extmath.py:1137: RuntimeWarning: invalid value encountered in divide\n",
      "  updated_mean = (last_sum + new_sum) / updated_sample_count\n",
      "C:\\Users\\AOZ\\AppData\\Roaming\\Python\\Python312\\site-packages\\sklearn\\utils\\extmath.py:1142: RuntimeWarning: invalid value encountered in divide\n",
      "  T = new_sum / new_sample_count\n",
      "C:\\Users\\AOZ\\AppData\\Roaming\\Python\\Python312\\site-packages\\sklearn\\utils\\extmath.py:1162: RuntimeWarning: invalid value encountered in divide\n",
      "  new_unnormalized_variance -= correction**2 / new_sample_count\n"
     ]
    }
   ],
   "source": [
    "# Normalize numerical features to improve model performance\n",
    "scaler = StandardScaler()\n",
    "X[numerical_cols] = scaler.fit_transform(X[numerical_cols])"
   ]
  },
  {
   "cell_type": "code",
   "execution_count": 121,
   "metadata": {},
   "outputs": [],
   "source": [
    "# Train-test split (80% train, 20% test)\n",
    "X_train, X_test, y_train, y_test = train_test_split(X, y, test_size=0.2, random_state=42)"
   ]
  },
  {
   "cell_type": "code",
   "execution_count": 122,
   "metadata": {},
   "outputs": [
    {
     "name": "stdout",
     "output_type": "stream",
     "text": [
      "Loaded pre-trained model.\n"
     ]
    }
   ],
   "source": [
    "# Check if a pre-trained model exists\n",
    "model_filename = \"models/html_tag_model.pkl\"\n",
    "scaler_filename = \"models/scaler.pkl\"\n",
    "tag_encoder_filename = \"models/tag_encoder.pkl\"\n",
    "label_encoders_filename = \"models/label_encoders.pkl\"\n",
    "\n",
    "try:\n",
    "    model = joblib.load(model_filename)\n",
    "    scaler = joblib.load(scaler_filename)\n",
    "    tag_encoder = joblib.load(tag_encoder_filename)\n",
    "    label_encoders = joblib.load(label_encoders_filename)\n",
    "    print(\"Loaded pre-trained model.\")\n",
    "except FileNotFoundError:\n",
    "    print(\"No pre-trained model found, training a new one.\")\n",
    "    model = RandomForestClassifier(n_estimators=100, random_state=42)\n",
    "    model.fit(X_train, y_train)\n",
    "    \n",
    "    # Save the trained model, scaler, and encoder\n",
    "    joblib.dump(model, model_filename)\n",
    "    joblib.dump(scaler, scaler_filename)\n",
    "    joblib.dump(tag_encoder, tag_encoder_filename)\n",
    "    joblib.dump(label_encoders, label_encoders_filename)\n",
    "    print(\"Model saved for future use.\")"
   ]
  },
  {
   "cell_type": "code",
   "execution_count": 123,
   "metadata": {},
   "outputs": [
    {
     "name": "stdout",
     "output_type": "stream",
     "text": [
      "Accuracy: 0.9619\n",
      "                      precision    recall  f1-score   support\n",
      "\n",
      "                   A       1.00      1.00      1.00      1159\n",
      "             ADDRESS       0.88      0.78      0.82         9\n",
      "             ARTICLE       0.98      0.97      0.97       121\n",
      "               ASIDE       0.00      0.00      0.00         1\n",
      "                   B       0.00      0.00      0.00         5\n",
      "                BODY       1.00      1.00      1.00         8\n",
      "              BUTTON       0.89      0.93      0.91        70\n",
      "              CANVAS       1.00      1.00      1.00        15\n",
      "             DETAILS       1.00      1.00      1.00         1\n",
      "                 DIV       0.94      0.99      0.97      3662\n",
      "                  EM       0.50      0.25      0.33         4\n",
      "          FIGCAPTION       1.00      0.93      0.96        14\n",
      "              FIGURE       1.00      0.86      0.92        56\n",
      "              FOOTER       1.00      0.87      0.93        39\n",
      "                FORM       0.75      0.60      0.67         5\n",
      "              GPT-AD       0.00      0.00      0.00         3\n",
      "           GU-ISLAND       0.83      0.42      0.56        12\n",
      "                  H1       1.00      0.33      0.50         6\n",
      "                  H2       0.95      0.81      0.88       165\n",
      "                  H3       0.99      0.87      0.93       235\n",
      "                  H4       1.00      0.80      0.89        25\n",
      "                  H5       1.00      0.86      0.92         7\n",
      "                  H6       1.00      1.00      1.00         9\n",
      "              HEADER       0.98      0.91      0.95       124\n",
      "                  HR       1.00      1.00      1.00        18\n",
      "                   I       1.00      0.87      0.93        31\n",
      "              IFRAME       1.00      0.50      0.67         4\n",
      "                 IMG       0.96      0.99      0.97       172\n",
      "               INPUT       1.00      0.50      0.67         8\n",
      "               LABEL       1.00      1.00      1.00         2\n",
      "                  LI       1.00      1.00      1.00       393\n",
      "                MAIN       0.50      0.25      0.33         4\n",
      "                 NAV       1.00      0.57      0.72        23\n",
      "NEXT-ROUTE-ANNOUNCER       1.00      1.00      1.00         2\n",
      "                  OL       0.00      0.00      0.00         2\n",
      "              OPTION       1.00      1.00      1.00         7\n",
      "                   P       0.94      0.87      0.90       182\n",
      "             PICTURE       0.98      0.99      0.99       168\n",
      "                   S       1.00      1.00      1.00         2\n",
      "             SECTION       0.88      0.69      0.77       125\n",
      "              SELECT       0.00      0.00      0.00         2\n",
      "                SPAN       0.97      0.95      0.96      1203\n",
      "              STRONG       1.00      0.89      0.94         9\n",
      "             SUMMARY       1.00      0.33      0.50         3\n",
      "                 SUP       1.00      1.00      1.00         1\n",
      "               TBODY       1.00      0.60      0.75         5\n",
      "                  TD       0.99      1.00      0.99        98\n",
      "                  TH       1.00      0.83      0.91         6\n",
      "               THEAD       1.00      1.00      1.00         1\n",
      "                TIME       1.00      0.97      0.98        64\n",
      "                  TR       1.00      0.91      0.95        11\n",
      "                 TXT       0.96      0.99      0.97      1213\n",
      "                  UL       0.92      0.69      0.79        83\n",
      "               VIDEO       0.50      0.25      0.33         4\n",
      "                 svg       1.00      1.00      1.00       226\n",
      "\n",
      "            accuracy                           0.96      9827\n",
      "           macro avg       0.86      0.74      0.78      9827\n",
      "        weighted avg       0.96      0.96      0.96      9827\n",
      "\n"
     ]
    },
    {
     "name": "stderr",
     "output_type": "stream",
     "text": [
      "C:\\Users\\AOZ\\AppData\\Roaming\\Python\\Python312\\site-packages\\sklearn\\metrics\\_classification.py:1531: UndefinedMetricWarning: Precision is ill-defined and being set to 0.0 in labels with no predicted samples. Use `zero_division` parameter to control this behavior.\n",
      "  _warn_prf(average, modifier, f\"{metric.capitalize()} is\", len(result))\n",
      "C:\\Users\\AOZ\\AppData\\Roaming\\Python\\Python312\\site-packages\\sklearn\\metrics\\_classification.py:1531: UndefinedMetricWarning: Precision is ill-defined and being set to 0.0 in labels with no predicted samples. Use `zero_division` parameter to control this behavior.\n",
      "  _warn_prf(average, modifier, f\"{metric.capitalize()} is\", len(result))\n",
      "C:\\Users\\AOZ\\AppData\\Roaming\\Python\\Python312\\site-packages\\sklearn\\metrics\\_classification.py:1531: UndefinedMetricWarning: Precision is ill-defined and being set to 0.0 in labels with no predicted samples. Use `zero_division` parameter to control this behavior.\n",
      "  _warn_prf(average, modifier, f\"{metric.capitalize()} is\", len(result))\n"
     ]
    }
   ],
   "source": [
    "# Predict and evaluate model performance\n",
    "y_pred = model.predict(X_test)\n",
    "accuracy = accuracy_score(y_test, y_pred)\n",
    "print(f'Accuracy: {accuracy:.4f}')\n",
    "print(classification_report(y_test, y_pred, labels=np.unique(y_test), target_names=tag_encoder.inverse_transform(np.unique(y_test))))"
   ]
  }
 ],
 "metadata": {
  "kernelspec": {
   "display_name": "Python 3",
   "language": "python",
   "name": "python3"
  },
  "language_info": {
   "codemirror_mode": {
    "name": "ipython",
    "version": 3
   },
   "file_extension": ".py",
   "mimetype": "text/x-python",
   "name": "python",
   "nbconvert_exporter": "python",
   "pygments_lexer": "ipython3",
   "version": "3.12.6"
  }
 },
 "nbformat": 4,
 "nbformat_minor": 2
}
