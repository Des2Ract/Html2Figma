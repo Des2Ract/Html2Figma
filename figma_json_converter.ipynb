{
 "cells": [
  {
   "cell_type": "code",
   "execution_count": 34,
   "metadata": {},
   "outputs": [],
   "source": [
    "import json"
   ]
  },
  {
   "cell_type": "code",
   "execution_count": 35,
   "metadata": {},
   "outputs": [],
   "source": [
    "# Load the JSON file\n",
    "with open(\"input.json\", \"r\", encoding=\"utf-8\") as file:\n",
    "    data = json.load(file)"
   ]
  },
  {
   "cell_type": "code",
   "execution_count": 36,
   "metadata": {},
   "outputs": [],
   "source": [
    "def process_node(node):\n",
    "    \"\"\"\n",
    "    Recursively processes a node to match the required format.\n",
    "    Each node is structured as:\n",
    "    {\n",
    "        \"tag\": \"UNK\",\n",
    "        \"node\": { original node data },\n",
    "        \"children\": [processed child nodes]\n",
    "    }\n",
    "    \"\"\"\n",
    "    processed_node = {\n",
    "        \"tag\": \"UNK\",\n",
    "        \"node\": node.copy(),  # Copy node to avoid modifying the original\n",
    "        \"children\": []\n",
    "    }\n",
    "\n",
    "    # If the node has children, process them recursively\n",
    "    if \"children\" in node and isinstance(node[\"children\"], list):\n",
    "        processed_node[\"children\"] = [process_node(child) for child in node[\"children\"]]\n",
    "\n",
    "    return processed_node"
   ]
  },
  {
   "cell_type": "code",
   "execution_count": 37,
   "metadata": {},
   "outputs": [],
   "source": [
    "# Extract the \"document\" key from the nested \"nodes\"\n",
    "document_data = {}\n",
    "\n",
    "for node in data.get(\"nodes\", {}).values():\n",
    "    if \"document\" in node:\n",
    "        document_data = node[\"document\"]\n",
    "        break  # Assuming you only need the first \"document\" found\n",
    "\n",
    "# Process the document recursively\n",
    "if document_data:\n",
    "    formatted_data = process_node(document_data)"
   ]
  },
  {
   "cell_type": "code",
   "execution_count": 38,
   "metadata": {},
   "outputs": [
    {
     "name": "stdout",
     "output_type": "stream",
     "text": [
      "Extracted 'document' and saved in recursive structured format to formatted_document.json\n"
     ]
    }
   ],
   "source": [
    "with open(\"formatted_document.json\", \"w\", encoding=\"utf-8\") as output_file:\n",
    "    json.dump(formatted_data, output_file, indent=4)\n",
    "    \n",
    "print(\"Extracted 'document' and saved in recursive structured format to formatted_document.json\")"
   ]
  }
 ],
 "metadata": {
  "kernelspec": {
   "display_name": "Python 3",
   "language": "python",
   "name": "python3"
  },
  "language_info": {
   "codemirror_mode": {
    "name": "ipython",
    "version": 3
   },
   "file_extension": ".py",
   "mimetype": "text/x-python",
   "name": "python",
   "nbconvert_exporter": "python",
   "pygments_lexer": "ipython3",
   "version": "3.10.11"
  }
 },
 "nbformat": 4,
 "nbformat_minor": 2
}
