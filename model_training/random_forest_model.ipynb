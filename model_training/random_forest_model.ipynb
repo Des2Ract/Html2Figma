{
 "cells": [
  {
   "cell_type": "code",
   "execution_count": 45,
   "metadata": {},
   "outputs": [],
   "source": [
    "import pandas as pd\n",
    "import numpy as np\n",
    "import joblib\n",
    "from sklearn.model_selection import train_test_split\n",
    "from sklearn.preprocessing import LabelEncoder, StandardScaler\n",
    "from sklearn.ensemble import RandomForestClassifier\n",
    "from sklearn.metrics import accuracy_score, classification_report"
   ]
  },
  {
   "cell_type": "code",
   "execution_count": 46,
   "metadata": {},
   "outputs": [],
   "source": [
    "# Load dataset with appropriate encoding to avoid decoding errors\n",
    "df = pd.read_csv('figma_dataset.csv')\n",
    "\n",
    "# df = df_all[~df_all['tag'].str.contains('-', na=False)]\n",
    "# df = df[~df['tag'].str.contains('BODY', na=False)]\n",
    "\n",
    "# df.to_csv('cleaned_figma_dataset.csv', index=False)"
   ]
  },
  {
   "cell_type": "code",
   "execution_count": 47,
   "metadata": {},
   "outputs": [
    {
     "name": "stdout",
     "output_type": "stream",
     "text": [
      "   has_text  num_children  text_length  is_leaf  tag_A  tag_ABBR  \\\n",
      "0         0             3            0        0      0         0   \n",
      "1         0             0            0        1      0         0   \n",
      "2         0             1            0        0      0         0   \n",
      "3         0             8            0        0      0         0   \n",
      "4         0             1            0        0      0         0   \n",
      "\n",
      "   tag_ACTIVATE-FEATURE  tag_AD-EVENT-TRACKER  tag_AD-UNIT  \\\n",
      "0                     0                     0            0   \n",
      "1                     0                     0            0   \n",
      "2                     0                     0            0   \n",
      "3                     0                     0            0   \n",
      "4                     0                     0            0   \n",
      "\n",
      "   tag_AD-UNIT-MANAGER  ...  parent_tag_html_THEAD.1  \\\n",
      "0                    0  ...                        0   \n",
      "1                    0  ...                        0   \n",
      "2                    0  ...                        0   \n",
      "3                    0  ...                        0   \n",
      "4                    0  ...                        0   \n",
      "\n",
      "   parent_tag_html_TILE-DYNAMIC.1  \\\n",
      "0                               0   \n",
      "1                               0   \n",
      "2                               0   \n",
      "3                               0   \n",
      "4                               0   \n",
      "\n",
      "   parent_tag_html_TILES-CAROUSEL-RESPONSIVE-DEPRECATED.1  \\\n",
      "0                                                  0        \n",
      "1                                                  0        \n",
      "2                                                  0        \n",
      "3                                                  0        \n",
      "4                                                  0        \n",
      "\n",
      "   parent_tag_html_TILES-CAROUSEL-RESPONSIVE-ITEM-DEPRECATED.1  \\\n",
      "0                                                  0             \n",
      "1                                                  0             \n",
      "2                                                  0             \n",
      "3                                                  0             \n",
      "4                                                  0             \n",
      "\n",
      "   parent_tag_html_TIME.1  parent_tag_html_TR.1  parent_tag_html_UL.1  \\\n",
      "0                       0                     0                     0   \n",
      "1                       0                     0                     0   \n",
      "2                       0                     0                     0   \n",
      "3                       0                     0                     0   \n",
      "4                       0                     0                     0   \n",
      "\n",
      "   parent_tag_html_WATCHLIST-BUTTON.1  parent_tag_html_WP-AD.1   tag  \n",
      "0                                   0                        0  BODY  \n",
      "1                                   0                        0   DIV  \n",
      "2                                   0                        0   DIV  \n",
      "3                                   0                        0   DIV  \n",
      "4                                   0                        0   DIV  \n",
      "\n",
      "[5 rows x 469 columns]\n"
     ]
    }
   ],
   "source": [
    "# Display first few rows to understand the structure\n",
    "print(df.head())"
   ]
  },
  {
   "cell_type": "code",
   "execution_count": 48,
   "metadata": {},
   "outputs": [],
   "source": [
    "# Define column categories based on the dataset attributes\n",
    "categorical_cols = []  # Adjust as needed\n",
    "numerical_cols = ['width', 'height', 'has_text', 'depth', 'num_children', 'sibling_count', 'is_leaf',\n",
    "                   'has_background_color',  'text_length', 'x_quarter', 'y_quarter', 'aspect_ratio', 'area']"
   ]
  },
  {
   "cell_type": "code",
   "execution_count": 49,
   "metadata": {},
   "outputs": [],
   "source": [
    "# Drop non-numeric values from numerical columns to prevent conversion errors\n",
    "# df[numerical_cols] = df[numerical_cols].apply(pd.to_numeric, errors='coerce')"
   ]
  },
  {
   "cell_type": "code",
   "execution_count": 50,
   "metadata": {},
   "outputs": [],
   "source": [
    "# Fill missing values with appropriate replacements\n",
    "# df[numerical_cols] = df[numerical_cols].fillna(df[numerical_cols].median())"
   ]
  },
  {
   "cell_type": "code",
   "execution_count": 51,
   "metadata": {},
   "outputs": [],
   "source": [
    "# Ensure all categorical columns are treated as strings before encoding\n",
    "df[categorical_cols] = df[categorical_cols].astype(str)"
   ]
  },
  {
   "cell_type": "code",
   "execution_count": 52,
   "metadata": {},
   "outputs": [],
   "source": [
    "# Encode categorical features using Label Encoding\n",
    "label_encoders = {}\n",
    "for col in categorical_cols:\n",
    "    le = LabelEncoder()\n",
    "    df[col] = le.fit_transform(df[col])\n",
    "    label_encoders[col] = le"
   ]
  },
  {
   "cell_type": "code",
   "execution_count": 53,
   "metadata": {},
   "outputs": [],
   "source": [
    "# Encode target variable\n",
    "tag_encoder = LabelEncoder()\n",
    "df['tag'] = tag_encoder.fit_transform(df['tag'])"
   ]
  },
  {
   "cell_type": "code",
   "execution_count": 54,
   "metadata": {},
   "outputs": [],
   "source": [
    "# Split dataset into features and target\n",
    "X = df.drop(columns=['tag'])  # Features\n",
    "y = df['tag']  # Target variable"
   ]
  },
  {
   "cell_type": "code",
   "execution_count": 55,
   "metadata": {},
   "outputs": [],
   "source": [
    "# Normalize numerical features to improve model performance\n",
    "scaler = StandardScaler()\n",
    "# X[numerical_cols] = scaler.fit_transform(X[numerical_cols])\n",
    "X = scaler.fit_transform(X)\n"
   ]
  },
  {
   "cell_type": "code",
   "execution_count": 56,
   "metadata": {},
   "outputs": [],
   "source": [
    "# Train-test split (80% train, 20% test)\n",
    "X_train, X_test, y_train, y_test = train_test_split(X, y, test_size=0.2, random_state=42)"
   ]
  },
  {
   "cell_type": "code",
   "execution_count": 57,
   "metadata": {},
   "outputs": [
    {
     "name": "stdout",
     "output_type": "stream",
     "text": [
      "No pre-trained model found, training a new one.\n",
      "Model saved for future use.\n"
     ]
    }
   ],
   "source": [
    "# Check if a pre-trained model exists\n",
    "model_filename = \"models/html_tag_model.pkl\"\n",
    "scaler_filename = \"models/scaler.pkl\"\n",
    "tag_encoder_filename = \"models/tag_encoder.pkl\"\n",
    "label_encoders_filename = \"models/label_encoders.pkl\"\n",
    "\n",
    "try:\n",
    "    model = joblib.load(model_filename)\n",
    "    scaler = joblib.load(scaler_filename)\n",
    "    tag_encoder = joblib.load(tag_encoder_filename)\n",
    "    label_encoders = joblib.load(label_encoders_filename)\n",
    "    print(\"Loaded pre-trained model.\")\n",
    "except FileNotFoundError:\n",
    "    print(\"No pre-trained model found, training a new one.\")\n",
    "    model = RandomForestClassifier(n_estimators=100, random_state=42)\n",
    "    model.fit(X_train, y_train)\n",
    "    \n",
    "    # Save the trained model, scaler, and encoder\n",
    "    joblib.dump(model, model_filename)\n",
    "    joblib.dump(scaler, scaler_filename)\n",
    "    joblib.dump(tag_encoder, tag_encoder_filename)\n",
    "    joblib.dump(label_encoders, label_encoders_filename)\n",
    "    print(\"Model saved for future use.\")"
   ]
  },
  {
   "cell_type": "code",
   "execution_count": 58,
   "metadata": {},
   "outputs": [
    {
     "name": "stdout",
     "output_type": "stream",
     "text": [
      "Accuracy: 0.9990\n",
      "                                           precision    recall  f1-score   support\n",
      "\n",
      "                                        A       1.00      1.00      1.00      3120\n",
      "                                     ABBR       0.67      0.67      0.67         3\n",
      "                                  ADDRESS       0.94      1.00      0.97        17\n",
      "ADS-HOME-PAGE-EDITORIAL-SPOTLIGHT-MANAGER       0.00      0.00      0.00         1\n",
      "     ADS-HOME-PAGE-FEATURED-MEDIA-MANAGER       0.00      0.00      0.00         1\n",
      "                                  ARTICLE       0.99      1.00      1.00       183\n",
      "                                    ASIDE       0.90      1.00      0.95         9\n",
      "          AUTH-FLOW-GOOGLE-ONE-TAP-PROMPT       0.00      0.00      0.00         1\n",
      "                                        B       1.00      0.86      0.92         7\n",
      "                                     BODY       1.00      1.00      1.00        20\n",
      "                                   BUTTON       1.00      1.00      1.00       360\n",
      "             CALL-TO-ACTION-GALLERY-LINKS       1.00      1.00      1.00         1\n",
      "                                   CANVAS       1.00      1.00      1.00         1\n",
      "                   CLICK-LOCATION-TRACKER       1.00      1.00      1.00         2\n",
      "                                      CNX       0.50      1.00      0.67         2\n",
      "                      CNX-LIT-UI-TEMPLATE       0.00      0.00      0.00         1\n",
      "                         COMMUNITY-STATUS       1.00      1.00      1.00         4\n",
      "                 COMMUNITY-STATUS-TOOLTIP       1.00      1.00      1.00         4\n",
      "                      D3-SERVER-COMPONENT       0.00      0.00      0.00         2\n",
      "                                     DATA       1.00      1.00      1.00         2\n",
      "                                       DD       1.00      1.00      1.00         3\n",
      "                                      DEL       0.90      1.00      0.95         9\n",
      "                                  DETAILS       1.00      1.00      1.00         4\n",
      "                                      DIV       1.00      1.00      1.00     10701\n",
      "                                       DT       1.00      1.00      1.00         6\n",
      "                      EDITORIAL-SPOTLIGHT       0.00      0.00      0.00         1\n",
      "                 EDITORIAL-SPOTLIGHT-TILE       1.00      1.00      1.00         1\n",
      "                                       EM       1.00      1.00      1.00        14\n",
      "           FACEPLATE-AUTO-HEIGHT-ANIMATOR       1.00      0.33      0.50         3\n",
      "                  FACEPLATE-DROPDOWN-MENU       0.00      0.00      0.00         1\n",
      "                      FACEPLATE-HOVERCARD       1.00      1.00      1.00        11\n",
      "                         FACEPLATE-LOADER       1.00      1.00      1.00         2\n",
      "                        FACEPLATE-PARTIAL       1.00      1.00      1.00         1\n",
      "          FACEPLATE-SCREEN-READER-CONTENT       0.92      1.00      0.96        11\n",
      "                        FACEPLATE-TIMEAGO       1.00      1.00      1.00        12\n",
      "                        FACEPLATE-TOOLTIP       0.67      1.00      0.80         2\n",
      "                        FACEPLATE-TRACKER       1.00      1.00      1.00         9\n",
      "                                   FBS-AD       1.00      1.00      1.00         3\n",
      "                                 FIELDSET       0.00      0.00      0.00         1\n",
      "                               FIGCAPTION       1.00      1.00      1.00        17\n",
      "                                   FIGURE       1.00      1.00      1.00       141\n",
      "                                   FOOTER       1.00      1.00      1.00        63\n",
      "                                     FORM       1.00      1.00      1.00        29\n",
      "                                   GPT-AD       0.33      1.00      0.50         1\n",
      "                                GU-ISLAND       1.00      1.00      1.00        16\n",
      "                                       H1       1.00      1.00      1.00        15\n",
      "                                       H2       1.00      1.00      1.00       315\n",
      "                                       H3       1.00      1.00      1.00       504\n",
      "                                       H4       1.00      1.00      1.00        61\n",
      "                                       H5       1.00      1.00      1.00         3\n",
      "                                       H6       1.00      1.00      1.00         9\n",
      "                                   HEADER       1.00      1.00      1.00       102\n",
      "                                       HR       1.00      1.00      1.00        54\n",
      "                                        I       1.00      1.00      1.00       120\n",
      "                                   IFRAME       1.00      1.00      1.00        35\n",
      "                                      IMG       1.00      1.00      1.00       709\n",
      "                                    INPUT       1.00      1.00      1.00       110\n",
      "                                    LABEL       1.00      1.00      1.00       123\n",
      "                   LEFT-NAV-TOPIC-TRACKER       1.00      1.00      1.00         2\n",
      "                                       LI       1.00      1.00      1.00      1017\n",
      "                                     MAIN       1.00      0.92      0.96        13\n",
      "                                     MARK       1.00      1.00      1.00         1\n",
      "                                      NAV       1.00      1.00      1.00        55\n",
      "                     NEXT-ROUTE-ANNOUNCER       1.00      0.40      0.57         5\n",
      "                                NSDQ-ICON       1.00      1.00      1.00         1\n",
      "               NSDQ-MARKET-STATUS-DESKTOP       0.00      0.00      0.00         1\n",
      "                                   OBJECT       1.00      1.00      1.00         1\n",
      "                                       OL       0.50      1.00      0.67         1\n",
      "                                        P       1.00      1.00      1.00       454\n",
      "                        PAGE-HOME-MANAGER       0.00      0.00      0.00         1\n",
      "                                  PICTURE       1.00      1.00      1.00       331\n",
      "                        PROGRESSIVE-IMAGE       1.00      1.00      1.00        12\n",
      "                          REACT-COMPONENT       1.00      1.00      1.00         3\n",
      "                              RPL-TOOLTIP       0.00      0.00      0.00         1\n",
      "                                 RT-BADGE       1.00      1.00      1.00         1\n",
      "                                RT-BUTTON       1.00      0.50      0.67         2\n",
      "                       RT-HEADER-NAV-ITEM       1.00      1.00      1.00         2\n",
      "                                  RT-ICON       1.00      1.00      1.00         2\n",
      "                                   RT-IMG       1.00      1.00      1.00        27\n",
      "                                  RT-TEXT       1.00      1.00      1.00        43\n",
      "                                        S       1.00      1.00      1.00         3\n",
      "                      SCORE-ICON-AUDIENCE       1.00      1.00      1.00        23\n",
      "                       SCORE-ICON-CRITICS       1.00      1.00      1.00        30\n",
      "                   SCORE-PAIRS-DEPRECATED       1.00      1.00      1.00        21\n",
      "                                   SEARCH       0.00      0.00      0.00         1\n",
      "                                  SECTION       1.00      1.00      1.00       233\n",
      "                                   SELECT       1.00      1.00      1.00         1\n",
      "                    SHREDDIT-ASPECT-RATIO       1.00      1.00      1.00         7\n",
      "                    SHREDDIT-ASYNC-LOADER       1.00      1.00      1.00        38\n",
      "         SHREDDIT-DISTINGUISHED-POST-TAGS       1.00      1.00      1.00        14\n",
      "                 SHREDDIT-DYNAMIC-AD-LINK       1.00      0.91      0.95        11\n",
      "                SHREDDIT-GALLERY-LISTENER       1.00      1.00      1.00         2\n",
      "                     SHREDDIT-JOIN-BUTTON       1.00      1.00      1.00        11\n",
      "         SHREDDIT-MEDIA-LIGHTBOX-LISTENER       1.00      1.00      1.00         2\n",
      "                        SHREDDIT-PLAYER-2       1.00      1.00      1.00         1\n",
      "                            SHREDDIT-POST       1.00      1.00      1.00        13\n",
      "                      SHREDDIT-POST-FLAIR       1.00      1.00      1.00        11\n",
      "              SHREDDIT-POST-OVERFLOW-MENU       1.00      1.00      1.00        13\n",
      "                   SHREDDIT-SORT-DROPDOWN       1.00      1.00      1.00         1\n",
      "                                     SLOT       0.00      0.00      0.00         1\n",
      "                                    SMALL       0.50      0.50      0.50         2\n",
      "                                     SPAN       1.00      1.00      1.00      3256\n",
      "                                   STRONG       1.00      0.97      0.98        29\n",
      "                                      SUP       1.00      1.00      1.00         1\n",
      "                                      SVG       1.00      1.00      1.00       863\n",
      "                                    TABLE       1.00      1.00      1.00         1\n",
      "                                    TBODY       1.00      1.00      1.00         7\n",
      "                                       TD       1.00      1.00      1.00       176\n",
      "                                TEXT-LIST       1.00      1.00      1.00         1\n",
      "                                       TH       1.00      1.00      1.00        24\n",
      "                                    THEAD       1.00      1.00      1.00         3\n",
      "                             TILE-DYNAMIC       1.00      1.00      1.00        16\n",
      "     TILES-CAROUSEL-RESPONSIVE-DEPRECATED       1.00      1.00      1.00         3\n",
      "TILES-CAROUSEL-RESPONSIVE-ITEM-DEPRECATED       1.00      1.00      1.00        20\n",
      "                                     TIME       1.00      1.00      1.00       110\n",
      "                                       TR       1.00      1.00      1.00        34\n",
      "                                      TXT       1.00      1.00      1.00      2764\n",
      "                                        U       1.00      1.00      1.00         3\n",
      "                                       UL       1.00      1.00      1.00       267\n",
      "                                   VECTOR       1.00      1.00      1.00         3\n",
      "                                    VIDEO       1.00      1.00      1.00         7\n",
      "                         WATCHLIST-BUTTON       1.00      1.00      1.00        30\n",
      "\n",
      "                                micro avg       1.00      1.00      1.00     26996\n",
      "                                macro avg       0.87      0.87      0.86     26996\n",
      "                             weighted avg       1.00      1.00      1.00     26996\n",
      "\n"
     ]
    },
    {
     "name": "stderr",
     "output_type": "stream",
     "text": [
      "C:\\Users\\kareem alaa\\AppData\\Local\\Packages\\PythonSoftwareFoundation.Python.3.10_qbz5n2kfra8p0\\LocalCache\\local-packages\\Python310\\site-packages\\sklearn\\metrics\\_classification.py:1471: UndefinedMetricWarning: Precision and F-score are ill-defined and being set to 0.0 in labels with no predicted samples. Use `zero_division` parameter to control this behavior.\n",
      "  _warn_prf(average, modifier, msg_start, len(result))\n",
      "C:\\Users\\kareem alaa\\AppData\\Local\\Packages\\PythonSoftwareFoundation.Python.3.10_qbz5n2kfra8p0\\LocalCache\\local-packages\\Python310\\site-packages\\sklearn\\metrics\\_classification.py:1471: UndefinedMetricWarning: Precision and F-score are ill-defined and being set to 0.0 in labels with no predicted samples. Use `zero_division` parameter to control this behavior.\n",
      "  _warn_prf(average, modifier, msg_start, len(result))\n",
      "C:\\Users\\kareem alaa\\AppData\\Local\\Packages\\PythonSoftwareFoundation.Python.3.10_qbz5n2kfra8p0\\LocalCache\\local-packages\\Python310\\site-packages\\sklearn\\metrics\\_classification.py:1471: UndefinedMetricWarning: Precision and F-score are ill-defined and being set to 0.0 in labels with no predicted samples. Use `zero_division` parameter to control this behavior.\n",
      "  _warn_prf(average, modifier, msg_start, len(result))\n"
     ]
    }
   ],
   "source": [
    "# Predict and evaluate model performance\n",
    "y_pred = model.predict(X_test)\n",
    "accuracy = accuracy_score(y_test, y_pred)\n",
    "print(f'Accuracy: {accuracy:.4f}')\n",
    "print(classification_report(y_test, y_pred, labels=np.unique(y_test), target_names=tag_encoder.inverse_transform(np.unique(y_test))))"
   ]
  }
 ],
 "metadata": {
  "kernelspec": {
   "display_name": "Python 3",
   "language": "python",
   "name": "python3"
  },
  "language_info": {
   "codemirror_mode": {
    "name": "ipython",
    "version": 3
   },
   "file_extension": ".py",
   "mimetype": "text/x-python",
   "name": "python",
   "nbconvert_exporter": "python",
   "pygments_lexer": "ipython3",
   "version": "3.10.11"
  }
 },
 "nbformat": 4,
 "nbformat_minor": 2
}
