{
 "cells": [
  {
   "cell_type": "code",
   "execution_count": 108,
   "metadata": {},
   "outputs": [],
   "source": [
    "import pandas as pd\n",
    "import numpy as np\n",
    "import joblib\n",
    "from sklearn.model_selection import train_test_split\n",
    "from sklearn.preprocessing import LabelEncoder, StandardScaler\n",
    "from sklearn.ensemble import RandomForestClassifier\n",
    "from sklearn.metrics import accuracy_score, classification_report"
   ]
  },
  {
   "cell_type": "code",
   "execution_count": 109,
   "metadata": {},
   "outputs": [],
   "source": [
    "# Load dataset with appropriate encoding to avoid decoding errors\n",
    "df_all = pd.read_csv('figma_dataset.csv')\n",
    "\n",
    "df = df_all[~df_all['tag'].str.contains('-', na=False)]\n",
    "df = df[~df['tag'].str.contains('BODY', na=False)]\n",
    "\n",
    "df.to_csv('cleaned_figma_dataset.csv', index=False)"
   ]
  },
  {
   "cell_type": "code",
   "execution_count": 110,
   "metadata": {},
   "outputs": [
    {
     "name": "stdout",
     "output_type": "stream",
     "text": [
      "   tag         type     width    height characters  has_text  depth  \\\n",
      "1  DIV        GROUP  0.990183  0.000000        NaN         0      1   \n",
      "2  DIV        GROUP  0.990183  1.000000        NaN         0      1   \n",
      "3  DIV        GROUP  0.990183  1.000000        NaN         0      2   \n",
      "4  DIV        GROUP  0.990183  0.000000        NaN         0      3   \n",
      "5    A  LINK_UNFURL  0.090969  0.004207        NaN         0      4   \n",
      "\n",
      "   num_children parent_tag  sibling_count  ...  text_length  word_count  \\\n",
      "1      0.000000      FRAME       0.117647  ...          0.0         0.0   \n",
      "2      0.055556      FRAME       0.117647  ...          0.0         0.0   \n",
      "3      0.444444      GROUP       0.000000  ...          0.0         0.0   \n",
      "4      0.055556      GROUP       0.411765  ...          0.0         0.0   \n",
      "5      0.055556      GROUP       0.000000  ...          0.0         0.0   \n",
      "\n",
      "   contains_number contains_special_chars  x_quarter  y_quarter  aspect_ratio  \\\n",
      "1                0                      0   0.500000   0.000000           NaN   \n",
      "2                0                      0   0.500000   0.500000      0.172049   \n",
      "3                0                      0   0.500000   0.500000      0.172049   \n",
      "4                0                      0   0.500000   0.000000           NaN   \n",
      "5                0                      0   0.045935  -1.134922      3.756757   \n",
      "\n",
      "       area  normalized_width  normalized_height  \n",
      "1  0.000000           1.00000           0.000000  \n",
      "2  1.000000           1.00000           1.000000  \n",
      "3  1.000000           1.00000           1.000000  \n",
      "4  0.000000           1.00000           0.000000  \n",
      "5  0.000387           0.09187           0.004207  \n",
      "\n",
      "[5 rows x 44 columns]\n"
     ]
    }
   ],
   "source": [
    "# Display first few rows to understand the structure\n",
    "print(df.head())"
   ]
  },
  {
   "cell_type": "code",
   "execution_count": 111,
   "metadata": {},
   "outputs": [],
   "source": [
    "# Define column categories based on the dataset attributes\n",
    "categorical_cols = [\"type\", \"parent_tag\",\"characters\", \"font_name\"]  # Adjust as needed\n",
    "numerical_cols = ['width', 'height', 'has_text', 'depth', 'num_children', 'sibling_count', 'is_leaf', 'font_size', 'has_font_size',\n",
    "                   'has_text_color', 'color_r', 'color_g', 'color_b', 'has_background_color', 'background_r', 'background_g',\n",
    "                   'background_b', 'border_radius', 'border_r', 'border_g', 'border_b', 'border_weight',\n",
    "                   'has_shadow', 'shadow_r', 'shadow_g', 'shadow_b','shadow_radius', 'text_length', 'word_count', 'contains_number', 'contains_special_chars', 'has_border', 'border_opacity', 'x_quarter', 'y_quarter', 'aspect_ratio', 'area',\n",
    "                   'normalized_width', 'normalized_height']"
   ]
  },
  {
   "cell_type": "code",
   "execution_count": 112,
   "metadata": {},
   "outputs": [],
   "source": [
    "# Drop non-numeric values from numerical columns to prevent conversion errors\n",
    "df[numerical_cols] = df[numerical_cols].apply(pd.to_numeric, errors='coerce')"
   ]
  },
  {
   "cell_type": "code",
   "execution_count": 113,
   "metadata": {},
   "outputs": [],
   "source": [
    "# Fill missing values with appropriate replacements\n",
    "df[numerical_cols] = df[numerical_cols].fillna(df[numerical_cols].median())"
   ]
  },
  {
   "cell_type": "code",
   "execution_count": 114,
   "metadata": {},
   "outputs": [],
   "source": [
    "# Ensure all categorical columns are treated as strings before encoding\n",
    "df[categorical_cols] = df[categorical_cols].astype(str)"
   ]
  },
  {
   "cell_type": "code",
   "execution_count": 115,
   "metadata": {},
   "outputs": [],
   "source": [
    "# Encode categorical features using Label Encoding\n",
    "label_encoders = {}\n",
    "for col in categorical_cols:\n",
    "    le = LabelEncoder()\n",
    "    df[col] = le.fit_transform(df[col])\n",
    "    label_encoders[col] = le"
   ]
  },
  {
   "cell_type": "code",
   "execution_count": 116,
   "metadata": {},
   "outputs": [],
   "source": [
    "# Encode target variable\n",
    "tag_encoder = LabelEncoder()\n",
    "df['tag'] = tag_encoder.fit_transform(df['tag'])"
   ]
  },
  {
   "cell_type": "code",
   "execution_count": 117,
   "metadata": {},
   "outputs": [],
   "source": [
    "# Split dataset into features and target\n",
    "X = df.drop(columns=['tag'])  # Features\n",
    "y = df['tag']  # Target variable"
   ]
  },
  {
   "cell_type": "code",
   "execution_count": 118,
   "metadata": {},
   "outputs": [],
   "source": [
    "# Normalize numerical features to improve model performance\n",
    "scaler = StandardScaler()\n",
    "X[numerical_cols] = scaler.fit_transform(X[numerical_cols])"
   ]
  },
  {
   "cell_type": "code",
   "execution_count": 119,
   "metadata": {},
   "outputs": [],
   "source": [
    "# Train-test split (80% train, 20% test)\n",
    "X_train, X_test, y_train, y_test = train_test_split(X, y, test_size=0.2, random_state=42)"
   ]
  },
  {
   "cell_type": "code",
   "execution_count": 120,
   "metadata": {},
   "outputs": [
    {
     "name": "stdout",
     "output_type": "stream",
     "text": [
      "No pre-trained model found, training a new one.\n",
      "Model saved for future use.\n"
     ]
    }
   ],
   "source": [
    "# Check if a pre-trained model exists\n",
    "model_filename = \"models/html_tag_model.pkl\"\n",
    "scaler_filename = \"models/scaler.pkl\"\n",
    "tag_encoder_filename = \"models/tag_encoder.pkl\"\n",
    "label_encoders_filename = \"models/label_encoders.pkl\"\n",
    "\n",
    "try:\n",
    "    model = joblib.load(model_filename)\n",
    "    scaler = joblib.load(scaler_filename)\n",
    "    tag_encoder = joblib.load(tag_encoder_filename)\n",
    "    label_encoders = joblib.load(label_encoders_filename)\n",
    "    print(\"Loaded pre-trained model.\")\n",
    "except FileNotFoundError:\n",
    "    print(\"No pre-trained model found, training a new one.\")\n",
    "    model = RandomForestClassifier(n_estimators=100, random_state=42)\n",
    "    model.fit(X_train, y_train)\n",
    "    \n",
    "    # Save the trained model, scaler, and encoder\n",
    "    joblib.dump(model, model_filename)\n",
    "    joblib.dump(scaler, scaler_filename)\n",
    "    joblib.dump(tag_encoder, tag_encoder_filename)\n",
    "    joblib.dump(label_encoders, label_encoders_filename)\n",
    "    print(\"Model saved for future use.\")"
   ]
  },
  {
   "cell_type": "code",
   "execution_count": 121,
   "metadata": {},
   "outputs": [
    {
     "name": "stdout",
     "output_type": "stream",
     "text": [
      "Accuracy: 0.9566\n",
      "              precision    recall  f1-score   support\n",
      "\n",
      "           A       1.00      1.00      1.00      3140\n",
      "        ABBR       1.00      0.50      0.67         2\n",
      "     ADDRESS       0.85      1.00      0.92        11\n",
      "     ARTICLE       0.99      0.93      0.96       196\n",
      "       ASIDE       1.00      0.27      0.43        11\n",
      "           B       1.00      0.50      0.67         6\n",
      "  BLOCKQUOTE       0.00      0.00      0.00         1\n",
      "      BUTTON       0.95      0.94      0.95       331\n",
      "      CANVAS       0.00      0.00      0.00         1\n",
      "        CITE       0.00      0.00      0.00         1\n",
      "          DD       1.00      1.00      1.00         1\n",
      "         DEL       1.00      1.00      1.00         8\n",
      "     DETAILS       1.00      1.00      1.00         2\n",
      "         DIV       0.94      0.99      0.97     10672\n",
      "          DL       0.00      0.00      0.00         3\n",
      "          DT       1.00      1.00      1.00         1\n",
      "          EM       0.80      0.27      0.40        15\n",
      "    FIELDSET       0.00      0.00      0.00         1\n",
      "  FIGCAPTION       1.00      0.79      0.88        14\n",
      "      FIGURE       0.98      0.90      0.94       166\n",
      "      FOOTER       0.90      0.72      0.80        60\n",
      "        FORM       0.84      0.82      0.83        33\n",
      "          H1       0.67      0.27      0.38        15\n",
      "          H2       0.93      0.81      0.87       318\n",
      "          H3       0.99      0.87      0.93       489\n",
      "          H4       0.98      0.94      0.96        65\n",
      "          H5       1.00      0.85      0.92        13\n",
      "          H6       1.00      0.90      0.95        10\n",
      "      HEADER       0.97      0.77      0.86       118\n",
      "      HGROUP       1.00      0.50      0.67         2\n",
      "          HR       1.00      0.98      0.99        41\n",
      "           I       0.98      0.99      0.99       110\n",
      "      IFRAME       0.97      0.75      0.85        44\n",
      "         IMG       0.96      1.00      0.98       728\n",
      "       INPUT       1.00      0.87      0.93       109\n",
      "       LABEL       0.97      0.84      0.90       119\n",
      "          LI       0.97      0.95      0.96      1029\n",
      "        MAIN       0.80      0.29      0.42        14\n",
      "        MARK       0.00      0.00      0.00         1\n",
      "        MENU       0.00      0.00      0.00         1\n",
      "         NAV       0.58      0.15      0.24        46\n",
      "          OL       0.00      0.00      0.00         3\n",
      "           P       0.92      0.87      0.89       459\n",
      "     PICTURE       0.99      0.95      0.97       340\n",
      "           S       1.00      1.00      1.00         2\n",
      "      SEARCH       0.00      0.00      0.00         1\n",
      "     SECTION       0.91      0.57      0.70       250\n",
      "      SELECT       0.00      0.00      0.00         1\n",
      "        SLOT       0.00      0.00      0.00         2\n",
      "       SMALL       1.00      0.83      0.91         6\n",
      "        SPAN       0.95      0.93      0.94      3195\n",
      "      STRONG       0.93      0.76      0.83        33\n",
      "     SUMMARY       1.00      1.00      1.00         2\n",
      "         SUP       1.00      0.50      0.67         2\n",
      "         SVG       1.00      1.00      1.00       919\n",
      "       TABLE       1.00      0.60      0.75         5\n",
      "          TD       0.99      1.00      1.00       164\n",
      "          TH       1.00      0.94      0.97        31\n",
      "       THEAD       1.00      0.86      0.92         7\n",
      "        TIME       0.95      0.95      0.95       109\n",
      "          TR       1.00      0.94      0.97        31\n",
      "         TXT       0.95      0.98      0.97      2747\n",
      "           U       1.00      0.50      0.67         2\n",
      "          UL       0.88      0.56      0.69       253\n",
      "      VECTOR       1.00      1.00      1.00         3\n",
      "       VIDEO       0.80      0.44      0.57         9\n",
      "\n",
      "    accuracy                           0.96     26524\n",
      "   macro avg       0.79      0.66      0.71     26524\n",
      "weighted avg       0.96      0.96      0.95     26524\n",
      "\n"
     ]
    },
    {
     "name": "stderr",
     "output_type": "stream",
     "text": [
      "C:\\Users\\kareem alaa\\AppData\\Local\\Packages\\PythonSoftwareFoundation.Python.3.10_qbz5n2kfra8p0\\LocalCache\\local-packages\\Python310\\site-packages\\sklearn\\metrics\\_classification.py:1471: UndefinedMetricWarning: Precision and F-score are ill-defined and being set to 0.0 in labels with no predicted samples. Use `zero_division` parameter to control this behavior.\n",
      "  _warn_prf(average, modifier, msg_start, len(result))\n",
      "C:\\Users\\kareem alaa\\AppData\\Local\\Packages\\PythonSoftwareFoundation.Python.3.10_qbz5n2kfra8p0\\LocalCache\\local-packages\\Python310\\site-packages\\sklearn\\metrics\\_classification.py:1471: UndefinedMetricWarning: Precision and F-score are ill-defined and being set to 0.0 in labels with no predicted samples. Use `zero_division` parameter to control this behavior.\n",
      "  _warn_prf(average, modifier, msg_start, len(result))\n",
      "C:\\Users\\kareem alaa\\AppData\\Local\\Packages\\PythonSoftwareFoundation.Python.3.10_qbz5n2kfra8p0\\LocalCache\\local-packages\\Python310\\site-packages\\sklearn\\metrics\\_classification.py:1471: UndefinedMetricWarning: Precision and F-score are ill-defined and being set to 0.0 in labels with no predicted samples. Use `zero_division` parameter to control this behavior.\n",
      "  _warn_prf(average, modifier, msg_start, len(result))\n"
     ]
    }
   ],
   "source": [
    "# Predict and evaluate model performance\n",
    "y_pred = model.predict(X_test)\n",
    "accuracy = accuracy_score(y_test, y_pred)\n",
    "print(f'Accuracy: {accuracy:.4f}')\n",
    "print(classification_report(y_test, y_pred, labels=np.unique(y_test), target_names=tag_encoder.inverse_transform(np.unique(y_test))))"
   ]
  }
 ],
 "metadata": {
  "kernelspec": {
   "display_name": "Python 3",
   "language": "python",
   "name": "python3"
  },
  "language_info": {
   "codemirror_mode": {
    "name": "ipython",
    "version": 3
   },
   "file_extension": ".py",
   "mimetype": "text/x-python",
   "name": "python",
   "nbconvert_exporter": "python",
   "pygments_lexer": "ipython3",
   "version": "3.10.11"
  }
 },
 "nbformat": 4,
 "nbformat_minor": 2
}
