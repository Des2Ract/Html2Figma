{
 "cells": [
  {
   "cell_type": "code",
   "execution_count": 1,
   "metadata": {},
   "outputs": [],
   "source": [
    "import pandas as pd\n",
    "import numpy as np\n",
    "import joblib\n",
    "from sklearn.model_selection import train_test_split\n",
    "from sklearn.preprocessing import LabelEncoder, StandardScaler\n",
    "from sklearn.ensemble import RandomForestClassifier\n",
    "from sklearn.metrics import accuracy_score, classification_report"
   ]
  },
  {
   "cell_type": "code",
   "execution_count": 2,
   "metadata": {},
   "outputs": [],
   "source": [
    "# Load dataset with appropriate encoding to avoid decoding errors\n",
    "df = pd.read_csv('figma_optimized_dataset.csv')\n",
    "\n",
    "# df = df_all[~df_all['tag'].str.contains('-', na=False)]\n",
    "# df = df[~df['tag'].str.contains('BODY', na=False)]\n",
    "\n",
    "# df.to_csv('cleaned_figma_dataset.csv', index=False)"
   ]
  },
  {
   "cell_type": "code",
   "execution_count": 3,
   "metadata": {},
   "outputs": [
    {
     "name": "stdout",
     "output_type": "stream",
     "text": [
      "         PC1        PC2       PC8       PC7      PC10      PC11       PC4  \\\n",
      "0 -10.456620  19.955786 -1.254755 -4.230132  1.764622  1.261263  5.250890   \n",
      "1  -1.346738   1.510911 -3.105211  1.343486 -0.117786 -1.069568 -2.537830   \n",
      "2  -9.924718  19.835341 -1.896483 -4.941873  2.530880  1.099762  5.110145   \n",
      "3 -11.506617  19.986284  1.212070 -3.108289  0.270314  0.775446  5.773297   \n",
      "4  -2.393656   1.039023 -1.591040  1.379942 -0.078820 -1.282428 -2.578143   \n",
      "\n",
      "        PC6       PC5       PC3   tag  \n",
      "0  0.086313 -0.323922 -4.935746  BODY  \n",
      "1 -0.378217  0.027428  1.778215   DIV  \n",
      "2 -0.038850 -0.356529 -4.959775   DIV  \n",
      "3  0.263192 -0.209072 -5.113504   DIV  \n",
      "4 -0.558794  0.218324  1.756876   DIV  \n"
     ]
    }
   ],
   "source": [
    "# Display first few rows to understand the structure\n",
    "print(df.head())"
   ]
  },
  {
   "cell_type": "code",
   "execution_count": 4,
   "metadata": {},
   "outputs": [],
   "source": [
    "# Define column categories based on the dataset attributes\n",
    "categorical_cols = []  # Adjust as needed\n",
    "numerical_cols = ['width', 'height', 'has_text', 'depth', 'num_children', 'sibling_count', 'is_leaf',\n",
    "                   'has_background_color',  'text_length', 'x_quarter', 'y_quarter', 'aspect_ratio', 'area']"
   ]
  },
  {
   "cell_type": "code",
   "execution_count": 5,
   "metadata": {},
   "outputs": [],
   "source": [
    "# Drop non-numeric values from numerical columns to prevent conversion errors\n",
    "# df[numerical_cols] = df[numerical_cols].apply(pd.to_numeric, errors='coerce')"
   ]
  },
  {
   "cell_type": "code",
   "execution_count": 6,
   "metadata": {},
   "outputs": [],
   "source": [
    "# Fill missing values with appropriate replacements\n",
    "# df[numerical_cols] = df[numerical_cols].fillna(df[numerical_cols].median())"
   ]
  },
  {
   "cell_type": "code",
   "execution_count": 7,
   "metadata": {},
   "outputs": [],
   "source": [
    "# Ensure all categorical columns are treated as strings before encoding\n",
    "df[categorical_cols] = df[categorical_cols].astype(str)"
   ]
  },
  {
   "cell_type": "code",
   "execution_count": 8,
   "metadata": {},
   "outputs": [],
   "source": [
    "# Encode categorical features using Label Encoding\n",
    "label_encoders = {}\n",
    "for col in categorical_cols:\n",
    "    le = LabelEncoder()\n",
    "    df[col] = le.fit_transform(df[col])\n",
    "    label_encoders[col] = le"
   ]
  },
  {
   "cell_type": "code",
   "execution_count": 9,
   "metadata": {},
   "outputs": [],
   "source": [
    "# Encode target variable\n",
    "tag_encoder = LabelEncoder()\n",
    "df['tag'] = tag_encoder.fit_transform(df['tag'])"
   ]
  },
  {
   "cell_type": "code",
   "execution_count": 10,
   "metadata": {},
   "outputs": [],
   "source": [
    "# Split dataset into features and target\n",
    "X = df.drop(columns=['tag'])  # Features\n",
    "y = df['tag']  # Target variable"
   ]
  },
  {
   "cell_type": "code",
   "execution_count": 11,
   "metadata": {},
   "outputs": [],
   "source": [
    "# Normalize numerical features to improve model performance\n",
    "scaler = StandardScaler()\n",
    "# X[numerical_cols] = scaler.fit_transform(X[numerical_cols])\n",
    "X = scaler.fit_transform(X)\n"
   ]
  },
  {
   "cell_type": "code",
   "execution_count": 12,
   "metadata": {},
   "outputs": [],
   "source": [
    "# Train-test split (80% train, 20% test)\n",
    "X_train, X_test, y_train, y_test = train_test_split(X, y, test_size=0.2, random_state=42)"
   ]
  },
  {
   "cell_type": "code",
   "execution_count": 13,
   "metadata": {},
   "outputs": [
    {
     "name": "stdout",
     "output_type": "stream",
     "text": [
      "No pre-trained model found, training a new one.\n",
      "Model saved for future use.\n"
     ]
    }
   ],
   "source": [
    "# Check if a pre-trained model exists\n",
    "model_filename = \"models/html_tag_model.pkl\"\n",
    "scaler_filename = \"models/scaler.pkl\"\n",
    "tag_encoder_filename = \"models/tag_encoder.pkl\"\n",
    "label_encoders_filename = \"models/label_encoders.pkl\"\n",
    "\n",
    "try:\n",
    "    model = joblib.load(model_filename)\n",
    "    scaler = joblib.load(scaler_filename)\n",
    "    tag_encoder = joblib.load(tag_encoder_filename)\n",
    "    label_encoders = joblib.load(label_encoders_filename)\n",
    "    print(\"Loaded pre-trained model.\")\n",
    "except FileNotFoundError:\n",
    "    print(\"No pre-trained model found, training a new one.\")\n",
    "    model = RandomForestClassifier(n_estimators=100, random_state=42)\n",
    "    model.fit(X_train, y_train)\n",
    "    \n",
    "    # Save the trained model, scaler, and encoder\n",
    "    joblib.dump(model, model_filename)\n",
    "    joblib.dump(scaler, scaler_filename)\n",
    "    joblib.dump(tag_encoder, tag_encoder_filename)\n",
    "    joblib.dump(label_encoders, label_encoders_filename)\n",
    "    print(\"Model saved for future use.\")"
   ]
  },
  {
   "cell_type": "code",
   "execution_count": 14,
   "metadata": {},
   "outputs": [
    {
     "name": "stdout",
     "output_type": "stream",
     "text": [
      "Accuracy: 0.8841\n",
      "              precision    recall  f1-score   support\n",
      "\n",
      "           A       0.89      0.84      0.86      3118\n",
      "     ADDRESS       0.88      0.88      0.88        16\n",
      "     ARTICLE       0.97      0.87      0.91       178\n",
      "       ASIDE       0.00      0.00      0.00        12\n",
      "           B       1.00      0.17      0.29         6\n",
      "        BODY       1.00      0.82      0.90        22\n",
      "      BUTTON       0.90      0.72      0.80       357\n",
      "      CANVAS       0.00      0.00      0.00         2\n",
      "        DATA       1.00      1.00      1.00         1\n",
      "          DD       1.00      1.00      1.00         1\n",
      "         DEL       1.00      0.71      0.83         7\n",
      "     DETAILS       1.00      1.00      1.00         1\n",
      "         DIV       0.88      0.96      0.92     10568\n",
      "          DL       0.00      0.00      0.00         2\n",
      "          DT       0.50      0.50      0.50         2\n",
      "          EM       1.00      0.08      0.15        12\n",
      "  FIGCAPTION       1.00      0.41      0.58        22\n",
      "      FIGURE       0.99      0.70      0.82       158\n",
      "      FOOTER       0.90      0.65      0.75        71\n",
      "        FORM       0.93      0.54      0.68        24\n",
      "          H1       1.00      0.33      0.50        12\n",
      "          H2       0.86      0.63      0.73       324\n",
      "          H3       0.91      0.68      0.78       526\n",
      "          H4       0.96      0.82      0.89        67\n",
      "          H5       0.67      0.80      0.73        10\n",
      "          H6       1.00      0.78      0.88         9\n",
      "      HEADER       0.95      0.72      0.82       127\n",
      "      HGROUP       0.00      0.00      0.00         2\n",
      "          HR       0.98      0.89      0.93        47\n",
      "           I       0.96      0.89      0.92       115\n",
      "      IFRAME       0.79      0.41      0.54        37\n",
      "         IMG       0.88      0.89      0.88       699\n",
      "       INPUT       0.98      0.82      0.89       119\n",
      "       LABEL       0.99      0.89      0.94       114\n",
      "      LEGEND       0.00      0.00      0.00         1\n",
      "          LI       0.95      0.92      0.93      1052\n",
      "        MAIN       0.00      0.00      0.00        11\n",
      "         NAV       0.80      0.13      0.22        31\n",
      "      OBJECT       1.00      0.50      0.67         2\n",
      "          OL       1.00      0.17      0.29         6\n",
      "           P       0.82      0.64      0.72       455\n",
      "     PICTURE       0.94      0.89      0.92       313\n",
      "           S       0.00      0.00      0.00         3\n",
      "     SECTION       0.89      0.52      0.66       244\n",
      "      SELECT       0.00      0.00      0.00         1\n",
      "       SMALL       1.00      0.67      0.80         3\n",
      "      SOURCE       0.00      0.00      0.00         1\n",
      "        SPAN       0.87      0.83      0.85      3157\n",
      "      STRONG       1.00      0.51      0.68        35\n",
      "     SUMMARY       1.00      0.14      0.25         7\n",
      "         SUP       0.00      0.00      0.00         1\n",
      "         SVG       0.92      0.95      0.93       909\n",
      "       TABLE       1.00      0.75      0.86         4\n",
      "       TBODY       1.00      0.14      0.25         7\n",
      "          TD       0.92      1.00      0.96       167\n",
      "          TH       0.93      0.48      0.63        27\n",
      "       THEAD       1.00      0.60      0.75         5\n",
      "        TIME       0.86      0.82      0.84       128\n",
      "          TR       0.94      0.97      0.95        32\n",
      "         TXT       0.85      0.93      0.89      2882\n",
      "          UL       0.80      0.58      0.68       268\n",
      "      VECTOR       0.00      0.00      0.00         2\n",
      "       VIDEO       0.00      0.00      0.00         6\n",
      "\n",
      "    accuracy                           0.88     26548\n",
      "   macro avg       0.75      0.55      0.60     26548\n",
      "weighted avg       0.88      0.88      0.88     26548\n",
      "\n"
     ]
    },
    {
     "name": "stderr",
     "output_type": "stream",
     "text": [
      "C:\\Users\\kareem alaa\\AppData\\Local\\Packages\\PythonSoftwareFoundation.Python.3.10_qbz5n2kfra8p0\\LocalCache\\local-packages\\Python310\\site-packages\\sklearn\\metrics\\_classification.py:1471: UndefinedMetricWarning: Precision and F-score are ill-defined and being set to 0.0 in labels with no predicted samples. Use `zero_division` parameter to control this behavior.\n",
      "  _warn_prf(average, modifier, msg_start, len(result))\n",
      "C:\\Users\\kareem alaa\\AppData\\Local\\Packages\\PythonSoftwareFoundation.Python.3.10_qbz5n2kfra8p0\\LocalCache\\local-packages\\Python310\\site-packages\\sklearn\\metrics\\_classification.py:1471: UndefinedMetricWarning: Precision and F-score are ill-defined and being set to 0.0 in labels with no predicted samples. Use `zero_division` parameter to control this behavior.\n",
      "  _warn_prf(average, modifier, msg_start, len(result))\n",
      "C:\\Users\\kareem alaa\\AppData\\Local\\Packages\\PythonSoftwareFoundation.Python.3.10_qbz5n2kfra8p0\\LocalCache\\local-packages\\Python310\\site-packages\\sklearn\\metrics\\_classification.py:1471: UndefinedMetricWarning: Precision and F-score are ill-defined and being set to 0.0 in labels with no predicted samples. Use `zero_division` parameter to control this behavior.\n",
      "  _warn_prf(average, modifier, msg_start, len(result))\n"
     ]
    }
   ],
   "source": [
    "# Predict and evaluate model performance\n",
    "y_pred = model.predict(X_test)\n",
    "accuracy = accuracy_score(y_test, y_pred)\n",
    "print(f'Accuracy: {accuracy:.4f}')\n",
    "print(classification_report(y_test, y_pred, labels=np.unique(y_test), target_names=tag_encoder.inverse_transform(np.unique(y_test))))"
   ]
  }
 ],
 "metadata": {
  "kernelspec": {
   "display_name": "Python 3",
   "language": "python",
   "name": "python3"
  },
  "language_info": {
   "codemirror_mode": {
    "name": "ipython",
    "version": 3
   },
   "file_extension": ".py",
   "mimetype": "text/x-python",
   "name": "python",
   "nbconvert_exporter": "python",
   "pygments_lexer": "ipython3",
   "version": "3.10.11"
  }
 },
 "nbformat": 4,
 "nbformat_minor": 2
}
