{
 "cells": [
  {
   "cell_type": "code",
   "execution_count": 1,
   "metadata": {},
   "outputs": [],
   "source": [
    "import torch\n",
    "import torch.nn as nn\n",
    "import torch.optim as optim\n",
    "import pandas as pd\n",
    "import numpy as np\n",
    "import joblib\n",
    "import time\n",
    "from sklearn.preprocessing import LabelEncoder, StandardScaler, OneHotEncoder\n",
    "from sklearn.impute import SimpleImputer\n",
    "from sklearn.model_selection import train_test_split\n",
    "from sklearn.metrics import accuracy_score, classification_report\n",
    "from sklearn.utils.class_weight import compute_class_weight\n",
    "from torch.amp import autocast, GradScaler\n",
    "from torch.utils.data import TensorDataset, DataLoader"
   ]
  },
  {
   "cell_type": "code",
   "execution_count": 2,
   "metadata": {},
   "outputs": [],
   "source": [
    "# Enable cuDNN benchmarking for faster training\n",
    "torch.backends.cudnn.benchmark = True"
   ]
  },
  {
   "cell_type": "code",
   "execution_count": 3,
   "metadata": {},
   "outputs": [
    {
     "name": "stderr",
     "output_type": "stream",
     "text": [
      "C:\\Users\\AOZ\\AppData\\Local\\Temp\\ipykernel_25352\\3865457134.py:3: UserWarning: This pattern is interpreted as a regular expression, and has match groups. To actually get the groups, use str.extract.\n",
      "  df = df[~df['tag'].str.contains(r'(-|CNX|ADDRESS|ASIDE|CANVAS|CITE|DD|DL|DT|ICON|S|SUP|VECTOR|DEL|LEGEND|BDI|LOGO|OBJECT|OPTGROUP)', regex=True)]\n"
     ]
    }
   ],
   "source": [
    "# 1. Load dataset and remove rows with '-' in the tag column\n",
    "df = pd.read_csv(\"figma_full_dataset.csv\")\n",
    "df = df[~df['tag'].str.contains(r'(-|CNX|ADDRESS|ASIDE|CANVAS|CITE|DD|DL|DT|ICON|S|SUP|VECTOR|DEL|LEGEND|BDI|LOGO|OBJECT|OPTGROUP)', regex=True)]"
   ]
  },
  {
   "cell_type": "code",
   "execution_count": 4,
   "metadata": {},
   "outputs": [],
   "source": [
    "# 2. Separate features and target\n",
    "y = df[\"tag\"]\n",
    "X = df.drop(columns=[\"tag\"])"
   ]
  },
  {
   "cell_type": "code",
   "execution_count": 5,
   "metadata": {},
   "outputs": [],
   "source": [
    "# 3. Identify categorical and continuous columns\n",
    "categorical_cols = ['type','parent_tag','parent_tag_html']\n",
    "continuous_cols = [col for col in X.columns if col not in categorical_cols]"
   ]
  },
  {
   "cell_type": "code",
   "execution_count": 6,
   "metadata": {},
   "outputs": [
    {
     "data": {
      "text/plain": [
       "['ohe_encoder.pkl']"
      ]
     },
     "execution_count": 6,
     "metadata": {},
     "output_type": "execute_result"
    }
   ],
   "source": [
    "# Process categorical features with OneHotEncoder instead of LabelEncoder\n",
    "X[categorical_cols] = X[categorical_cols].astype(str).fillna('unknown')\n",
    "ohe = OneHotEncoder(sparse_output=False, handle_unknown='ignore')\n",
    "X_cat_encoded = ohe.fit_transform(X[categorical_cols])\n",
    "joblib.dump(ohe, \"ohe_encoder.pkl\")"
   ]
  },
  {
   "cell_type": "code",
   "execution_count": 7,
   "metadata": {},
   "outputs": [
    {
     "data": {
      "text/plain": [
       "['imputer.pkl']"
      ]
     },
     "execution_count": 7,
     "metadata": {},
     "output_type": "execute_result"
    }
   ],
   "source": [
    "# Better missing value handling with imputer\n",
    "imputer = SimpleImputer(strategy='median')\n",
    "X_continuous_imputed = imputer.fit_transform(X[continuous_cols])\n",
    "joblib.dump(imputer, \"imputer.pkl\")"
   ]
  },
  {
   "cell_type": "code",
   "execution_count": 8,
   "metadata": {},
   "outputs": [
    {
     "data": {
      "text/plain": [
       "['scaler.pkl']"
      ]
     },
     "execution_count": 8,
     "metadata": {},
     "output_type": "execute_result"
    }
   ],
   "source": [
    "# Scale continuous features\n",
    "scaler = StandardScaler()\n",
    "X_continuous_scaled = scaler.fit_transform(X_continuous_imputed)\n",
    "joblib.dump(scaler, \"scaler.pkl\")"
   ]
  },
  {
   "cell_type": "code",
   "execution_count": 9,
   "metadata": {},
   "outputs": [],
   "source": [
    "# Combine one-hot encoded categorical features with scaled continuous features\n",
    "X_processed = np.concatenate([X_cat_encoded, X_continuous_scaled], axis=1)"
   ]
  },
  {
   "cell_type": "code",
   "execution_count": 10,
   "metadata": {},
   "outputs": [
    {
     "data": {
      "text/plain": [
       "['label_encoder.pkl']"
      ]
     },
     "execution_count": 10,
     "metadata": {},
     "output_type": "execute_result"
    }
   ],
   "source": [
    "# 4. Encode target labels\n",
    "label_encoder = LabelEncoder()\n",
    "y_encoded = label_encoder.fit_transform(y)\n",
    "joblib.dump(label_encoder, \"label_encoder.pkl\")"
   ]
  },
  {
   "cell_type": "code",
   "execution_count": 11,
   "metadata": {},
   "outputs": [
    {
     "name": "stdout",
     "output_type": "stream",
     "text": [
      "Duplicating class 'TEXTAREA' (only 1 sample present).\n"
     ]
    }
   ],
   "source": [
    "from collections import Counter\n",
    "\n",
    "# Count occurrences of each class\n",
    "class_counts = Counter(y_encoded)\n",
    "\n",
    "# Find classes with only 1 sample\n",
    "rare_classes = [cls for cls, count in class_counts.items() if count < 2]\n",
    "\n",
    "# Duplicate rare class samples\n",
    "for cls in rare_classes:\n",
    "    idx = np.where(y_encoded == cls)[0][0]  # Get the index of the rare sample\n",
    "    original_class_name = label_encoder.inverse_transform([cls])[0]  # Convert back to original label\n",
    "    print(f\"Duplicating class '{original_class_name}' (only 1 sample present).\")\n",
    "\n",
    "    X_processed = np.vstack([X_processed, X_processed[idx]])  # Duplicate features\n",
    "    y_encoded = np.append(y_encoded, y_encoded[idx])  # Duplicate label"
   ]
  },
  {
   "cell_type": "code",
   "execution_count": 12,
   "metadata": {},
   "outputs": [],
   "source": [
    "# 5. Train/test split - remove stratification if there are classes with too few samples\n",
    "unique_counts = np.unique(y_encoded, return_counts=True)\n",
    "min_samples = min(unique_counts[1])\n",
    "\n",
    "if min_samples < 2:\n",
    "    print(f\"Warning: The least populated class has only {min_samples} sample(s). Removing stratification.\")\n",
    "    X_train, X_test, y_train, y_test = train_test_split(\n",
    "        X_processed, y_encoded, test_size=0.2, random_state=42\n",
    "    )\n",
    "else:\n",
    "    X_train, X_test, y_train, y_test = train_test_split(\n",
    "        X_processed, y_encoded, test_size=0.2, random_state=42, stratify=y_encoded\n",
    "    )"
   ]
  },
  {
   "cell_type": "code",
   "execution_count": 13,
   "metadata": {},
   "outputs": [
    {
     "name": "stdout",
     "output_type": "stream",
     "text": [
      "Using device: cuda\n"
     ]
    }
   ],
   "source": [
    "# Move GPU setup earlier\n",
    "device = torch.device(\"cuda\" if torch.cuda.is_available() else \"cpu\")\n",
    "print(f\"Using device: {device}\")"
   ]
  },
  {
   "cell_type": "code",
   "execution_count": 14,
   "metadata": {},
   "outputs": [],
   "source": [
    "# Convert data to tensors\n",
    "X_train_tensor = torch.tensor(X_train, dtype=torch.float32)\n",
    "y_train_tensor = torch.tensor(y_train, dtype=torch.long)\n",
    "X_test_tensor = torch.tensor(X_test, dtype=torch.float32)\n",
    "y_test_tensor = torch.tensor(y_test, dtype=torch.long)"
   ]
  },
  {
   "cell_type": "code",
   "execution_count": 15,
   "metadata": {},
   "outputs": [],
   "source": [
    "# Create dataset and dataloaders\n",
    "train_dataset = TensorDataset(X_train_tensor, y_train_tensor)\n",
    "train_loader = DataLoader(\n",
    "    train_dataset, \n",
    "    batch_size=256,  # Larger batch size\n",
    "    shuffle=True, \n",
    "    num_workers=4,   # Parallel loading\n",
    "    pin_memory=True  # Faster data transfer to GPU\n",
    ")"
   ]
  },
  {
   "cell_type": "code",
   "execution_count": 16,
   "metadata": {},
   "outputs": [
    {
     "name": "stdout",
     "output_type": "stream",
     "text": [
      "Computing class weights...\n"
     ]
    }
   ],
   "source": [
    "# Compute class weights\n",
    "print(\"Computing class weights...\")\n",
    "class_weights = compute_class_weight('balanced', classes=np.unique(y_train), y=y_train)\n",
    "class_weights = torch.tensor(class_weights, dtype=torch.float32).to(device)"
   ]
  },
  {
   "cell_type": "code",
   "execution_count": 17,
   "metadata": {},
   "outputs": [],
   "source": [
    "# 6. Define improved model architecture with proper input size\n",
    "class ImprovedTagClassifier(nn.Module):\n",
    "    def __init__(self, input_size, output_size, dropout_rate=0.3):\n",
    "        super(ImprovedTagClassifier, self).__init__()\n",
    "        self.fc1 = nn.Linear(input_size, 256)\n",
    "        self.bn1 = nn.BatchNorm1d(256)\n",
    "        self.fc2 = nn.Linear(256, 256)\n",
    "        self.bn2 = nn.BatchNorm1d(256)\n",
    "        self.fc3 = nn.Linear(256, 128)\n",
    "        self.bn3 = nn.BatchNorm1d(128)\n",
    "        self.fc4 = nn.Linear(128, output_size)\n",
    "        self.dropout = nn.Dropout(dropout_rate)\n",
    "        self.relu = nn.ReLU()\n",
    "\n",
    "    def forward(self, x):\n",
    "        x = self.dropout(self.relu(self.bn1(self.fc1(x))))\n",
    "        x = self.dropout(self.relu(self.bn2(self.fc2(x))))\n",
    "        x = self.dropout(self.relu(self.bn3(self.fc3(x))))\n",
    "        logits = self.fc4(x)\n",
    "        return logits"
   ]
  },
  {
   "cell_type": "code",
   "execution_count": 18,
   "metadata": {},
   "outputs": [
    {
     "name": "stdout",
     "output_type": "stream",
     "text": [
      "Initializing model...\n"
     ]
    }
   ],
   "source": [
    "# Initialize model\n",
    "print(\"Initializing model...\")\n",
    "input_size = X_train.shape[1]\n",
    "output_size = len(label_encoder.classes_)\n",
    "model = ImprovedTagClassifier(input_size, output_size).to(device)"
   ]
  },
  {
   "cell_type": "code",
   "execution_count": 19,
   "metadata": {},
   "outputs": [],
   "source": [
    "# 7. Define loss function and optimizer\n",
    "criterion = nn.CrossEntropyLoss(weight=class_weights)\n",
    "optimizer = optim.Adam(model.parameters(), lr=0.001, weight_decay=1e-5)\n",
    "scheduler = optim.lr_scheduler.ReduceLROnPlateau(optimizer, 'min', patience=5, factor=0.5)"
   ]
  },
  {
   "cell_type": "code",
   "execution_count": 20,
   "metadata": {},
   "outputs": [],
   "source": [
    "# 8. Setup mixed precision training\n",
    "scaler = GradScaler(device='cuda' if torch.cuda.is_available() else 'cpu')"
   ]
  },
  {
   "cell_type": "code",
   "execution_count": 21,
   "metadata": {},
   "outputs": [
    {
     "name": "stdout",
     "output_type": "stream",
     "text": [
      "Starting training...\n",
      "Epoch [5/200], Loss: 0.9440, Time: 14.05s\n",
      "Epoch [10/200], Loss: 0.8067, Time: 13.82s\n",
      "Epoch [15/200], Loss: 0.7448, Time: 13.95s\n",
      "Epoch [20/200], Loss: 0.7072, Time: 14.16s\n",
      "Epoch [25/200], Loss: 0.6880, Time: 13.44s\n",
      "Epoch [30/200], Loss: 0.6668, Time: 14.04s\n",
      "Epoch [35/200], Loss: 0.6469, Time: 13.47s\n",
      "Epoch [40/200], Loss: 0.6406, Time: 20.73s\n",
      "Epoch [45/200], Loss: 0.6344, Time: 13.59s\n",
      "Epoch [50/200], Loss: 0.6319, Time: 14.62s\n",
      "Epoch [55/200], Loss: 0.6350, Time: 16.24s\n",
      "Epoch [60/200], Loss: 0.6192, Time: 13.28s\n",
      "Epoch [65/200], Loss: 0.6102, Time: 13.21s\n",
      "Epoch [70/200], Loss: 0.5782, Time: 13.23s\n",
      "Epoch [75/200], Loss: 0.5692, Time: 14.06s\n",
      "Epoch [80/200], Loss: 0.5674, Time: 13.22s\n",
      "Epoch [85/200], Loss: 0.5497, Time: 13.23s\n",
      "Epoch [90/200], Loss: 0.5441, Time: 13.06s\n",
      "Epoch [95/200], Loss: 0.5466, Time: 13.48s\n",
      "Epoch [100/200], Loss: 0.5342, Time: 13.13s\n",
      "Epoch [105/200], Loss: 0.5478, Time: 13.07s\n",
      "Epoch [110/200], Loss: 0.5257, Time: 13.20s\n",
      "Epoch [115/200], Loss: 0.5332, Time: 13.09s\n",
      "Epoch [120/200], Loss: 0.5201, Time: 13.04s\n",
      "Epoch [125/200], Loss: 0.5254, Time: 13.13s\n",
      "Epoch [130/200], Loss: 0.5158, Time: 13.13s\n",
      "Epoch [135/200], Loss: 0.5148, Time: 13.20s\n",
      "Epoch [140/200], Loss: 0.5200, Time: 13.15s\n",
      "Epoch [145/200], Loss: 0.5212, Time: 13.15s\n",
      "Epoch [150/200], Loss: 0.5108, Time: 14.11s\n",
      "Epoch [155/200], Loss: 0.5105, Time: 13.34s\n",
      "Epoch [160/200], Loss: 0.5153, Time: 13.11s\n",
      "Epoch [165/200], Loss: 0.5110, Time: 13.26s\n",
      "Epoch [170/200], Loss: 0.5081, Time: 13.29s\n",
      "Early stopping at epoch 172\n"
     ]
    }
   ],
   "source": [
    "# 9. Training loop with timing and early stopping\n",
    "print(\"Starting training...\")\n",
    "best_loss = float('inf')\n",
    "patience = 10\n",
    "counter = 0\n",
    "early_stop = False\n",
    "start_time = time.time()\n",
    "\n",
    "num_epochs = 200\n",
    "for epoch in range(num_epochs):\n",
    "    epoch_start = time.time()\n",
    "    model.train()\n",
    "    epoch_loss = 0\n",
    "    \n",
    "    for batch_X, batch_y in train_loader:\n",
    "        # Move batch to device\n",
    "        batch_X, batch_y = batch_X.to(device), batch_y.to(device)\n",
    "        \n",
    "        optimizer.zero_grad()\n",
    "        \n",
    "        # Use mixed precision for faster training\n",
    "        with torch.amp.autocast('cuda', enabled=device.type=='cuda'):\n",
    "            outputs = model(batch_X)\n",
    "            loss = criterion(outputs, batch_y)\n",
    "        \n",
    "        # Scale gradients and optimize\n",
    "        scaler.scale(loss).backward()\n",
    "        scaler.step(optimizer)\n",
    "        scaler.update()\n",
    "        \n",
    "        epoch_loss += loss.item()\n",
    "    \n",
    "    avg_loss = epoch_loss / len(train_loader)\n",
    "    scheduler.step(avg_loss)\n",
    "    \n",
    "    epoch_time = time.time() - epoch_start\n",
    "    if (epoch + 1) % 5 == 0:\n",
    "        print(f\"Epoch [{epoch + 1}/{num_epochs}], Loss: {avg_loss:.4f}, Time: {epoch_time:.2f}s\")\n",
    "    \n",
    "    # Early stopping\n",
    "    if avg_loss < best_loss:\n",
    "        best_loss = avg_loss\n",
    "        counter = 0\n",
    "        torch.save(model.state_dict(), \"best_tag_classifier.pth\")\n",
    "    else:\n",
    "        counter += 1\n",
    "        if counter >= patience:\n",
    "            print(f\"Early stopping at epoch {epoch+1}\")\n",
    "            early_stop = True\n",
    "    \n",
    "    if early_stop:\n",
    "        break"
   ]
  },
  {
   "cell_type": "code",
   "execution_count": 22,
   "metadata": {},
   "outputs": [
    {
     "name": "stdout",
     "output_type": "stream",
     "text": [
      "Total training time: 2359.49 seconds\n"
     ]
    }
   ],
   "source": [
    "# Save the trained model\n",
    "torch.save(model.state_dict(), \"tag_classifier.pth\")\n",
    "total_time = time.time() - start_time\n",
    "print(f\"Total training time: {total_time:.2f} seconds\")"
   ]
  },
  {
   "cell_type": "code",
   "execution_count": 23,
   "metadata": {},
   "outputs": [
    {
     "name": "stdout",
     "output_type": "stream",
     "text": [
      "Evaluating model...\n"
     ]
    },
    {
     "name": "stderr",
     "output_type": "stream",
     "text": [
      "C:\\Users\\AOZ\\AppData\\Local\\Temp\\ipykernel_25352\\762082746.py:3: FutureWarning: You are using `torch.load` with `weights_only=False` (the current default value), which uses the default pickle module implicitly. It is possible to construct malicious pickle data which will execute arbitrary code during unpickling (See https://github.com/pytorch/pytorch/blob/main/SECURITY.md#untrusted-models for more details). In a future release, the default value for `weights_only` will be flipped to `True`. This limits the functions that could be executed during unpickling. Arbitrary objects will no longer be allowed to be loaded via this mode unless they are explicitly allowlisted by the user via `torch.serialization.add_safe_globals`. We recommend you start setting `weights_only=True` for any use case where you don't have full control of the loaded file. Please open an issue on GitHub for any issues related to this experimental feature.\n",
      "  model.load_state_dict(torch.load(\"best_tag_classifier.pth\"))  # Load best model\n"
     ]
    },
    {
     "name": "stdout",
     "output_type": "stream",
     "text": [
      "\n",
      "Accuracy: 0.3965\n"
     ]
    }
   ],
   "source": [
    "# 10. Evaluation on the test set\n",
    "print(\"Evaluating model...\")\n",
    "model.load_state_dict(torch.load(\"best_tag_classifier.pth\"))  # Load best model\n",
    "model.eval()\n",
    "\n",
    "# Process test data in batches for memory efficiency\n",
    "test_dataset = TensorDataset(X_test_tensor, y_test_tensor)\n",
    "test_loader = DataLoader(test_dataset, batch_size=256)\n",
    "\n",
    "all_predictions = []\n",
    "all_labels = []\n",
    "\n",
    "with torch.no_grad():\n",
    "    for batch_X, batch_y in test_loader:\n",
    "        batch_X, batch_y = batch_X.to(device), batch_y.to(device)\n",
    "        outputs = model(batch_X)\n",
    "        _, predictions = torch.max(outputs, 1)\n",
    "        all_predictions.extend(predictions.cpu().numpy())\n",
    "        all_labels.extend(batch_y.cpu().numpy())\n",
    "\n",
    "y_pred = np.array(all_predictions)\n",
    "y_test_np = np.array(all_labels)\n",
    "\n",
    "accuracy = accuracy_score(y_test_np, y_pred)\n",
    "print(f\"\\nAccuracy: {accuracy:.4f}\")"
   ]
  },
  {
   "cell_type": "code",
   "execution_count": 24,
   "metadata": {},
   "outputs": [
    {
     "name": "stdout",
     "output_type": "stream",
     "text": [
      "\n",
      "Classification Report:\n",
      "              precision    recall  f1-score   support\n",
      "\n",
      "           A       1.00      1.00      1.00     17918\n",
      "        ABBR       0.96      1.00      0.98       490\n",
      "     ARTICLE       0.08      0.84      0.15       350\n",
      "           B       0.10      0.84      0.18       371\n",
      "  BLOCKQUOTE       0.00      0.00      0.00         1\n",
      "        BODY       1.00      1.00      1.00       178\n",
      "      BUTTON       0.49      0.61      0.54      4932\n",
      "     CAPTION       0.48      1.00      0.65        70\n",
      "      CENTER       0.00      0.00      0.00         1\n",
      "        CODE       0.00      1.00      0.00         1\n",
      "         DIV       0.99      0.17      0.29    104578\n",
      "          EM       0.03      0.90      0.05        41\n",
      "  FIGCAPTION       0.02      0.98      0.05       131\n",
      "      FIGURE       0.04      0.44      0.08       195\n",
      "      FOOTER       0.03      0.75      0.05       212\n",
      "        FORM       0.01      0.97      0.03        79\n",
      "       FRONT       1.00      1.00      1.00         2\n",
      "          H1       0.09      0.77      0.16       188\n",
      "          H2       0.44      0.27      0.33      1830\n",
      "          H3       0.06      0.43      0.11      1343\n",
      "          H4       0.47      0.82      0.60       756\n",
      "          H5       0.05      0.95      0.10       484\n",
      "          H6       0.39      0.94      0.55       526\n",
      "      HEADER       0.04      0.89      0.08       348\n",
      "          HR       0.95      1.00      0.97       311\n",
      "           I       0.09      0.72      0.16       406\n",
      "      IFRAME       0.06      0.95      0.12       221\n",
      "         IMG       0.74      0.75      0.74      4477\n",
      "       INPUT       0.08      0.96      0.15       358\n",
      "       LABEL       0.04      0.72      0.07       352\n",
      "          LI       1.00      1.00      1.00      9915\n",
      "        MAIN       0.05      0.65      0.09        52\n",
      "         NAV       0.13      0.69      0.22       680\n",
      "          OL       0.27      0.80      0.40        76\n",
      "           P       0.71      0.55      0.62      4387\n",
      "     PICTURE       0.95      0.16      0.28      1241\n",
      "         PRE       0.00      0.00      0.00         1\n",
      "           Q       1.00      1.00      1.00         1\n",
      "       TABLE       0.01      0.57      0.03       187\n",
      "       TBODY       1.00      0.98      0.99       187\n",
      "          TD       0.99      0.90      0.94      3052\n",
      "          TH       0.73      0.96      0.83       883\n",
      "       THEAD       0.00      0.00      0.00        77\n",
      "        TIME       0.01      0.85      0.02       178\n",
      "          TR       1.00      1.00      1.00       867\n",
      "         TXT       1.00      0.30      0.46     25352\n",
      "           U       0.06      0.77      0.10        13\n",
      "          UL       0.13      0.79      0.22      1789\n",
      "       VIDEO       0.02      0.90      0.03        31\n",
      "\n",
      "   micro avg       0.40      0.40      0.40    190119\n",
      "   macro avg       0.38      0.73      0.38    190119\n",
      "weighted avg       0.92      0.40      0.46    190119\n",
      "\n"
     ]
    }
   ],
   "source": [
    "print(\"\\nClassification Report:\")\n",
    "print(classification_report(\n",
    "    y_test_np, \n",
    "    y_pred,\n",
    "    labels=np.unique(y_test_np),\n",
    "    target_names=label_encoder.inverse_transform(np.unique(y_test_np))\n",
    "))"
   ]
  },
  {
   "cell_type": "code",
   "execution_count": 25,
   "metadata": {},
   "outputs": [
    {
     "name": "stdout",
     "output_type": "stream",
     "text": [
      "\n",
      "Analyzing feature importance...\n",
      "\n",
      "Top 30 most important features:\n",
      "sibling_count: 0.6167\n",
      "aspect_ratio: 0.5572\n",
      "parent_tag_html_UL: 0.4015\n",
      "parent_tag_html_SECTION: 0.3892\n",
      "parent_tag_html_ARTICLE: 0.3870\n",
      "width: 0.3669\n",
      "parent_tag_html_HEADER: 0.3544\n",
      "parent_tag_html_NAV: 0.3521\n",
      "parent_tag_html_LI: 0.3306\n",
      "parent_tag_html_TR: 0.3179\n",
      "parent_tag_html_MAIN: 0.3076\n",
      "parent_tag_html_SPAN: 0.3057\n",
      "type_LINK_UNFURL: 0.2920\n",
      "parent_tag_html_BUTTON: 0.2881\n",
      "parent_tag_RECTANGLE: 0.2861\n",
      "parent_tag_html_TD: 0.2818\n",
      "parent_tag_html_DIV: 0.2783\n",
      "parent_tag_html_P: 0.2749\n",
      "type_LINE: 0.2726\n",
      "parent_tag_html_TABLE: 0.2708\n",
      "type_RECTANGLE: 0.2499\n",
      "type_GROUP: 0.2392\n",
      "parent_tag_html_FOOTER: 0.2373\n",
      "parent_tag_html_FIGURE: 0.2369\n",
      "parent_tag_html_TBODY: 0.2347\n",
      "parent_tag_html_TH: 0.2326\n",
      "parent_tag_LINK_UNFURL: 0.2100\n",
      "parent_tag_GROUP: 0.2088\n",
      "type_TEXT: 0.2085\n",
      "parent_tag_html_FORM: 0.2080\n"
     ]
    }
   ],
   "source": [
    "# Print feature importances from the model\n",
    "print(\"\\nAnalyzing feature importance...\")\n",
    "with torch.no_grad():\n",
    "    weights = model.fc1.weight.cpu().numpy()\n",
    "    importance = np.abs(weights).mean(axis=0)\n",
    "    \n",
    "    # Get feature names (both categorical encoded and continuous)\n",
    "    cat_feature_names = ohe.get_feature_names_out(categorical_cols)\n",
    "    all_feature_names = np.concatenate([cat_feature_names, np.array(continuous_cols)])\n",
    "    \n",
    "    feature_importance = list(zip(all_feature_names, importance))\n",
    "    feature_importance.sort(key=lambda x: x[1], reverse=True)\n",
    "    \n",
    "    print(\"\\nTop 30 most important features:\")\n",
    "    for feature, imp in feature_importance[:30]:\n",
    "        print(f\"{feature}: {imp:.4f}\")"
   ]
  }
 ],
 "metadata": {
  "kernelspec": {
   "display_name": "Python 3",
   "language": "python",
   "name": "python3"
  },
  "language_info": {
   "codemirror_mode": {
    "name": "ipython",
    "version": 3
   },
   "file_extension": ".py",
   "mimetype": "text/x-python",
   "name": "python",
   "nbconvert_exporter": "python",
   "pygments_lexer": "ipython3",
   "version": "3.12.6"
  }
 },
 "nbformat": 4,
 "nbformat_minor": 2
}
