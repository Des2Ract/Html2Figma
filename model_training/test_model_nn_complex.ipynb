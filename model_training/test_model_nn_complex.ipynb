{
 "cells": [
  {
   "cell_type": "code",
   "execution_count": 1,
   "metadata": {},
   "outputs": [],
   "source": [
    "import pandas as pd\n",
    "import numpy as np\n",
    "import torch\n",
    "import torch.nn as nn\n",
    "import torch.optim as optim\n",
    "from torch.utils.data import DataLoader, TensorDataset, WeightedRandomSampler\n",
    "import torch\n",
    "from sklearn.preprocessing import LabelEncoder, StandardScaler\n",
    "from sklearn.model_selection import train_test_split\n",
    "from sklearn.metrics import accuracy_score, classification_report\n",
    "from sklearn.utils.class_weight import compute_class_weight\n",
    "import joblib  # For saving encoders and scalers"
   ]
  },
  {
   "cell_type": "code",
   "execution_count": 2,
   "metadata": {},
   "outputs": [],
   "source": [
    "# 1. Load dataset and remove rows with '-' in the tag column\n",
    "df = pd.read_csv(\"figma_full_dataset.csv\")\n",
    "df = df[~df['tag'].str.contains('-')]"
   ]
  },
  {
   "cell_type": "code",
   "execution_count": 3,
   "metadata": {},
   "outputs": [],
   "source": [
    "# 2. Separate features and target\n",
    "y = df[\"tag\"]\n",
    "X = df.drop(columns=[\"tag\"])"
   ]
  },
  {
   "cell_type": "code",
   "execution_count": 4,
   "metadata": {},
   "outputs": [],
   "source": [
    "# 3. Identify categorical and continuous columns\n",
    "categorical_cols = ['type','parent_tag','parent_tag_html']\n",
    "continuous_cols = [col for col in X.columns if col not in categorical_cols]"
   ]
  },
  {
   "cell_type": "code",
   "execution_count": 5,
   "metadata": {},
   "outputs": [],
   "source": [
    "# Process categorical features with LabelEncoder\n",
    "for col in categorical_cols:\n",
    "    X[col] = X[col].astype(str)\n",
    "    le = LabelEncoder()\n",
    "    X[col] = le.fit_transform(X[col])\n",
    "    # If you need to save individual encoders, consider saving them in a dictionary."
   ]
  },
  {
   "cell_type": "code",
   "execution_count": 6,
   "metadata": {},
   "outputs": [
    {
     "data": {
      "text/plain": [
       "['scaler.pkl']"
      ]
     },
     "execution_count": 6,
     "metadata": {},
     "output_type": "execute_result"
    }
   ],
   "source": [
    "# Fill missing values in continuous columns and scale them\n",
    "X[continuous_cols] = X[continuous_cols].fillna(0)\n",
    "scaler = StandardScaler()\n",
    "X_continuous_scaled = scaler.fit_transform(X[continuous_cols])\n",
    "joblib.dump(scaler, \"scaler.pkl\")"
   ]
  },
  {
   "cell_type": "code",
   "execution_count": 7,
   "metadata": {},
   "outputs": [],
   "source": [
    "# Replace continuous columns in X with their scaled values\n",
    "X_scaled = X.copy()\n",
    "X_scaled[continuous_cols] = X_continuous_scaled"
   ]
  },
  {
   "cell_type": "code",
   "execution_count": 8,
   "metadata": {},
   "outputs": [
    {
     "data": {
      "text/plain": [
       "['label_encoder.pkl']"
      ]
     },
     "execution_count": 8,
     "metadata": {},
     "output_type": "execute_result"
    }
   ],
   "source": [
    "# 4. Encode target labels\n",
    "label_encoder = LabelEncoder()\n",
    "y_encoded = label_encoder.fit_transform(y)\n",
    "joblib.dump(label_encoder, \"label_encoder.pkl\")"
   ]
  },
  {
   "cell_type": "code",
   "execution_count": 9,
   "metadata": {},
   "outputs": [],
   "source": [
    "# 5. Train/test split\n",
    "X_train, X_test, y_train, y_test = train_test_split(X_scaled, y_encoded, test_size=0.2, random_state=42)"
   ]
  },
  {
   "cell_type": "code",
   "execution_count": 10,
   "metadata": {},
   "outputs": [],
   "source": [
    "# Convert data to PyTorch tensors\n",
    "# Note: X_train and X_test are DataFrames, so use .values to convert to NumPy arrays.\n",
    "X_train_tensor = torch.tensor(X_train.values, dtype=torch.float32)\n",
    "y_train_tensor = torch.tensor(y_train, dtype=torch.long)\n",
    "X_test_tensor = torch.tensor(X_test.values, dtype=torch.float32)\n",
    "y_test_tensor = torch.tensor(y_test, dtype=torch.long)"
   ]
  },
  {
   "cell_type": "code",
   "execution_count": 11,
   "metadata": {},
   "outputs": [],
   "source": [
    "class TagClassifier(nn.Module):\n",
    "    def __init__(self, input_size, output_size, dropout_rate=0.2):\n",
    "        super(TagClassifier, self).__init__()\n",
    "        # Encoder path\n",
    "        self.fc1 = nn.Linear(input_size, 64)    # First hidden layer\n",
    "        self.fc2 = nn.Linear(64, 128)           # Second hidden layer\n",
    "        self.fc3 = nn.Linear(128, 256)          # Third hidden layer\n",
    "        self.fc4 = nn.Linear(256, 512)          # Fourth hidden layer\n",
    "        \n",
    "        # Bottleneck\n",
    "        self.fc5 = nn.Linear(512, 512)          # Fifth hidden layer\n",
    "        self.fc6 = nn.Linear(512, 512)          # Sixth hidden layer\n",
    "        \n",
    "        # Decoder path\n",
    "        self.fc7 = nn.Linear(512, 256)          # Seventh hidden layer\n",
    "        self.fc8 = nn.Linear(256, 128)          # Eighth hidden layer\n",
    "        self.fc9 = nn.Linear(128, output_size)  # Output layer\n",
    "        \n",
    "        self.relu = nn.ReLU()                   # Non-linear activation\n",
    "        self.dropout = nn.Dropout(dropout_rate) # Dropout layer\n",
    "        self.dropout_heavy = nn.Dropout(0.5)    # Heavier dropout for bottleneck\n",
    "\n",
    "    def forward(self, x):\n",
    "        # Encoder path with light dropout\n",
    "        x = self.relu(self.fc1(x))\n",
    "        \n",
    "        x = self.relu(self.fc2(x))\n",
    "        x = self.dropout(x)\n",
    "        \n",
    "        x = self.relu(self.fc3(x))\n",
    "        x = self.dropout(x)\n",
    "        \n",
    "        x = self.relu(self.fc4(x))\n",
    "        x = self.dropout(x)\n",
    "        \n",
    "        # Bottleneck with heavier dropout\n",
    "        x = self.relu(self.fc5(x))\n",
    "        x = self.dropout_heavy(x)\n",
    "        \n",
    "        x = self.relu(self.fc6(x))\n",
    "        x = self.dropout_heavy(x)\n",
    "        \n",
    "        # Decoder path with decreasing dropout\n",
    "        x = self.relu(self.fc7(x))\n",
    "        x = self.dropout(x)\n",
    "        \n",
    "        x = self.relu(self.fc8(x))\n",
    "        \n",
    "        logits = self.fc9(x)  # No activation or dropout here\n",
    "        return logits"
   ]
  },
  {
   "cell_type": "code",
   "execution_count": 12,
   "metadata": {},
   "outputs": [],
   "source": [
    "# Initialize model\n",
    "input_size = X_train_tensor.shape[1]\n",
    "output_size = len(label_encoder.classes_)\n",
    "model = TagClassifier(input_size, output_size)"
   ]
  },
  {
   "cell_type": "code",
   "execution_count": 13,
   "metadata": {},
   "outputs": [],
   "source": [
    "# 8. Define loss function and optimizer\n",
    "criterion = nn.CrossEntropyLoss()  # Internally applies softmax on logits\n",
    "optimizer = optim.Adam(model.parameters(), lr=0.1)"
   ]
  },
  {
   "cell_type": "code",
   "execution_count": 14,
   "metadata": {},
   "outputs": [],
   "source": [
    "# Create a TensorDataset from the training tensors\n",
    "train_dataset = TensorDataset(X_train_tensor, y_train_tensor)\n",
    "\n",
    "# Define a DataLoader with a chosen batch size (e.g., 64)\n",
    "batch_size = 64\n",
    "train_loader = DataLoader(train_dataset, batch_size=batch_size, shuffle=True)"
   ]
  },
  {
   "cell_type": "code",
   "execution_count": null,
   "metadata": {},
   "outputs": [
    {
     "name": "stdout",
     "output_type": "stream",
     "text": [
      "Using device: cuda\n",
      "Epoch [10/100], Loss: 2.8165\n",
      "Epoch [20/100], Loss: 2.2848\n"
     ]
    }
   ],
   "source": [
    "\n",
    "# Check if GPU is available and move model to GPU\n",
    "device = torch.device(\"cuda\" if torch.cuda.is_available() else \"cpu\")\n",
    "print(f\"Using device: {device}\")\n",
    "\n",
    "# Move model to the device\n",
    "model = model.to(device)\n",
    "\n",
    "# Move data to the device\n",
    "X_train_tensor = X_train_tensor.to(device)\n",
    "y_train_tensor = y_train_tensor.to(device)\n",
    "\n",
    "# Training loop\n",
    "num_epochs = 100\n",
    "for epoch in range(num_epochs):\n",
    "    model.train()\n",
    "    optimizer.zero_grad()\n",
    "    outputs = model(X_train_tensor)\n",
    "    loss = criterion(outputs, y_train_tensor)\n",
    "    loss.backward()\n",
    "    optimizer.step()\n",
    "    \n",
    "    if (epoch + 1) % 10 == 0:\n",
    "        print(f\"Epoch [{epoch + 1}/{num_epochs}], Loss: {loss.item():.4f}\")\n",
    "\n",
    "# Save the model state_dict\n",
    "torch.save(model.state_dict(), \"tag_classifier.pth\")\n",
    "\n",
    "# If you need to use the model for evaluation on CPU later\n",
    "# model = model.to(\"cpu\")"
   ]
  },
  {
   "cell_type": "code",
   "execution_count": null,
   "metadata": {},
   "outputs": [],
   "source": [
    "# Save the trained model\n",
    "torch.save(model.state_dict(), \"tag_classifier.pth\")"
   ]
  },
  {
   "cell_type": "code",
   "execution_count": null,
   "metadata": {},
   "outputs": [
    {
     "name": "stdout",
     "output_type": "stream",
     "text": [
      "\n",
      "Accuracy: 0.5560\n"
     ]
    }
   ],
   "source": [
    "# 10. Evaluation on the test set\n",
    "model.eval()\n",
    "with torch.no_grad():\n",
    "    outputs = model(X_test_tensor)\n",
    "    y_pred = torch.argmax(outputs, dim=1).numpy()\n",
    "\n",
    "accuracy = accuracy_score(y_test, y_pred)\n",
    "print(f\"\\nAccuracy: {accuracy:.4f}\")"
   ]
  },
  {
   "cell_type": "code",
   "execution_count": null,
   "metadata": {},
   "outputs": [
    {
     "name": "stdout",
     "output_type": "stream",
     "text": [
      "\n",
      "Classification Report:\n",
      "              precision    recall  f1-score   support\n",
      "\n",
      "           A       0.00      0.00      0.00      6999\n",
      "        ABBR       0.00      0.00      0.00       244\n",
      "     ADDRESS       0.00      0.00      0.00        21\n",
      "     ARTICLE       0.00      0.00      0.00       261\n",
      "       ASIDE       0.00      0.00      0.00        12\n",
      "           B       0.00      0.00      0.00       152\n",
      "  BLOCKQUOTE       0.00      0.00      0.00         1\n",
      "        BODY       0.00      0.00      0.00        75\n",
      "      BUTTON       0.00      0.00      0.00      1994\n",
      "      CANVAS       0.00      0.00      0.00         5\n",
      "     CAPTION       0.00      0.00      0.00        35\n",
      "         CNX       0.00      0.00      0.00         2\n",
      "          DD       0.00      0.00      0.00         1\n",
      "         DEL       0.00      0.00      0.00        10\n",
      "     DETAILS       0.00      0.00      0.00        85\n",
      "      DIALOG       0.00      0.00      0.00         1\n",
      "         DIV       0.60      0.98      0.74     47326\n",
      "          DL       0.00      0.00      0.00         1\n",
      "          DT       0.00      0.00      0.00         3\n",
      "          EM       0.00      0.00      0.00        28\n",
      "    FIELDSET       0.00      0.00      0.00         2\n",
      "  FIGCAPTION       0.00      0.00      0.00        32\n",
      "      FIGURE       0.00      0.00      0.00       171\n",
      "      FOOTER       0.00      0.00      0.00       131\n",
      "        FORM       0.00      0.00      0.00        51\n",
      "          H1       0.00      0.00      0.00        85\n",
      "          H2       0.00      0.00      0.00       787\n",
      "          H3       0.00      0.00      0.00       735\n",
      "          H4       0.00      0.00      0.00       408\n",
      "          H5       0.00      0.00      0.00       254\n",
      "          H6       0.00      0.00      0.00       235\n",
      "      HEADER       0.00      0.00      0.00       193\n",
      "      HGROUP       0.00      0.00      0.00         1\n",
      "          HR       0.00      0.00      0.00       112\n",
      "           I       0.00      0.00      0.00       230\n",
      "      IFRAME       0.00      0.00      0.00        50\n",
      "         IMG       0.00      0.00      0.00      2432\n",
      "       INPUT       0.00      0.00      0.00       232\n",
      "       LABEL       0.00      0.00      0.00       280\n",
      "          LI       0.00      0.00      0.00      3269\n",
      "        MAIN       0.00      0.00      0.00        31\n",
      "         NAV       0.00      0.00      0.00       236\n",
      "          OL       0.00      0.00      0.00        38\n",
      "           P       0.40      0.24      0.30      1883\n",
      "     PICTURE       0.00      0.00      0.00       442\n",
      "           S       0.00      0.00      0.00         4\n",
      "      SEARCH       0.00      0.00      0.00         1\n",
      "     SECTION       0.00      0.00      0.00       724\n",
      "      SELECT       0.00      0.00      0.00         1\n",
      "        SLOT       0.00      0.00      0.00        20\n",
      "       SMALL       0.00      0.00      0.00         6\n",
      "        SPAN       0.41      0.28      0.33     14181\n",
      "      STRONG       0.00      0.00      0.00       319\n",
      "     SUMMARY       0.00      0.00      0.00        95\n",
      "         SUP       0.00      0.00      0.00         2\n",
      "         SVG       0.00      0.00      0.00      4123\n",
      "       TABLE       0.00      0.00      0.00        90\n",
      "       TBODY       0.00      0.00      0.00        97\n",
      "          TD       0.00      0.00      0.00      1622\n",
      "          TH       0.00      0.00      0.00       421\n",
      "       THEAD       0.00      0.00      0.00        43\n",
      "        TIME       0.00      0.00      0.00       101\n",
      "          TR       0.00      0.00      0.00       472\n",
      "         TXT       0.44      0.62      0.51     11085\n",
      "           U       0.00      0.00      0.00         5\n",
      "          UL       0.00      0.00      0.00       612\n",
      "      VECTOR       0.00      0.00      0.00         2\n",
      "       VIDEO       0.00      0.00      0.00        12\n",
      "\n",
      "    accuracy                           0.56    103614\n",
      "   macro avg       0.03      0.03      0.03    103614\n",
      "weighted avg       0.38      0.56      0.45    103614\n",
      "\n"
     ]
    },
    {
     "name": "stderr",
     "output_type": "stream",
     "text": [
      "C:\\Users\\kareem alaa\\AppData\\Local\\Packages\\PythonSoftwareFoundation.Python.3.10_qbz5n2kfra8p0\\LocalCache\\local-packages\\Python310\\site-packages\\sklearn\\metrics\\_classification.py:1471: UndefinedMetricWarning: Precision and F-score are ill-defined and being set to 0.0 in labels with no predicted samples. Use `zero_division` parameter to control this behavior.\n",
      "  _warn_prf(average, modifier, msg_start, len(result))\n",
      "C:\\Users\\kareem alaa\\AppData\\Local\\Packages\\PythonSoftwareFoundation.Python.3.10_qbz5n2kfra8p0\\LocalCache\\local-packages\\Python310\\site-packages\\sklearn\\metrics\\_classification.py:1471: UndefinedMetricWarning: Precision and F-score are ill-defined and being set to 0.0 in labels with no predicted samples. Use `zero_division` parameter to control this behavior.\n",
      "  _warn_prf(average, modifier, msg_start, len(result))\n",
      "C:\\Users\\kareem alaa\\AppData\\Local\\Packages\\PythonSoftwareFoundation.Python.3.10_qbz5n2kfra8p0\\LocalCache\\local-packages\\Python310\\site-packages\\sklearn\\metrics\\_classification.py:1471: UndefinedMetricWarning: Precision and F-score are ill-defined and being set to 0.0 in labels with no predicted samples. Use `zero_division` parameter to control this behavior.\n",
      "  _warn_prf(average, modifier, msg_start, len(result))\n"
     ]
    }
   ],
   "source": [
    "print(\"\\nClassification Report:\")\n",
    "print(classification_report(y_test, y_pred,\n",
    "                            labels=np.unique(y_test),\n",
    "                            target_names=label_encoder.inverse_transform(np.unique(y_test))))"
   ]
  }
 ],
 "metadata": {
  "kernelspec": {
   "display_name": "Python 3",
   "language": "python",
   "name": "python3"
  },
  "language_info": {
   "codemirror_mode": {
    "name": "ipython",
    "version": 3
   },
   "file_extension": ".py",
   "mimetype": "text/x-python",
   "name": "python",
   "nbconvert_exporter": "python",
   "pygments_lexer": "ipython3",
   "version": "3.10.11"
  }
 },
 "nbformat": 4,
 "nbformat_minor": 2
}
