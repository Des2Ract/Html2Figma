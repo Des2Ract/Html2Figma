{
 "cells": [
  {
   "cell_type": "code",
   "execution_count": 34,
   "metadata": {},
   "outputs": [],
   "source": [
    "import torch\n",
    "import torch.nn as nn\n",
    "import torch.optim as optim\n",
    "import pandas as pd\n",
    "import numpy as np\n",
    "import joblib\n",
    "import time\n",
    "import matplotlib.pyplot as plt\n",
    "from sklearn.preprocessing import LabelEncoder, StandardScaler, OneHotEncoder\n",
    "from sklearn.impute import SimpleImputer\n",
    "from sklearn.model_selection import train_test_split\n",
    "from sklearn.metrics import accuracy_score, classification_report, confusion_matrix\n",
    "from sklearn.utils.class_weight import compute_class_weight\n",
    "from torch.amp import autocast, GradScaler\n",
    "from torch.utils.data import TensorDataset, DataLoader\n",
    "from torch.nn.utils import clip_grad_norm_\n",
    "import os\n",
    "import sys"
   ]
  },
  {
   "cell_type": "code",
   "execution_count": 35,
   "metadata": {},
   "outputs": [],
   "source": [
    "# Add the parent directory (where utils.py is located) to sys.path to ensure utils module is found\n",
    "utils_path = os.path.abspath(os.path.join(os.getcwd(), \"../../Utils/\"))\n",
    "sys.path.append(utils_path)\n",
    "\n",
    "from model_utils import ImprovedTagClassifier  # Import our model from utils"
   ]
  },
  {
   "cell_type": "code",
   "execution_count": 36,
   "metadata": {},
   "outputs": [],
   "source": [
    "# Enable cuDNN benchmarking for faster training\n",
    "torch.backends.cudnn.benchmark = True"
   ]
  },
  {
   "cell_type": "code",
   "execution_count": 37,
   "metadata": {},
   "outputs": [
    {
     "name": "stdout",
     "output_type": "stream",
     "text": [
      "Loading and cleaning data...\n"
     ]
    },
    {
     "name": "stderr",
     "output_type": "stream",
     "text": [
      "C:\\Users\\AOZ\\AppData\\Local\\Temp\\ipykernel_32272\\787916220.py:11: UserWarning: This pattern is interpreted as a regular expression, and has match groups. To actually get the groups, use str.extract.\n",
      "  df = df[~df['tag'].str.contains(r'\\b(CNX|ADDRESS|ASIDE|CANVAS|CITE|DD|DL|DT|ICON|S|VECTOR|DEL|LEGEND|BDI|LOGO|OBJECT|OPTGROUP|CENTER|CODE|BLOCKQUOTE|FRONT|Q|IFRAME|A|HR|SEARCH|DETAILS|FIELDSET|SLOT|SVG|AD|ADSLOT|AUDIO|BLINK|BOLD|COL|COLGROUP|COMMENTS|DATA|DIALOG|EMBED|EMPHASIS|FONT|H7|HGROUP|INS|INTERACTION|ITALIC|ITEMTEMPLATE|MARK|MATH|MENU|MI|MN|MO|MROW|MSUP|NOBR|OFFER|OPTION|PATH|PROGRESS|STRIKE|SWAL|TEXT|TFOOT|TITLE|TT|VAR|VEV|W|WBR|COUNTRY|ESI:INCLUDE|HTTPS:|LOGIN|NOCSRIPT|PERSONAL|STONG|CONTENT|DELIVERY|LEFT|MSUBSUP|KBD|ROOT|PARAGRAPH|BE|AI2SVELTEWRAP|BANNER|PHOTO1|UNK)\\b', regex=True)]\n",
      "C:\\Users\\AOZ\\AppData\\Local\\Temp\\ipykernel_32272\\787916220.py:18: UserWarning: This pattern is interpreted as a regular expression, and has match groups. To actually get the groups, use str.extract.\n",
      "  df[col] = np.where(df[col].str.contains(pattern, regex=True, na=False), 'DIV', df[col])\n"
     ]
    },
    {
     "name": "stdout",
     "output_type": "stream",
     "text": [
      "Unique Child 1: ['DIV' nan 'HR' 'SVG' 'P' 'IMG' 'BUTTON' 'INPUT' 'LI' 'CHECKBOX' 'RADIO']\n",
      "Unique Child 2: ['DIV' nan 'HR' 'P' 'BUTTON' 'IMG' 'INPUT' 'SVG' 'LI' 'CHECKBOX' 'RADIO']\n",
      "Prev HTML tag: [nan 'HR' 'BUTTON' 'DIV' 'IMG' 'P' 'INPUT' 'SVG' 'LI' 'CHECKBOX' 'RADIO']\n",
      "Unique tags after cleaning: ['DIV' 'BUTTON' 'INPUT']\n",
      "Total samples: 63756\n",
      "Distribution of tags: \n",
      "tag\n",
      "DIV       60393\n",
      "BUTTON     2836\n",
      "INPUT       527\n",
      "Name: count, dtype: int64\n"
     ]
    },
    {
     "name": "stderr",
     "output_type": "stream",
     "text": [
      "C:\\Users\\AOZ\\AppData\\Local\\Temp\\ipykernel_32272\\787916220.py:54: UserWarning: This pattern is interpreted as a regular expression, and has match groups. To actually get the groups, use str.extract.\n",
      "  df = df[~df['tag'].str.contains(r'\\b(P|IMG|SVG|ICON|LI|CHECKBOX|RADIO)\\b', regex=True)]\n"
     ]
    }
   ],
   "source": [
    "# Load and clean the data\n",
    "print(\"Loading and cleaning data...\")\n",
    "df = pd.read_csv(\"../Dataset/new_figma_dataset11.csv\")\n",
    "if 'parent_tag_html' in df.columns:\n",
    "    df = df.drop(columns=['parent_tag_html'])\n",
    "if 'y' in df.columns:\n",
    "    df = df.drop(columns=['y'])\n",
    "\n",
    "# Remove rows with weird tags (like '-' or specific unwanted ones)\n",
    "df = df[~df['tag'].str.contains(r'[-:]', regex=True)]\n",
    "df = df[~df['tag'].str.contains(r'\\b(CNX|ADDRESS|ASIDE|CANVAS|CITE|DD|DL|DT|ICON|S|VECTOR|DEL|LEGEND|BDI|LOGO|OBJECT|OPTGROUP|CENTER|CODE|BLOCKQUOTE|FRONT|Q|IFRAME|A|HR|SEARCH|DETAILS|FIELDSET|SLOT|SVG|AD|ADSLOT|AUDIO|BLINK|BOLD|COL|COLGROUP|COMMENTS|DATA|DIALOG|EMBED|EMPHASIS|FONT|H7|HGROUP|INS|INTERACTION|ITALIC|ITEMTEMPLATE|MARK|MATH|MENU|MI|MN|MO|MROW|MSUP|NOBR|OFFER|OPTION|PATH|PROGRESS|STRIKE|SWAL|TEXT|TFOOT|TITLE|TT|VAR|VEV|W|WBR|COUNTRY|ESI:INCLUDE|HTTPS:|LOGIN|NOCSRIPT|PERSONAL|STONG|CONTENT|DELIVERY|LEFT|MSUBSUP|KBD|ROOT|PARAGRAPH|BE|AI2SVELTEWRAP|BANNER|PHOTO1|UNK)\\b', regex=True)]\n",
    "\n",
    "# Pattern to spot unwanted tags in other columns\n",
    "pattern = r'[-:]|\\b(CNX|ADDRESS|ASIDE|CANVAS|CITE|DD|DL|DT|ICON|S|VECTOR|DEL|LEGEND|BDI|LOGO|OBJECT|OPTGROUP|CENTER|CODE|BLOCKQUOTE|FRONT|Q|IFRAME|SEARCH|DETAILS|FIELDSET|SLOT|AD|ADSLOT|AUDIO|BLINK|BOLD|COL|COLGROUP|COMMENTS|DATA|DIALOG|EMBED|EMPHASIS|FONT|H7|HGROUP|INS|INTERACTION|ITALIC|ITEMTEMPLATE|MARK|MATH|MENU|MI|MN|MO|MROW|MSUP|NOBR|OFFER|OPTION|PATH|PROGRESS|STRIKE|SWAL|TEXT|TFOOT|TITLE|TT|VAR|VEV|W|WBR|COUNTRY|ESI:INCLUDE|HTTPS:|LOGIN|NOCSRIPT|PERSONAL|STONG|CONTENT|DELIVERY|LEFT|MSUBSUP|KBD|ROOT|PARAGRAPH|BE|AI2SVELTEWRAP|BANNER|PHOTO1|UNK)\\b'\n",
    "\n",
    "# Replace unwanted tags with 'DIV' in related columns\n",
    "for col in ['prev_sibling_html_tag', 'child_1_html_tag', 'child_2_html_tag']:\n",
    "    df[col] = np.where(df[col].str.contains(pattern, regex=True, na=False), 'DIV', df[col])\n",
    "\n",
    "# Map tags to simpler ones\n",
    "tag_mapping = {\n",
    "    \"ARTICLE\": \"DIV\", \"DIV\": \"DIV\", \"FIGURE\": \"DIV\",\n",
    "    \"HEADER\": \"DIV\", \"NAV\": \"DIV\", \"MAIN\": \"DIV\",\n",
    "    \"BODY\": \"DIV\", \"FORM\": \"DIV\", \"OL\": \"DIV\", \"UL\": \"DIV\", \"TABLE\": \"DIV\", \"THEAD\": \"DIV\", \"TBODY\": \"DIV\", \"SECTION\": \"DIV\",\n",
    "    \"H1\": \"P\", \"H2\": \"P\", \"H3\": \"P\", \"H4\": \"P\", \"H5\": \"P\", \"H6\": \"P\", \"SUP\": \"P\", \"SUB\": \"P\", \"BIG\": \"P\",\n",
    "    \"P\": \"P\", \"CAPTION\": \"P\", \"FIGCAPTION\": \"P\", \"B\": \"P\", \"EM\": \"P\", \"I\": \"P\", \"TD\": \"P\", \"TH\": \"P\", \"TR\": \"P\", \"PRE\": \"P\",\n",
    "    \"U\": \"P\", \"TIME\": \"P\", \"TXT\": \"P\", \"ABBR\": \"P\", \"SMALL\": \"P\", \"STRONG\": \"P\", \"SUMMARY\": \"P\", \"SPAN\": \"P\",\n",
    "    \"PICTURE\": \"IMG\", \"VIDEO\": \"IMG\",\n",
    "    \"SELECT\": \"INPUT\", \"TEXTAREA\": \"INPUT\",\n",
    "    \"UNK\": \"DIV\", \"FOOTER\": \"DIV\", \"NAVBAR\": \"DIV\", \"LIST\": \"DIV\", \"CARD\": \"DIV\",\n",
    "    \"LABEL\": \"P\", \"A\": \"P\",\n",
    "    \"DROPDOWN\": \"INPUT\"\n",
    "}\n",
    "\n",
    "# Fix specific tags\n",
    "df.loc[(df[\"tag\"] == \"SPAN\") & ((df[\"type\"] == \"RECTANGLE\") | (df[\"type\"] == \"GROUP\")), \"tag\"] = \"DIV\"\n",
    "children_cols = ['child_1_html_tag', 'child_2_html_tag']\n",
    "for col in children_cols:\n",
    "    df[col] = df[col].apply(lambda x: \"DIV\" if isinstance(x, str) and '-' in x else x)\n",
    "\n",
    "# Make tags uppercase\n",
    "df['tag'] = df['tag'].str.upper()\n",
    "df['prev_sibling_html_tag'] = df['prev_sibling_html_tag'].str.upper()\n",
    "df['child_1_html_tag'] = df['child_1_html_tag'].str.upper()\n",
    "df['child_2_html_tag'] = df['child_2_html_tag'].str.upper()\n",
    "\n",
    "# Apply the tag mapping\n",
    "df['tag'] = df['tag'].replace(tag_mapping)\n",
    "df['prev_sibling_html_tag'] = df['prev_sibling_html_tag'].replace(tag_mapping)\n",
    "df['child_1_html_tag'] = df['child_1_html_tag'].replace(tag_mapping)\n",
    "df['child_2_html_tag'] = df['child_2_html_tag'].replace(tag_mapping)\n",
    "\n",
    "# Remove unwanted tags (leave only there effect in feature vector)\n",
    "df = df[~df['tag'].str.contains(r'\\b(P|IMG|SVG|ICON|LI|CHECKBOX|RADIO)\\b', regex=True)]\n",
    "\n",
    "# Show some data info\n",
    "print(\"Unique Child 1:\", df['child_1_html_tag'].unique())\n",
    "print(\"Unique Child 2:\", df['child_2_html_tag'].unique())\n",
    "print(\"Prev HTML tag:\", df['prev_sibling_html_tag'].unique())\n",
    "print(f\"Unique tags after cleaning: {df['tag'].unique()}\")\n",
    "print(f\"Total samples: {len(df)}\")\n",
    "print(f\"Distribution of tags: \\n{df['tag'].value_counts()}\")"
   ]
  },
  {
   "cell_type": "code",
   "execution_count": 38,
   "metadata": {},
   "outputs": [],
   "source": [
    "# Separate features and target\n",
    "y = df[\"tag\"]\n",
    "X = df.drop(columns=[\"tag\"])"
   ]
  },
  {
   "cell_type": "code",
   "execution_count": 39,
   "metadata": {},
   "outputs": [],
   "source": [
    "# Identify categorical and continuous columns\n",
    "categorical_cols = ['type','prev_sibling_html_tag','child_1_html_tag','child_2_html_tag']\n",
    "continuous_cols = [col for col in X.columns if col not in categorical_cols]"
   ]
  },
  {
   "cell_type": "code",
   "execution_count": 40,
   "metadata": {},
   "outputs": [
    {
     "name": "stdout",
     "output_type": "stream",
     "text": [
      "Processing categorical features...\n"
     ]
    },
    {
     "data": {
      "text/plain": [
       "['../models/ohe_encoder.pkl']"
      ]
     },
     "execution_count": 40,
     "metadata": {},
     "output_type": "execute_result"
    }
   ],
   "source": [
    "# Process categorical features with OneHotEncoder\n",
    "print(\"Processing categorical features...\")\n",
    "X[categorical_cols] = X[categorical_cols].astype(str).fillna('unknown')\n",
    "ohe = OneHotEncoder(sparse_output=False, handle_unknown='ignore')\n",
    "X_cat_encoded = ohe.fit_transform(X[categorical_cols])\n",
    "joblib.dump(ohe, \"../models/ohe_encoder.pkl\")"
   ]
  },
  {
   "cell_type": "code",
   "execution_count": 41,
   "metadata": {},
   "outputs": [
    {
     "name": "stdout",
     "output_type": "stream",
     "text": [
      "Handling missing values...\n"
     ]
    },
    {
     "data": {
      "text/plain": [
       "['../models/imputer.pkl']"
      ]
     },
     "execution_count": 41,
     "metadata": {},
     "output_type": "execute_result"
    }
   ],
   "source": [
    "# Handle missing values in continuous features\n",
    "print(\"Handling missing values...\")\n",
    "imputer = SimpleImputer(strategy='median')  # Changed to median for better robustness\n",
    "X_continuous_imputed = imputer.fit_transform(X[continuous_cols])\n",
    "joblib.dump(imputer, \"../models/imputer.pkl\")"
   ]
  },
  {
   "cell_type": "code",
   "execution_count": 42,
   "metadata": {},
   "outputs": [
    {
     "name": "stdout",
     "output_type": "stream",
     "text": [
      "Scaling continuous features...\n"
     ]
    },
    {
     "data": {
      "text/plain": [
       "['../models/scaler.pkl']"
      ]
     },
     "execution_count": 42,
     "metadata": {},
     "output_type": "execute_result"
    }
   ],
   "source": [
    "# Scale continuous features\n",
    "print(\"Scaling continuous features...\")\n",
    "scaler = StandardScaler()\n",
    "X_continuous_scaled = scaler.fit_transform(X_continuous_imputed)\n",
    "joblib.dump(scaler, \"../models/scaler.pkl\")"
   ]
  },
  {
   "cell_type": "code",
   "execution_count": 43,
   "metadata": {},
   "outputs": [],
   "source": [
    "# Combine one-hot encoded categorical features with scaled continuous features\n",
    "X_processed = np.concatenate([X_cat_encoded, X_continuous_scaled], axis=1)"
   ]
  },
  {
   "cell_type": "code",
   "execution_count": 44,
   "metadata": {},
   "outputs": [
    {
     "name": "stdout",
     "output_type": "stream",
     "text": [
      "Encoding target labels...\n"
     ]
    },
    {
     "data": {
      "text/plain": [
       "['../models/label_encoder.pkl']"
      ]
     },
     "execution_count": 44,
     "metadata": {},
     "output_type": "execute_result"
    }
   ],
   "source": [
    "# Encode target labels\n",
    "print(\"Encoding target labels...\")\n",
    "label_encoder = LabelEncoder()\n",
    "y_encoded = label_encoder.fit_transform(y)\n",
    "joblib.dump(label_encoder, \"../models/label_encoder.pkl\")"
   ]
  },
  {
   "cell_type": "code",
   "execution_count": 45,
   "metadata": {},
   "outputs": [],
   "source": [
    "# Handle class imbalance by duplicating rare class samples\n",
    "from collections import Counter\n",
    "class_counts = Counter(y_encoded)\n",
    "min_samples_threshold = 10  # Ensure each class has at least this many samples\n",
    "\n",
    "# Find classes with fewer than min_samples_threshold samples\n",
    "rare_classes = [cls for cls, count in class_counts.items() if count < min_samples_threshold]\n",
    "\n",
    "# Duplicate rare class samples to reach the threshold\n",
    "for cls in rare_classes:\n",
    "    idx = np.where(y_encoded == cls)[0]  # Get indices of rare samples\n",
    "    original_class_name = label_encoder.inverse_transform([cls])[0]\n",
    "    samples_needed = min_samples_threshold - len(idx)\n",
    "    \n",
    "    print(f\"Augmenting class '{original_class_name}' with {samples_needed} additional samples\")\n",
    "    \n",
    "    # Create synthetic samples through duplication with slight variations\n",
    "    for _ in range(samples_needed):\n",
    "        sample_idx = np.random.choice(idx)  # Choose a random sample from this class\n",
    "        new_sample = X_processed[sample_idx].copy()\n",
    "        \n",
    "        # Add slight noise to continuous features (last part of the feature vector)\n",
    "        continuous_start = X_cat_encoded.shape[1]\n",
    "        noise = np.random.normal(0, 0.05, size=X_continuous_scaled.shape[1])\n",
    "        new_sample[continuous_start:] += noise\n",
    "        \n",
    "        X_processed = np.vstack([X_processed, new_sample])\n",
    "        y_encoded = np.append(y_encoded, cls)"
   ]
  },
  {
   "cell_type": "code",
   "execution_count": 46,
   "metadata": {},
   "outputs": [
    {
     "name": "stdout",
     "output_type": "stream",
     "text": [
      "Splitting data into train, validation, and test sets...\n",
      "Training set size: 46063\n",
      "Validation set size: 8129\n",
      "Test set size: 9564\n"
     ]
    }
   ],
   "source": [
    "# Split data into train, validation, and test sets\n",
    "print(\"Splitting data into train, validation, and test sets...\")\n",
    "X_temp, X_test, y_temp, y_test = train_test_split(\n",
    "    X_processed, y_encoded, test_size=0.15, random_state=42, stratify=y_encoded\n",
    ")\n",
    "\n",
    "X_train, X_val, y_train, y_val = train_test_split(\n",
    "    X_temp, y_temp, test_size=0.15, random_state=42, stratify=y_temp\n",
    ")\n",
    "\n",
    "print(f\"Training set size: {X_train.shape[0]}\")\n",
    "print(f\"Validation set size: {X_val.shape[0]}\")\n",
    "print(f\"Test set size: {X_test.shape[0]}\")"
   ]
  },
  {
   "cell_type": "code",
   "execution_count": 47,
   "metadata": {},
   "outputs": [
    {
     "name": "stdout",
     "output_type": "stream",
     "text": [
      "Computing class weights...\n",
      "Class BUTTON: 7.4936\n",
      "Class DIV: 0.3519\n",
      "Class INPUT: 40.3001\n"
     ]
    }
   ],
   "source": [
    "# Compute class weights for handling imbalance\n",
    "print(\"Computing class weights...\")\n",
    "class_weights = compute_class_weight(\n",
    "    'balanced', \n",
    "    classes=np.unique(y_train), \n",
    "    y=y_train\n",
    ")\n",
    "\n",
    "for c in np.unique(y_train):\n",
    "    print(f\"Class {label_encoder.inverse_transform([c])[0]}: {class_weights[c]:.4f}\")"
   ]
  },
  {
   "cell_type": "code",
   "execution_count": 48,
   "metadata": {},
   "outputs": [
    {
     "name": "stdout",
     "output_type": "stream",
     "text": [
      "Using device: cuda\n"
     ]
    }
   ],
   "source": [
    "# Convert data to PyTorch tensors\n",
    "device = torch.device(\"cuda\" if torch.cuda.is_available() else \"cpu\")\n",
    "print(f\"Using device: {device}\")\n",
    "\n",
    "X_train_tensor = torch.tensor(X_train, dtype=torch.float32)\n",
    "y_train_tensor = torch.tensor(y_train, dtype=torch.long)\n",
    "X_val_tensor = torch.tensor(X_val, dtype=torch.float32)\n",
    "y_val_tensor = torch.tensor(y_val, dtype=torch.long)\n",
    "X_test_tensor = torch.tensor(X_test, dtype=torch.float32)\n",
    "y_test_tensor = torch.tensor(y_test, dtype=torch.long)\n",
    "class_weights_tensor = torch.tensor(class_weights, dtype=torch.float32).to(device)"
   ]
  },
  {
   "cell_type": "code",
   "execution_count": 49,
   "metadata": {},
   "outputs": [],
   "source": [
    "# Create datasets and dataloaders\n",
    "train_dataset = TensorDataset(X_train_tensor, y_train_tensor)\n",
    "val_dataset = TensorDataset(X_val_tensor, y_val_tensor)\n",
    "test_dataset = TensorDataset(X_test_tensor, y_test_tensor)\n",
    "\n",
    "train_loader = DataLoader(\n",
    "    train_dataset, \n",
    "    batch_size=512,\n",
    "    shuffle=True, \n",
    "    num_workers=4,\n",
    "    pin_memory=True,\n",
    "    prefetch_factor=2\n",
    ")\n",
    "\n",
    "val_loader = DataLoader(\n",
    "    val_dataset, \n",
    "    batch_size=512, \n",
    "    shuffle=False,\n",
    "    num_workers=4,\n",
    "    pin_memory=True\n",
    ")\n",
    "\n",
    "test_loader = DataLoader(\n",
    "    test_dataset, \n",
    "    batch_size=512, \n",
    "    shuffle=False,\n",
    "    num_workers=4,\n",
    "    pin_memory=True\n",
    ")"
   ]
  },
  {
   "cell_type": "code",
   "execution_count": 50,
   "metadata": {},
   "outputs": [
    {
     "name": "stdout",
     "output_type": "stream",
     "text": [
      "Initializing model...\n"
     ]
    }
   ],
   "source": [
    "# Initialize model\n",
    "print(\"Initializing model...\")\n",
    "input_size = X_train.shape[1]\n",
    "output_size = len(label_encoder.classes_)\n",
    "model = ImprovedTagClassifier(input_size, output_size).to(device)"
   ]
  },
  {
   "cell_type": "code",
   "execution_count": 51,
   "metadata": {},
   "outputs": [
    {
     "name": "stderr",
     "output_type": "stream",
     "text": [
      "C:\\Users\\AOZ\\AppData\\Roaming\\Python\\Python312\\site-packages\\torch\\optim\\lr_scheduler.py:62: UserWarning: The verbose parameter is deprecated. Please use get_last_lr() to access the learning rate.\n",
      "  warnings.warn(\n"
     ]
    }
   ],
   "source": [
    "# Define loss function with focal loss component to handle imbalance\n",
    "class FocalLoss(nn.Module):\n",
    "    def __init__(self, weight=None, gamma=2.0, reduction='mean'):\n",
    "        super(FocalLoss, self).__init__()\n",
    "        self.weight = weight\n",
    "        self.gamma = gamma\n",
    "        self.reduction = reduction\n",
    "        self.ce_loss = nn.CrossEntropyLoss(weight=weight, reduction='none')\n",
    "        \n",
    "    def forward(self, inputs, targets):\n",
    "        ce_loss = self.ce_loss(inputs, targets)\n",
    "        pt = torch.exp(-ce_loss)\n",
    "        focal_loss = ((1 - pt) ** self.gamma) * ce_loss\n",
    "        \n",
    "        if self.reduction == 'mean':\n",
    "            return focal_loss.mean()\n",
    "        elif self.reduction == 'sum':\n",
    "            return focal_loss.sum()\n",
    "        else:\n",
    "            return focal_loss\n",
    "\n",
    "# Use a combination of CrossEntropy and Focal Loss\n",
    "criterion = FocalLoss(weight=class_weights_tensor, gamma=2.0)\n",
    "\n",
    "# Define optimizer with weight decay and learning rate scheduler\n",
    "optimizer = optim.AdamW(model.parameters(), lr=0.0001, weight_decay=1e-4)\n",
    "scheduler = optim.lr_scheduler.ReduceLROnPlateau(\n",
    "    optimizer, \n",
    "    mode='min', \n",
    "    factor=0.5, \n",
    "    patience=5, \n",
    "    verbose=True\n",
    ")"
   ]
  },
  {
   "cell_type": "code",
   "execution_count": 52,
   "metadata": {},
   "outputs": [],
   "source": [
    "# Setup mixed precision training\n",
    "scaler = GradScaler()"
   ]
  },
  {
   "cell_type": "code",
   "execution_count": 53,
   "metadata": {},
   "outputs": [],
   "source": [
    "# Define training, validation, and evaluation functions\n",
    "def train_epoch(model, loader, criterion, optimizer, scaler, device):\n",
    "    model.train()\n",
    "    running_loss = 0.0\n",
    "    \n",
    "    for batch_X, batch_y in loader:\n",
    "        batch_X, batch_y = batch_X.to(device), batch_y.to(device)\n",
    "        \n",
    "        optimizer.zero_grad()\n",
    "        \n",
    "        with autocast(device_type=device.type):\n",
    "            outputs = model(batch_X)\n",
    "            loss = criterion(outputs, batch_y)\n",
    "        \n",
    "        scaler.scale(loss).backward()\n",
    "        \n",
    "        # Gradient clipping to prevent exploding gradients\n",
    "        scaler.unscale_(optimizer)\n",
    "        clip_grad_norm_(model.parameters(), max_norm=1.0)\n",
    "        \n",
    "        scaler.step(optimizer)\n",
    "        scaler.update()\n",
    "        \n",
    "        running_loss += loss.item()\n",
    "    \n",
    "    return running_loss / len(loader)\n",
    "\n",
    "def validate(model, loader, criterion, device):\n",
    "    model.eval()\n",
    "    running_loss = 0.0\n",
    "    all_preds = []\n",
    "    all_labels = []\n",
    "    \n",
    "    with torch.no_grad():\n",
    "        for batch_X, batch_y in loader:\n",
    "            batch_X, batch_y = batch_X.to(device), batch_y.to(device)\n",
    "            \n",
    "            with autocast(device_type=device.type):\n",
    "                outputs = model(batch_X)\n",
    "                loss = criterion(outputs, batch_y)\n",
    "            \n",
    "            running_loss += loss.item()\n",
    "            \n",
    "            _, preds = torch.max(outputs, 1)\n",
    "            all_preds.extend(preds.cpu().numpy())\n",
    "            all_labels.extend(batch_y.cpu().numpy())\n",
    "    \n",
    "    # Calculate metrics\n",
    "    accuracy = accuracy_score(all_labels, all_preds)\n",
    "    val_loss = running_loss / len(loader)\n",
    "    \n",
    "    return val_loss, accuracy, all_preds, all_labels\n",
    "\n",
    "def evaluate(model, loader, criterion, device, label_encoder):\n",
    "    val_loss, accuracy, all_preds, all_labels = validate(model, loader, criterion, device)\n",
    "    \n",
    "    print(f\"\\nEvaluation Results:\")\n",
    "    print(f\"Loss: {val_loss:.4f}, Accuracy: {accuracy:.4f}\")\n",
    "    \n",
    "    # Display detailed classification report\n",
    "    print(\"\\nClassification Report:\")\n",
    "    print(classification_report(\n",
    "        all_labels, \n",
    "        all_preds,\n",
    "        labels=np.unique(all_labels),\n",
    "        target_names=label_encoder.inverse_transform(np.unique(all_labels)),\n",
    "        zero_division=0\n",
    "    ))\n",
    "    \n",
    "    # Plot confusion matrix\n",
    "    cm = confusion_matrix(all_labels, all_preds)\n",
    "    plt.figure(figsize=(10, 8))\n",
    "    plt.imshow(cm, interpolation='nearest', cmap=plt.cm.Blues)\n",
    "    plt.title('Confusion Matrix')\n",
    "    plt.colorbar()\n",
    "    \n",
    "    class_names = label_encoder.inverse_transform(np.unique(all_labels))\n",
    "    tick_marks = np.arange(len(class_names))\n",
    "    plt.xticks(tick_marks, class_names, rotation=45)\n",
    "    plt.yticks(tick_marks, class_names)\n",
    "    \n",
    "    # Normalize confusion matrix and print percentages\n",
    "    cm_norm = cm.astype('float') / cm.sum(axis=1)[:, np.newaxis]\n",
    "    thresh = cm.max() / 2.\n",
    "    for i in range(cm.shape[0]):\n",
    "        for j in range(cm.shape[1]):\n",
    "            plt.text(j, i, f\"{cm[i, j]}\\n({cm_norm[i, j]:.2f})\",\n",
    "                     horizontalalignment=\"center\",\n",
    "                     color=\"white\" if cm[i, j] > thresh else \"black\")\n",
    "    \n",
    "    plt.tight_layout()\n",
    "    plt.ylabel('True Label')\n",
    "    plt.xlabel('Predicted Label')\n",
    "    plt.savefig('../models/confusion_matrix.png')\n",
    "    \n",
    "    return val_loss, accuracy"
   ]
  },
  {
   "cell_type": "code",
   "execution_count": 54,
   "metadata": {},
   "outputs": [
    {
     "name": "stdout",
     "output_type": "stream",
     "text": [
      "Starting training...\n",
      "Epoch [1/150] - Train Loss: 5.1298, Val Loss: 1.0124, Val Accuracy: 0.3483, Time: 9.08s\n",
      "Model improved and saved!\n",
      "Epoch [2/150] - Train Loss: 3.3927, Val Loss: 0.9300, Val Accuracy: 0.5952, Time: 8.17s\n",
      "Model improved and saved!\n",
      "Epoch [3/150] - Train Loss: 2.6863, Val Loss: 0.7138, Val Accuracy: 0.7080, Time: 8.19s\n",
      "Model improved and saved!\n",
      "Epoch [4/150] - Train Loss: 2.1876, Val Loss: 0.6052, Val Accuracy: 0.7440, Time: 8.93s\n",
      "Model improved and saved!\n",
      "Epoch [5/150] - Train Loss: 2.0017, Val Loss: 0.4712, Val Accuracy: 0.8067, Time: 9.97s\n",
      "Model improved and saved!\n",
      "Epoch [6/150] - Train Loss: 1.6685, Val Loss: 0.4064, Val Accuracy: 0.8433, Time: 9.57s\n",
      "Model improved and saved!\n",
      "Epoch [7/150] - Train Loss: 1.3883, Val Loss: 0.3541, Val Accuracy: 0.8700, Time: 8.23s\n",
      "Model improved and saved!\n",
      "Epoch [8/150] - Train Loss: 1.3147, Val Loss: 0.3478, Val Accuracy: 0.8760, Time: 9.30s\n",
      "Model improved and saved!\n",
      "Epoch [9/150] - Train Loss: 1.1375, Val Loss: 0.3139, Val Accuracy: 0.8830, Time: 10.53s\n",
      "Model improved and saved!\n",
      "Epoch [10/150] - Train Loss: 1.1118, Val Loss: 0.2904, Val Accuracy: 0.9031, Time: 9.58s\n",
      "Model improved and saved!\n",
      "Epoch [11/150] - Train Loss: 1.0446, Val Loss: 0.2758, Val Accuracy: 0.9018, Time: 10.40s\n",
      "Model improved and saved!\n",
      "Epoch [12/150] - Train Loss: 0.9091, Val Loss: 0.2565, Val Accuracy: 0.9070, Time: 9.24s\n",
      "Model improved and saved!\n",
      "Epoch [13/150] - Train Loss: 0.8470, Val Loss: 0.2478, Val Accuracy: 0.9043, Time: 9.87s\n",
      "Model improved and saved!\n",
      "Epoch [14/150] - Train Loss: 0.8210, Val Loss: 0.2245, Val Accuracy: 0.9033, Time: 10.12s\n",
      "Model improved and saved!\n",
      "Epoch [15/150] - Train Loss: 0.7437, Val Loss: 0.2228, Val Accuracy: 0.9135, Time: 9.71s\n",
      "Model improved and saved!\n",
      "Epoch [16/150] - Train Loss: 0.6863, Val Loss: 0.2094, Val Accuracy: 0.9113, Time: 11.06s\n",
      "Model improved and saved!\n",
      "Epoch [17/150] - Train Loss: 0.6448, Val Loss: 0.1987, Val Accuracy: 0.9117, Time: 9.97s\n",
      "Model improved and saved!\n",
      "Epoch [18/150] - Train Loss: 0.5763, Val Loss: 0.1842, Val Accuracy: 0.9192, Time: 9.05s\n",
      "Model improved and saved!\n",
      "Epoch [19/150] - Train Loss: 0.6041, Val Loss: 0.1807, Val Accuracy: 0.9154, Time: 9.12s\n",
      "Model improved and saved!\n",
      "Epoch [20/150] - Train Loss: 0.5178, Val Loss: 0.1816, Val Accuracy: 0.9119, Time: 8.22s\n",
      "EarlyStopping counter: 1 out of 15\n",
      "Epoch [21/150] - Train Loss: 0.5175, Val Loss: 0.1721, Val Accuracy: 0.9154, Time: 7.55s\n",
      "Model improved and saved!\n",
      "Epoch [22/150] - Train Loss: 0.4651, Val Loss: 0.1574, Val Accuracy: 0.9116, Time: 9.01s\n",
      "Model improved and saved!\n",
      "Epoch [23/150] - Train Loss: 0.4111, Val Loss: 0.1486, Val Accuracy: 0.9143, Time: 7.56s\n",
      "Model improved and saved!\n",
      "Epoch [24/150] - Train Loss: 0.4026, Val Loss: 0.1514, Val Accuracy: 0.9108, Time: 7.67s\n",
      "EarlyStopping counter: 1 out of 15\n",
      "Epoch [25/150] - Train Loss: 0.3738, Val Loss: 0.1443, Val Accuracy: 0.9061, Time: 7.28s\n",
      "Model improved and saved!\n",
      "Epoch [26/150] - Train Loss: 0.4007, Val Loss: 0.1413, Val Accuracy: 0.9111, Time: 7.38s\n",
      "Model improved and saved!\n",
      "Epoch [27/150] - Train Loss: 0.3735, Val Loss: 0.1385, Val Accuracy: 0.8970, Time: 7.39s\n",
      "Model improved and saved!\n",
      "Epoch [28/150] - Train Loss: 0.3314, Val Loss: 0.1401, Val Accuracy: 0.9031, Time: 7.54s\n",
      "EarlyStopping counter: 1 out of 15\n",
      "Epoch [29/150] - Train Loss: 0.3607, Val Loss: 0.1347, Val Accuracy: 0.9076, Time: 7.74s\n",
      "Model improved and saved!\n",
      "Epoch [30/150] - Train Loss: 0.3259, Val Loss: 0.1287, Val Accuracy: 0.9024, Time: 7.42s\n",
      "Model improved and saved!\n",
      "Epoch [31/150] - Train Loss: 0.3109, Val Loss: 0.1266, Val Accuracy: 0.9074, Time: 7.25s\n",
      "Model improved and saved!\n",
      "Epoch [32/150] - Train Loss: 0.2643, Val Loss: 0.1242, Val Accuracy: 0.9098, Time: 7.40s\n",
      "Model improved and saved!\n",
      "Epoch [33/150] - Train Loss: 0.2843, Val Loss: 0.1222, Val Accuracy: 0.9037, Time: 7.51s\n",
      "Model improved and saved!\n",
      "Epoch [34/150] - Train Loss: 0.2968, Val Loss: 0.1196, Val Accuracy: 0.9005, Time: 7.28s\n",
      "Model improved and saved!\n",
      "Epoch [35/150] - Train Loss: 0.2865, Val Loss: 0.1179, Val Accuracy: 0.9037, Time: 8.03s\n",
      "Model improved and saved!\n",
      "Epoch [36/150] - Train Loss: 0.2728, Val Loss: 0.1131, Val Accuracy: 0.8999, Time: 7.82s\n",
      "Model improved and saved!\n",
      "Epoch [37/150] - Train Loss: 0.2599, Val Loss: 0.1136, Val Accuracy: 0.9029, Time: 7.93s\n",
      "EarlyStopping counter: 1 out of 15\n",
      "Epoch [38/150] - Train Loss: 0.2737, Val Loss: 0.1072, Val Accuracy: 0.8925, Time: 7.44s\n",
      "Model improved and saved!\n",
      "Epoch [39/150] - Train Loss: 0.2324, Val Loss: 0.1071, Val Accuracy: 0.8991, Time: 7.41s\n",
      "Model improved and saved!\n",
      "Epoch [40/150] - Train Loss: 0.2606, Val Loss: 0.1016, Val Accuracy: 0.9031, Time: 7.58s\n",
      "Model improved and saved!\n",
      "Epoch [41/150] - Train Loss: 0.2673, Val Loss: 0.1028, Val Accuracy: 0.9011, Time: 7.74s\n",
      "EarlyStopping counter: 1 out of 15\n",
      "Epoch [42/150] - Train Loss: 0.2438, Val Loss: 0.1046, Val Accuracy: 0.9064, Time: 7.36s\n",
      "EarlyStopping counter: 2 out of 15\n",
      "Epoch [43/150] - Train Loss: 0.2334, Val Loss: 0.1080, Val Accuracy: 0.9004, Time: 7.73s\n",
      "EarlyStopping counter: 3 out of 15\n",
      "Epoch [44/150] - Train Loss: 0.2303, Val Loss: 0.1049, Val Accuracy: 0.9028, Time: 7.73s\n",
      "EarlyStopping counter: 4 out of 15\n",
      "Epoch [45/150] - Train Loss: 0.2224, Val Loss: 0.1077, Val Accuracy: 0.8964, Time: 7.34s\n",
      "EarlyStopping counter: 5 out of 15\n",
      "Epoch [46/150] - Train Loss: 0.1858, Val Loss: 0.1034, Val Accuracy: 0.8992, Time: 7.55s\n",
      "EarlyStopping counter: 6 out of 15\n",
      "Epoch [47/150] - Train Loss: 0.1989, Val Loss: 0.1035, Val Accuracy: 0.8932, Time: 7.31s\n",
      "EarlyStopping counter: 7 out of 15\n",
      "Epoch [48/150] - Train Loss: 0.2004, Val Loss: 0.1023, Val Accuracy: 0.8947, Time: 7.45s\n",
      "EarlyStopping counter: 8 out of 15\n",
      "Epoch [49/150] - Train Loss: 0.2009, Val Loss: 0.0993, Val Accuracy: 0.9036, Time: 7.74s\n",
      "Model improved and saved!\n",
      "Epoch [50/150] - Train Loss: 0.2261, Val Loss: 0.0995, Val Accuracy: 0.8952, Time: 7.37s\n",
      "EarlyStopping counter: 1 out of 15\n",
      "Epoch [51/150] - Train Loss: 0.1946, Val Loss: 0.0975, Val Accuracy: 0.9011, Time: 7.42s\n",
      "Model improved and saved!\n",
      "Epoch [52/150] - Train Loss: 0.2078, Val Loss: 0.1007, Val Accuracy: 0.8911, Time: 7.37s\n",
      "EarlyStopping counter: 1 out of 15\n",
      "Epoch [53/150] - Train Loss: 0.2047, Val Loss: 0.0981, Val Accuracy: 0.9000, Time: 7.23s\n",
      "EarlyStopping counter: 2 out of 15\n",
      "Epoch [54/150] - Train Loss: 0.2248, Val Loss: 0.0972, Val Accuracy: 0.9028, Time: 7.63s\n",
      "Model improved and saved!\n",
      "Epoch [55/150] - Train Loss: 0.1892, Val Loss: 0.0962, Val Accuracy: 0.8974, Time: 7.66s\n",
      "Model improved and saved!\n",
      "Epoch [56/150] - Train Loss: 0.1973, Val Loss: 0.0959, Val Accuracy: 0.9012, Time: 7.70s\n",
      "Model improved and saved!\n",
      "Epoch [57/150] - Train Loss: 0.1764, Val Loss: 0.0947, Val Accuracy: 0.9034, Time: 7.55s\n",
      "Model improved and saved!\n",
      "Epoch [58/150] - Train Loss: 0.1866, Val Loss: 0.0956, Val Accuracy: 0.9008, Time: 7.32s\n",
      "EarlyStopping counter: 1 out of 15\n",
      "Epoch [59/150] - Train Loss: 0.1908, Val Loss: 0.0956, Val Accuracy: 0.9047, Time: 7.36s\n",
      "EarlyStopping counter: 2 out of 15\n",
      "Epoch [60/150] - Train Loss: 0.1791, Val Loss: 0.0944, Val Accuracy: 0.9032, Time: 7.38s\n",
      "Model improved and saved!\n",
      "Epoch [61/150] - Train Loss: 0.1773, Val Loss: 0.0954, Val Accuracy: 0.9043, Time: 7.42s\n",
      "EarlyStopping counter: 1 out of 15\n",
      "Epoch [62/150] - Train Loss: 0.1822, Val Loss: 0.0938, Val Accuracy: 0.8989, Time: 7.38s\n",
      "Model improved and saved!\n",
      "Epoch [63/150] - Train Loss: 0.1770, Val Loss: 0.0938, Val Accuracy: 0.9027, Time: 7.55s\n",
      "Model improved and saved!\n",
      "Epoch [64/150] - Train Loss: 0.1635, Val Loss: 0.0923, Val Accuracy: 0.9017, Time: 7.42s\n",
      "Model improved and saved!\n",
      "Epoch [65/150] - Train Loss: 0.1806, Val Loss: 0.0919, Val Accuracy: 0.9052, Time: 7.36s\n",
      "Model improved and saved!\n",
      "Epoch [66/150] - Train Loss: 0.1921, Val Loss: 0.0933, Val Accuracy: 0.9043, Time: 7.59s\n",
      "EarlyStopping counter: 1 out of 15\n",
      "Epoch [67/150] - Train Loss: 0.1730, Val Loss: 0.0936, Val Accuracy: 0.9021, Time: 7.70s\n",
      "EarlyStopping counter: 2 out of 15\n",
      "Epoch [68/150] - Train Loss: 0.1861, Val Loss: 0.0927, Val Accuracy: 0.9063, Time: 7.40s\n",
      "EarlyStopping counter: 3 out of 15\n",
      "Epoch [69/150] - Train Loss: 0.1622, Val Loss: 0.0938, Val Accuracy: 0.9033, Time: 7.77s\n",
      "EarlyStopping counter: 4 out of 15\n",
      "Epoch [70/150] - Train Loss: 0.1907, Val Loss: 0.0992, Val Accuracy: 0.8917, Time: 7.39s\n",
      "EarlyStopping counter: 5 out of 15\n",
      "Epoch [71/150] - Train Loss: 0.1669, Val Loss: 0.0928, Val Accuracy: 0.9021, Time: 7.50s\n",
      "EarlyStopping counter: 6 out of 15\n",
      "Epoch [72/150] - Train Loss: 0.1758, Val Loss: 0.0940, Val Accuracy: 0.9006, Time: 7.45s\n",
      "EarlyStopping counter: 7 out of 15\n",
      "Epoch [73/150] - Train Loss: 0.1584, Val Loss: 0.0938, Val Accuracy: 0.9044, Time: 7.67s\n",
      "EarlyStopping counter: 8 out of 15\n",
      "Epoch [74/150] - Train Loss: 0.1641, Val Loss: 0.0937, Val Accuracy: 0.9053, Time: 7.70s\n",
      "EarlyStopping counter: 9 out of 15\n",
      "Epoch [75/150] - Train Loss: 0.1665, Val Loss: 0.0918, Val Accuracy: 0.9032, Time: 7.38s\n",
      "Model improved and saved!\n",
      "Epoch [76/150] - Train Loss: 0.1757, Val Loss: 0.0916, Val Accuracy: 0.9006, Time: 7.30s\n",
      "Model improved and saved!\n",
      "Epoch [77/150] - Train Loss: 0.1829, Val Loss: 0.0914, Val Accuracy: 0.9068, Time: 8.12s\n",
      "Model improved and saved!\n",
      "Epoch [78/150] - Train Loss: 0.1589, Val Loss: 0.0960, Val Accuracy: 0.8931, Time: 7.89s\n",
      "EarlyStopping counter: 1 out of 15\n",
      "Epoch [79/150] - Train Loss: 0.1675, Val Loss: 0.0889, Val Accuracy: 0.9064, Time: 7.69s\n",
      "Model improved and saved!\n",
      "Epoch [80/150] - Train Loss: 0.1541, Val Loss: 0.0889, Val Accuracy: 0.8994, Time: 7.55s\n",
      "Model improved and saved!\n",
      "Epoch [81/150] - Train Loss: 0.1607, Val Loss: 0.0892, Val Accuracy: 0.8996, Time: 7.60s\n",
      "EarlyStopping counter: 1 out of 15\n",
      "Epoch [82/150] - Train Loss: 0.1533, Val Loss: 0.0897, Val Accuracy: 0.9070, Time: 7.76s\n",
      "EarlyStopping counter: 2 out of 15\n",
      "Epoch [83/150] - Train Loss: 0.1387, Val Loss: 0.0898, Val Accuracy: 0.9023, Time: 7.65s\n",
      "EarlyStopping counter: 3 out of 15\n",
      "Epoch [84/150] - Train Loss: 0.1548, Val Loss: 0.0897, Val Accuracy: 0.9060, Time: 7.57s\n",
      "EarlyStopping counter: 4 out of 15\n",
      "Epoch [85/150] - Train Loss: 0.1642, Val Loss: 0.0881, Val Accuracy: 0.9058, Time: 7.54s\n",
      "Model improved and saved!\n",
      "Epoch [86/150] - Train Loss: 0.1579, Val Loss: 0.0885, Val Accuracy: 0.9076, Time: 8.04s\n",
      "EarlyStopping counter: 1 out of 15\n",
      "Epoch [87/150] - Train Loss: 0.1629, Val Loss: 0.0891, Val Accuracy: 0.9070, Time: 7.94s\n",
      "EarlyStopping counter: 2 out of 15\n",
      "Epoch [88/150] - Train Loss: 0.1610, Val Loss: 0.0889, Val Accuracy: 0.9060, Time: 7.89s\n",
      "EarlyStopping counter: 3 out of 15\n",
      "Epoch [89/150] - Train Loss: 0.1554, Val Loss: 0.0888, Val Accuracy: 0.9043, Time: 7.82s\n",
      "EarlyStopping counter: 4 out of 15\n",
      "Epoch [90/150] - Train Loss: 0.1526, Val Loss: 0.0880, Val Accuracy: 0.9081, Time: 7.73s\n",
      "Model improved and saved!\n",
      "Epoch [91/150] - Train Loss: 0.1476, Val Loss: 0.0884, Val Accuracy: 0.9097, Time: 7.73s\n",
      "EarlyStopping counter: 1 out of 15\n",
      "Epoch [92/150] - Train Loss: 0.1542, Val Loss: 0.0881, Val Accuracy: 0.9034, Time: 7.94s\n",
      "EarlyStopping counter: 2 out of 15\n",
      "Epoch [93/150] - Train Loss: 0.1624, Val Loss: 0.0880, Val Accuracy: 0.9076, Time: 8.54s\n",
      "Model improved and saved!\n",
      "Epoch [94/150] - Train Loss: 0.1568, Val Loss: 0.0894, Val Accuracy: 0.8958, Time: 8.19s\n",
      "EarlyStopping counter: 1 out of 15\n",
      "Epoch [95/150] - Train Loss: 0.1584, Val Loss: 0.0880, Val Accuracy: 0.9029, Time: 7.85s\n",
      "EarlyStopping counter: 2 out of 15\n",
      "Epoch [96/150] - Train Loss: 0.1867, Val Loss: 0.0882, Val Accuracy: 0.9101, Time: 8.00s\n",
      "EarlyStopping counter: 3 out of 15\n",
      "Epoch [97/150] - Train Loss: 0.1324, Val Loss: 0.0878, Val Accuracy: 0.9106, Time: 8.19s\n",
      "Model improved and saved!\n",
      "Epoch [98/150] - Train Loss: 0.1597, Val Loss: 0.0882, Val Accuracy: 0.9146, Time: 7.77s\n",
      "EarlyStopping counter: 1 out of 15\n",
      "Epoch [99/150] - Train Loss: 0.1414, Val Loss: 0.0882, Val Accuracy: 0.9102, Time: 8.26s\n",
      "EarlyStopping counter: 2 out of 15\n",
      "Epoch [100/150] - Train Loss: 0.1524, Val Loss: 0.0867, Val Accuracy: 0.9082, Time: 7.66s\n",
      "Model improved and saved!\n",
      "Epoch [101/150] - Train Loss: 0.1656, Val Loss: 0.0880, Val Accuracy: 0.9023, Time: 7.85s\n",
      "EarlyStopping counter: 1 out of 15\n",
      "Epoch [102/150] - Train Loss: 0.1538, Val Loss: 0.0858, Val Accuracy: 0.9087, Time: 7.72s\n",
      "Model improved and saved!\n",
      "Epoch [103/150] - Train Loss: 0.1560, Val Loss: 0.0896, Val Accuracy: 0.9026, Time: 8.11s\n",
      "EarlyStopping counter: 1 out of 15\n",
      "Epoch [104/150] - Train Loss: 0.1410, Val Loss: 0.0864, Val Accuracy: 0.9056, Time: 7.58s\n",
      "EarlyStopping counter: 2 out of 15\n",
      "Epoch [105/150] - Train Loss: 0.1469, Val Loss: 0.0857, Val Accuracy: 0.9095, Time: 7.61s\n",
      "Model improved and saved!\n",
      "Epoch [106/150] - Train Loss: 0.1571, Val Loss: 0.0877, Val Accuracy: 0.9044, Time: 7.62s\n",
      "EarlyStopping counter: 1 out of 15\n",
      "Epoch [107/150] - Train Loss: 0.1731, Val Loss: 0.0855, Val Accuracy: 0.9049, Time: 7.41s\n",
      "Model improved and saved!\n",
      "Epoch [108/150] - Train Loss: 0.1262, Val Loss: 0.0857, Val Accuracy: 0.9069, Time: 7.66s\n",
      "EarlyStopping counter: 1 out of 15\n",
      "Epoch [109/150] - Train Loss: 0.1516, Val Loss: 0.0853, Val Accuracy: 0.9134, Time: 7.42s\n",
      "Model improved and saved!\n",
      "Epoch [110/150] - Train Loss: 0.1394, Val Loss: 0.0854, Val Accuracy: 0.9135, Time: 7.58s\n",
      "EarlyStopping counter: 1 out of 15\n",
      "Epoch [111/150] - Train Loss: 0.1358, Val Loss: 0.0849, Val Accuracy: 0.9081, Time: 7.53s\n",
      "Model improved and saved!\n",
      "Epoch [112/150] - Train Loss: 0.1465, Val Loss: 0.0850, Val Accuracy: 0.9063, Time: 7.44s\n",
      "EarlyStopping counter: 1 out of 15\n",
      "Epoch [113/150] - Train Loss: 0.1462, Val Loss: 0.0847, Val Accuracy: 0.9139, Time: 7.68s\n",
      "Model improved and saved!\n",
      "Epoch [114/150] - Train Loss: 0.1489, Val Loss: 0.0863, Val Accuracy: 0.9108, Time: 7.64s\n",
      "EarlyStopping counter: 1 out of 15\n",
      "Epoch [115/150] - Train Loss: 0.1385, Val Loss: 0.0857, Val Accuracy: 0.9133, Time: 8.20s\n",
      "EarlyStopping counter: 2 out of 15\n",
      "Epoch [116/150] - Train Loss: 0.1364, Val Loss: 0.0838, Val Accuracy: 0.9112, Time: 7.86s\n",
      "Model improved and saved!\n",
      "Epoch [117/150] - Train Loss: 0.1413, Val Loss: 0.0851, Val Accuracy: 0.9118, Time: 7.72s\n",
      "EarlyStopping counter: 1 out of 15\n",
      "Epoch [118/150] - Train Loss: 0.1454, Val Loss: 0.0841, Val Accuracy: 0.9157, Time: 8.67s\n",
      "EarlyStopping counter: 2 out of 15\n",
      "Epoch [119/150] - Train Loss: 0.1418, Val Loss: 0.0855, Val Accuracy: 0.9064, Time: 9.17s\n",
      "EarlyStopping counter: 3 out of 15\n",
      "Epoch [120/150] - Train Loss: 0.1219, Val Loss: 0.0845, Val Accuracy: 0.9143, Time: 8.69s\n",
      "EarlyStopping counter: 4 out of 15\n",
      "Epoch [121/150] - Train Loss: 0.1335, Val Loss: 0.0846, Val Accuracy: 0.9096, Time: 8.42s\n",
      "EarlyStopping counter: 5 out of 15\n",
      "Epoch [122/150] - Train Loss: 0.1359, Val Loss: 0.0839, Val Accuracy: 0.9133, Time: 8.08s\n",
      "EarlyStopping counter: 6 out of 15\n",
      "Epoch [123/150] - Train Loss: 0.1319, Val Loss: 0.0836, Val Accuracy: 0.9139, Time: 9.22s\n",
      "Model improved and saved!\n",
      "Epoch [124/150] - Train Loss: 0.1295, Val Loss: 0.0839, Val Accuracy: 0.9090, Time: 7.75s\n",
      "EarlyStopping counter: 1 out of 15\n",
      "Epoch [125/150] - Train Loss: 0.1311, Val Loss: 0.0839, Val Accuracy: 0.9130, Time: 8.81s\n",
      "EarlyStopping counter: 2 out of 15\n",
      "Epoch [126/150] - Train Loss: 0.1320, Val Loss: 0.0837, Val Accuracy: 0.9144, Time: 7.67s\n",
      "EarlyStopping counter: 3 out of 15\n",
      "Epoch [127/150] - Train Loss: 0.1386, Val Loss: 0.0838, Val Accuracy: 0.9147, Time: 7.92s\n",
      "EarlyStopping counter: 4 out of 15\n",
      "Epoch [128/150] - Train Loss: 0.1404, Val Loss: 0.0845, Val Accuracy: 0.9127, Time: 8.70s\n",
      "EarlyStopping counter: 5 out of 15\n",
      "Epoch [129/150] - Train Loss: 0.1368, Val Loss: 0.0846, Val Accuracy: 0.9152, Time: 8.65s\n",
      "EarlyStopping counter: 6 out of 15\n",
      "Epoch [130/150] - Train Loss: 0.1323, Val Loss: 0.0839, Val Accuracy: 0.9146, Time: 7.60s\n",
      "EarlyStopping counter: 7 out of 15\n",
      "Epoch [131/150] - Train Loss: 0.1289, Val Loss: 0.0836, Val Accuracy: 0.9130, Time: 7.74s\n",
      "EarlyStopping counter: 8 out of 15\n",
      "Epoch [132/150] - Train Loss: 0.1404, Val Loss: 0.0844, Val Accuracy: 0.9154, Time: 7.72s\n",
      "EarlyStopping counter: 9 out of 15\n",
      "Epoch [133/150] - Train Loss: 0.1349, Val Loss: 0.0838, Val Accuracy: 0.9130, Time: 7.69s\n",
      "EarlyStopping counter: 10 out of 15\n",
      "Epoch [134/150] - Train Loss: 0.1543, Val Loss: 0.0843, Val Accuracy: 0.9157, Time: 8.76s\n",
      "EarlyStopping counter: 11 out of 15\n",
      "Epoch [135/150] - Train Loss: 0.1390, Val Loss: 0.0836, Val Accuracy: 0.9100, Time: 8.94s\n",
      "EarlyStopping counter: 12 out of 15\n",
      "Epoch [136/150] - Train Loss: 0.1346, Val Loss: 0.0842, Val Accuracy: 0.9160, Time: 7.80s\n",
      "EarlyStopping counter: 13 out of 15\n",
      "Epoch [137/150] - Train Loss: 0.1497, Val Loss: 0.0840, Val Accuracy: 0.9162, Time: 7.54s\n",
      "EarlyStopping counter: 14 out of 15\n",
      "Epoch [138/150] - Train Loss: 0.1479, Val Loss: 0.0842, Val Accuracy: 0.9166, Time: 7.68s\n",
      "EarlyStopping counter: 15 out of 15\n",
      "Early stopping triggered after 138 epochs\n",
      "Total training time: 1104.43 seconds\n"
     ]
    }
   ],
   "source": [
    "# Training loop with early stopping\n",
    "print(\"Starting training...\")\n",
    "epochs = 150\n",
    "best_val_loss = float('inf')\n",
    "patience = 15\n",
    "counter = 0\n",
    "early_stop = False\n",
    "\n",
    "# For plotting\n",
    "train_losses = []\n",
    "val_losses = []\n",
    "val_accuracies = []\n",
    "\n",
    "start_time = time.time()\n",
    "\n",
    "for epoch in range(epochs):\n",
    "    epoch_start = time.time()\n",
    "    \n",
    "    # Train\n",
    "    train_loss = train_epoch(model, train_loader, criterion, optimizer, scaler, device)\n",
    "    \n",
    "    # Validate\n",
    "    val_loss, val_accuracy, _, _ = validate(model, val_loader, criterion, device)\n",
    "    \n",
    "    # Update learning rate based on validation loss\n",
    "    scheduler.step(val_loss)\n",
    "    \n",
    "    # Save metrics for plotting\n",
    "    train_losses.append(train_loss)\n",
    "    val_losses.append(val_loss)\n",
    "    val_accuracies.append(val_accuracy)\n",
    "    \n",
    "    # Print progress\n",
    "    epoch_time = time.time() - epoch_start\n",
    "    print(f\"Epoch [{epoch+1}/{epochs}] - \"\n",
    "          f\"Train Loss: {train_loss:.4f}, \"\n",
    "          f\"Val Loss: {val_loss:.4f}, \"\n",
    "          f\"Val Accuracy: {val_accuracy:.4f}, \"\n",
    "          f\"Time: {epoch_time:.2f}s\")\n",
    "    \n",
    "    # Early stopping check\n",
    "    if val_loss < best_val_loss:\n",
    "        best_val_loss = val_loss\n",
    "        counter = 0\n",
    "        # Save the best model\n",
    "        torch.save({\n",
    "            'epoch': epoch,\n",
    "            'model_state_dict': model.state_dict(),\n",
    "            'optimizer_state_dict': optimizer.state_dict(),\n",
    "            'val_loss': val_loss,\n",
    "            'val_accuracy': val_accuracy\n",
    "        }, \"../models/best_tag_classifier.pth\")\n",
    "        print(f\"Model improved and saved!\")\n",
    "    else:\n",
    "        counter += 1\n",
    "        print(f\"EarlyStopping counter: {counter} out of {patience}\")\n",
    "        if counter >= patience:\n",
    "            print(f\"Early stopping triggered after {epoch+1} epochs\")\n",
    "            early_stop = True\n",
    "    \n",
    "    # Break if early stopping\n",
    "    if early_stop:\n",
    "        break\n",
    "\n",
    "# Total training time\n",
    "total_time = time.time() - start_time\n",
    "print(f\"Total training time: {total_time:.2f} seconds\")"
   ]
  },
  {
   "cell_type": "code",
   "execution_count": 55,
   "metadata": {},
   "outputs": [
    {
     "data": {
      "image/png": "[encoded data removed]",
      "text/plain": [
       "<Figure size 1200x500 with 2 Axes>"
      ]
     },
     "metadata": {},
     "output_type": "display_data"
    }
   ],
   "source": [
    "# Plot training history\n",
    "plt.figure(figsize=(12, 5))\n",
    "\n",
    "# Plot loss\n",
    "plt.subplot(1, 2, 1)\n",
    "plt.plot(train_losses, label='Training Loss')\n",
    "plt.plot(val_losses, label='Validation Loss')\n",
    "plt.title('Loss over epochs')\n",
    "plt.xlabel('Epoch')\n",
    "plt.ylabel('Loss')\n",
    "plt.legend()\n",
    "\n",
    "# Plot accuracy\n",
    "plt.subplot(1, 2, 2)\n",
    "plt.plot(val_accuracies, label='Validation Accuracy')\n",
    "plt.title('Accuracy over epochs')\n",
    "plt.xlabel('Epoch')\n",
    "plt.ylabel('Accuracy')\n",
    "plt.legend()\n",
    "plt.show()\n",
    "plt.tight_layout()\n",
    "plt.savefig('../models/training_history.png')\n",
    "plt.close()"
   ]
  },
  {
   "cell_type": "code",
   "execution_count": 56,
   "metadata": {},
   "outputs": [
    {
     "name": "stdout",
     "output_type": "stream",
     "text": [
      "Loading best model for evaluation...\n",
      "Loaded model from epoch 123 with validation loss: 0.0836\n"
     ]
    },
    {
     "name": "stderr",
     "output_type": "stream",
     "text": [
      "C:\\Users\\AOZ\\AppData\\Local\\Temp\\ipykernel_32272\\2536954669.py:3: FutureWarning: You are using `torch.load` with `weights_only=False` (the current default value), which uses the default pickle module implicitly. It is possible to construct malicious pickle data which will execute arbitrary code during unpickling (See https://github.com/pytorch/pytorch/blob/main/SECURITY.md#untrusted-models for more details). In a future release, the default value for `weights_only` will be flipped to `True`. This limits the functions that could be executed during unpickling. Arbitrary objects will no longer be allowed to be loaded via this mode unless they are explicitly allowlisted by the user via `torch.serialization.add_safe_globals`. We recommend you start setting `weights_only=True` for any use case where you don't have full control of the loaded file. Please open an issue on GitHub for any issues related to this experimental feature.\n",
      "  checkpoint = torch.load(\"../models/best_tag_classifier.pth\")\n"
     ]
    }
   ],
   "source": [
    "# Load the best model for evaluation\n",
    "print(\"Loading best model for evaluation...\")\n",
    "checkpoint = torch.load(\"../models/best_tag_classifier.pth\")\n",
    "model.load_state_dict(checkpoint['model_state_dict'])\n",
    "print(f\"Loaded model from epoch {checkpoint['epoch']+1} with validation loss: {checkpoint['val_loss']:.4f}\")"
   ]
  },
  {
   "cell_type": "code",
   "execution_count": 57,
   "metadata": {},
   "outputs": [
    {
     "name": "stdout",
     "output_type": "stream",
     "text": [
      "\n",
      "Evaluating on test set...\n",
      "\n",
      "Evaluation Results:\n",
      "Loss: 0.0802, Accuracy: 0.9223\n",
      "\n",
      "Classification Report:\n",
      "              precision    recall  f1-score   support\n",
      "\n",
      "      BUTTON       0.44      0.96      0.60       425\n",
      "         DIV       1.00      0.92      0.96      9060\n",
      "       INPUT       0.26      0.99      0.41        79\n",
      "\n",
      "    accuracy                           0.92      9564\n",
      "   macro avg       0.57      0.96      0.66      9564\n",
      "weighted avg       0.97      0.92      0.94      9564\n",
      "\n",
      "\n",
      "Test Loss: 0.0802\n",
      "Test Accuracy: 0.9223\n"
     ]
    },
    {
     "data": {
      "image/png": "[encoded data removed]",
      "text/plain": [
       "<Figure size 1000x800 with 2 Axes>"
      ]
     },
     "metadata": {},
     "output_type": "display_data"
    }
   ],
   "source": [
    "# 23. Evaluate on test set\n",
    "print(\"\\nEvaluating on test set...\")\n",
    "test_loss, test_accuracy = evaluate(model, test_loader, criterion, device, label_encoder)\n",
    "print(f\"\\nTest Loss: {test_loss:.4f}\")\n",
    "print(f\"Test Accuracy: {test_accuracy:.4f}\")"
   ]
  },
  {
   "cell_type": "code",
   "execution_count": 58,
   "metadata": {},
   "outputs": [
    {
     "name": "stdout",
     "output_type": "stream",
     "text": [
      "\n",
      "Analyzing feature importance...\n",
      "\n",
      "Top 20 most important features:\n",
      "1. type_VECTOR: 0.0678\n",
      "2. sibling_count: 0.0641\n",
      "3. width: 0.0624\n",
      "4. type_ELLIPSE: 0.0624\n",
      "5. prev_sibling_html_tag_IMG: 0.0613\n",
      "6. child_1_html_tag_IMG: 0.0587\n",
      "7. prev_sibling_html_tag_BUTTON: 0.0579\n",
      "8. child_2_html_tag_LI: 0.0574\n",
      "9. nearest_text_node_dist: 0.0571\n",
      "10. type_GROUP: 0.0560\n",
      "11. child_1_html_tag_SVG: 0.0552\n",
      "12. child_2_html_tag_IMG: 0.0548\n",
      "13. child_1_html_tag_LI: 0.0547\n",
      "14. type_INSTANCE: 0.0546\n",
      "15. type_COMPONENT: 0.0543\n",
      "16. prev_sibling_html_tag_CHECKBOX: 0.0541\n",
      "17. type_RECTANGLE: 0.0541\n",
      "18. child_2_html_tag_INPUT: 0.0535\n",
      "19. child_2_html_tag_SVG: 0.0532\n",
      "20. child_1_html_tag_BUTTON: 0.0530\n"
     ]
    }
   ],
   "source": [
    "# Feature importance analysis\n",
    "print(\"\\nAnalyzing feature importance...\")\n",
    "with torch.no_grad():\n",
    "    # We'll use gradient based feature importance\n",
    "    # First collect the weights from the first layer\n",
    "    weights = model.fc1.weight.cpu().numpy()\n",
    "    importance = np.abs(weights).mean(axis=0)\n",
    "    \n",
    "    # Get feature names\n",
    "    cat_feature_names = ohe.get_feature_names_out(categorical_cols)\n",
    "    all_feature_names = np.concatenate([cat_feature_names, np.array(continuous_cols)])\n",
    "    \n",
    "    # Sort and display\n",
    "    feature_importance = list(zip(all_feature_names, importance))\n",
    "    feature_importance.sort(key=lambda x: x[1], reverse=True)\n",
    "    \n",
    "    print(\"\\nTop 20 most important features:\")\n",
    "    for i, (feature, imp) in enumerate(feature_importance[:20]):\n",
    "        print(f\"{i+1}. {feature}: {imp:.4f}\")\n",
    "    \n",
    "    # Visualize top features\n",
    "    plt.figure(figsize=(12, 6))\n",
    "    top_features = feature_importance[:15]\n",
    "    features, importances = zip(*top_features)\n",
    "    plt.barh(range(len(features)), importances, align='center')\n",
    "    plt.yticks(range(len(features)), features)\n",
    "    plt.xlabel('Importance')\n",
    "    plt.ylabel('Feature')\n",
    "    plt.title('Top 15 Feature Importances')\n",
    "    plt.tight_layout()\n",
    "    plt.savefig('../models/feature_importance.png')\n",
    "    plt.close()"
   ]
  },
  {
   "cell_type": "code",
   "execution_count": 59,
   "metadata": {},
   "outputs": [
    {
     "name": "stdout",
     "output_type": "stream",
     "text": [
      "\n",
      "Saving final model with all preprocessing components...\n",
      "\n",
      "Training and evaluation complete!\n"
     ]
    }
   ],
   "source": [
    "# Final model saving\n",
    "print(\"\\nSaving final model with all preprocessing components...\")\n",
    "torch.save({\n",
    "    'model_state_dict': model.state_dict(),\n",
    "    'input_size': input_size,\n",
    "    'output_size': output_size,\n",
    "    'scaler': scaler,\n",
    "    'imputer': imputer,\n",
    "    'ohe_encoder': ohe,\n",
    "    'label_encoder': label_encoder\n",
    "}, \"../models/tag_classifier_complete.pth\")\n",
    "\n",
    "print(\"\\nTraining and evaluation complete!\")"
   ]
  }
 ],
 "metadata": {
  "kernelspec": {
   "display_name": "Python 3",
   "language": "python",
   "name": "python3"
  },
  "language_info": {
   "codemirror_mode": {
    "name": "ipython",
    "version": 3
   },
   "file_extension": ".py",
   "mimetype": "text/x-python",
   "name": "python",
   "nbconvert_exporter": "python",
   "pygments_lexer": "ipython3",
   "version": "3.12.6"
  }
 },
 "nbformat": 4,
 "nbformat_minor": 2
}
