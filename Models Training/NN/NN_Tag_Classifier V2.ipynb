{
 "cells": [
  {
   "cell_type": "code",
   "execution_count": 1,
   "metadata": {},
   "outputs": [],
   "source": [
    "import torch\n",
    "import torch.nn as nn\n",
    "import torch.optim as optim\n",
    "import pandas as pd\n",
    "import numpy as np\n",
    "import joblib\n",
    "import time\n",
    "import matplotlib.pyplot as plt\n",
    "from sklearn.preprocessing import LabelEncoder, StandardScaler, OneHotEncoder\n",
    "from sklearn.impute import SimpleImputer\n",
    "from sklearn.model_selection import train_test_split\n",
    "from sklearn.metrics import accuracy_score, classification_report, confusion_matrix\n",
    "from sklearn.utils.class_weight import compute_class_weight\n",
    "from torch.amp import autocast, GradScaler\n",
    "from torch.utils.data import TensorDataset, DataLoader\n",
    "from torch.nn.utils import clip_grad_norm_"
   ]
  },
  {
   "cell_type": "code",
   "execution_count": 2,
   "metadata": {},
   "outputs": [],
   "source": [
    "# Enable cuDNN benchmarking for faster training\n",
    "torch.backends.cudnn.benchmark = True"
   ]
  },
  {
   "cell_type": "code",
   "execution_count": null,
   "metadata": {},
   "outputs": [
    {
     "name": "stdout",
     "output_type": "stream",
     "text": [
      "Loading and cleaning data...\n",
      "Unique Child 1\n",
      "['SVG' nan 'ICON' 'DIV' 'P' 'INPUT' 'BUTTON']\n",
      "Unique Child 2\n",
      "['DIV' nan 'P' 'INPUT' 'BUTTON' 'ICON' 'SVG' 'CHECKBOX']\n",
      "prev html tag\n",
      "[nan 'SVG' 'ICON' 'DIV' 'P' 'INPUT' 'BUTTON']\n",
      "Unique tags after cleaning: ['DIV' 'INPUT' 'BUTTON']\n",
      "Total samples: 2347\n",
      "Distribution of tags: \n",
      "tag\n",
      "DIV       2125\n",
      "BUTTON     113\n",
      "INPUT      109\n",
      "Name: count, dtype: int64\n"
     ]
    },
    {
     "name": "stderr",
     "output_type": "stream",
     "text": [
      "C:\\Users\\AOZ\\AppData\\Local\\Temp\\ipykernel_45548\\3439834671.py:54: UserWarning: This pattern is interpreted as a regular expression, and has match groups. To actually get the groups, use str.extract.\n",
      "  df = df[~df['tag'].str.contains(r'\\b(P|IMG|SVG|ICON|CHECKBOX|RADIO)\\b', regex=True)]\n"
     ]
    }
   ],
   "source": [
    "# 1. Load dataset and clean data\n",
    "print(\"Loading and cleaning data...\")\n",
    "df = pd.read_csv(\"Dataset/new_figma_dataset2.csv\")\n",
    "if 'parent_tag_html' in df.columns:\n",
    "    df = df.drop(columns=['parent_tag_html'])\n",
    "\n",
    "\n",
    "# df = df[~df['tag'].str.contains(r'[-:]', regex=True)]\n",
    "# df = df[~df['tag'].str.contains(r'\\b(CNX|ADDRESS|ASIDE|CANVAS|CITE|DD|DL|DT|ICON|S|VECTOR|DEL|LEGEND|BDI|LOGO|OBJECT|OPTGROUP|CENTER|CODE|BLOCKQUOTE|FRONT|Q|IFRAME|A|HR|SEARCH|DETAILS|FIELDSET|SLOT|SVG|AD|ADSLOT|AUDIO|BLINK|BOLD|COL|COLGROUP|COMMENTS|DATA|DIALOG|EMBED|EMPHASIS|FONT|H7|HGROUP|INS|INTERACTION|ITALIC|ITEMTEMPLATE|MARK|MATH|MENU|MI|MN|MO|MROW|MSUP|NOBR|OFFER|OPTION|PATH|PROGRESS|STRIKE|SWAL|TEXT|TFOOT|TITLE|TT|VAR|VEV|W|WBR|COUNTRY|ESI:INCLUDE|HTTPS:|LOGIN|NOCSRIPT|PERSONAL|STONG|CONTENT|DELIVERY|LEFT|MSUBSUP|KBD|ROOT|PARAGRAPH|BE|AI2SVELTEWRAP|BANNER|PHOTO1|UNK)\\b', regex=True)]\n",
    "\n",
    "# Define the regex pattern for matching\n",
    "# pattern = r'[-:]|\\b(CNX|ADDRESS|ASIDE|CANVAS|CITE|DD|DL|DT|ICON|S|VECTOR|DEL|LEGEND|BDI|LOGO|OBJECT|OPTGROUP|CENTER|CODE|BLOCKQUOTE|FRONT|Q|IFRAME|SEARCH|DETAILS|FIELDSET|SLOT|AD|ADSLOT|AUDIO|BLINK|BOLD|COL|COLGROUP|COMMENTS|DATA|DIALOG|EMBED|EMPHASIS|FONT|H7|HGROUP|INS|INTERACTION|ITALIC|ITEMTEMPLATE|MARK|MATH|MENU|MI|MN|MO|MROW|MSUP|NOBR|OFFER|OPTION|PATH|PROGRESS|STRIKE|SWAL|TEXT|TFOOT|TITLE|TT|VAR|VEV|W|WBR|COUNTRY|ESI:INCLUDE|HTTPS:|LOGIN|NOCSRIPT|PERSONAL|STONG|CONTENT|DELIVERY|LEFT|MSUBSUP|KBD|ROOT|PARAGRAPH|BE|AI2SVELTEWRAP|BANNER|PHOTO1|UNK)\\b'\n",
    "\n",
    "# Apply the replacement conditionally\n",
    "# for col in ['prev_sibling_html_tag', 'child_1_html_tag', 'child_2_html_tag']:\n",
    "#     df[col] = np.where(df[col].str.contains(pattern, regex=True, na=False), 'DIV', df[col])\n",
    "\n",
    "# Define mapping for tag replacements\n",
    "tag_mapping = {\n",
    "    \"ARTICLE\": \"DIV\", \"DIV\": \"DIV\", \"FIGURE\": \"DIV\", \n",
    "    \"HEADER\": \"DIV\", \"NAV\": \"DIV\", \"MAIN\": \"DIV\",\n",
    "    \"BODY\" : \"DIV\", \"FORM\" : \"DIV\", \"OL\" : \"DIV\", \"UL\" : \"DIV\", \"TABLE\": \"DIV\", \"THEAD\":\"DIV\" , \"TBODY\": \"DIV\", \"SECTION\" : \"DIV\",\n",
    "    \"H1\": \"P\", \"H2\": \"P\", \"H3\": \"P\", \"H4\": \"P\", \"H5\": \"P\", \"H6\": \"P\",\"SUP\": \"P\",\"SUB\": \"P\", \"BIG\": \"P\",\n",
    "    \"P\": \"P\", \"CAPTION\": \"P\", \"FIGCAPTION\": \"P\", \"B\": \"P\", \"EM\": \"P\", \"I\": \"P\", \"TD\": \"P\", \"TH\": \"P\", \"TR\": \"P\",\"PRE\":\"P\",\n",
    "    \"U\": \"P\", \"TIME\": \"P\", \"TXT\": \"P\", \"ABBR\": \"P\",\"SMALL\": \"P\",\"STRONG\": \"P\",\"SUMMARY\": \"P\",\"SPAN\": \"P\", \n",
    "    \"PICTURE\": \"IMG\" , \"VIDEO\": \"IMG\",\n",
    "    \"SELECT\": \"INPUT\",\"TEXTAREA\": \"INPUT\",\n",
    "    \"UNK\": \"DIV\",\n",
    "    \"FOOTER\": \"DIV\",\"NAVBAR\": \"DIV\",\"LIST\":\"DIV\",\"CARD\":\"DIV\",\n",
    "    \"LABEL\": \"P\",\"LI\":\"P\",\"A\":\"P\",\n",
    "    \"DROPDOWN\":\"INPUT\",\n",
    "    # \"CHECKBOX\": \"INPUT\", \"RADIO\": \"INPUT\"\n",
    "}\n",
    "\n",
    "# df.loc[(df[\"tag\"] == \"LABEL\") & ((df[\"type\"] == \"RECTANGLE\") | (df[\"type\"] == \"GROUP\")), \"tag\"] = \"DIV\"\n",
    "df.loc[(df[\"tag\"] == \"SPAN\") & ((df[\"type\"] == \"RECTANGLE\") | (df[\"type\"] == \"GROUP\")), \"tag\"] = \"DIV\"\n",
    "\n",
    "# Replace any value in children tag columns that contains '-' with 'DIV'\n",
    "children_cols = ['child_1_html_tag', 'child_2_html_tag']\n",
    "for col in children_cols:\n",
    "    df[col] = df[col].apply(lambda x: \"DIV\" if isinstance(x, str) and '-' in x else x)\n",
    "\n",
    "# Convert tag and parent_tag_html columns to uppercase\n",
    "df['tag'] = df['tag'].str.upper()\n",
    "df['prev_sibling_html_tag'] = df['prev_sibling_html_tag'].str.upper()\n",
    "df['child_1_html_tag'] = df['child_1_html_tag'].str.upper()\n",
    "df['child_2_html_tag'] = df['child_2_html_tag'].str.upper()\n",
    "\n",
    "# Apply mapping to 'tag' and 'parent_tag_html' columns\n",
    "df['tag'] = df['tag'].replace(tag_mapping)\n",
    "df['prev_sibling_html_tag'] = df['prev_sibling_html_tag'].replace(tag_mapping)\n",
    "df['child_1_html_tag'] = df['child_1_html_tag'].replace(tag_mapping)\n",
    "df['child_2_html_tag'] = df['child_2_html_tag'].replace(tag_mapping)\n",
    "\n",
    "\n",
    "\n",
    "df = df[~df['tag'].str.contains(r'\\b(P|IMG|SVG|ICON|CHECKBOX|RADIO)\\b', regex=True)]\n",
    "\n",
    "print(\"Unique Child 1\")\n",
    "print(df['child_1_html_tag'].unique())\n",
    "\n",
    "print(\"Unique Child 2\")\n",
    "print(df['child_2_html_tag'].unique())\n",
    "\n",
    "print(\"prev html tag\")\n",
    "print(df['prev_sibling_html_tag'].unique())\n",
    "\n",
    "# Print data summary\n",
    "print(f\"Unique tags after cleaning: {df['tag'].unique()}\")\n",
    "print(f\"Total samples: {len(df)}\")\n",
    "print(f\"Distribution of tags: \\n{df['tag'].value_counts()}\")"
   ]
  },
  {
   "cell_type": "code",
   "execution_count": 4,
   "metadata": {},
   "outputs": [],
   "source": [
    "# 2. Separate features and target\n",
    "y = df[\"tag\"]\n",
    "X = df.drop(columns=[\"tag\"])"
   ]
  },
  {
   "cell_type": "code",
   "execution_count": 5,
   "metadata": {},
   "outputs": [],
   "source": [
    "# 3. Identify categorical and continuous columns\n",
    "categorical_cols = ['type','prev_sibling_html_tag','child_1_html_tag','child_2_html_tag']\n",
    "continuous_cols = [col for col in X.columns if col not in categorical_cols]"
   ]
  },
  {
   "cell_type": "code",
   "execution_count": null,
   "metadata": {},
   "outputs": [
    {
     "name": "stdout",
     "output_type": "stream",
     "text": [
      "Processing categorical features...\n"
     ]
    },
    {
     "data": {
      "text/plain": [
       "['ohe_encoder.pkl']"
      ]
     },
     "execution_count": 6,
     "metadata": {},
     "output_type": "execute_result"
    }
   ],
   "source": [
    "# 4. Process categorical features with OneHotEncoder\n",
    "print(\"Processing categorical features...\")\n",
    "X[categorical_cols] = X[categorical_cols].astype(str).fillna('unknown')\n",
    "ohe = OneHotEncoder(sparse_output=False, handle_unknown='ignore')\n",
    "X_cat_encoded = ohe.fit_transform(X[categorical_cols])\n",
    "joblib.dump(ohe, \"models/ohe_encoder.pkl\")"
   ]
  },
  {
   "cell_type": "code",
   "execution_count": null,
   "metadata": {},
   "outputs": [
    {
     "name": "stdout",
     "output_type": "stream",
     "text": [
      "Handling missing values...\n"
     ]
    },
    {
     "data": {
      "text/plain": [
       "['imputer.pkl']"
      ]
     },
     "execution_count": 7,
     "metadata": {},
     "output_type": "execute_result"
    }
   ],
   "source": [
    "# 5. Handle missing values in continuous features\n",
    "print(\"Handling missing values...\")\n",
    "imputer = SimpleImputer(strategy='median')  # Changed to median for better robustness\n",
    "X_continuous_imputed = imputer.fit_transform(X[continuous_cols])\n",
    "joblib.dump(imputer, \"models/imputer.pkl\")"
   ]
  },
  {
   "cell_type": "code",
   "execution_count": null,
   "metadata": {},
   "outputs": [
    {
     "name": "stdout",
     "output_type": "stream",
     "text": [
      "Scaling continuous features...\n"
     ]
    },
    {
     "data": {
      "text/plain": [
       "['scaler.pkl']"
      ]
     },
     "execution_count": 8,
     "metadata": {},
     "output_type": "execute_result"
    }
   ],
   "source": [
    "# 6. Scale continuous features\n",
    "print(\"Scaling continuous features...\")\n",
    "scaler = StandardScaler()\n",
    "X_continuous_scaled = scaler.fit_transform(X_continuous_imputed)\n",
    "joblib.dump(scaler, \"models/scaler.pkl\")"
   ]
  },
  {
   "cell_type": "code",
   "execution_count": 9,
   "metadata": {},
   "outputs": [],
   "source": [
    "# 7. Combine one-hot encoded categorical features with scaled continuous features\n",
    "X_processed = np.concatenate([X_cat_encoded, X_continuous_scaled], axis=1)"
   ]
  },
  {
   "cell_type": "code",
   "execution_count": null,
   "metadata": {},
   "outputs": [
    {
     "name": "stdout",
     "output_type": "stream",
     "text": [
      "Encoding target labels...\n"
     ]
    },
    {
     "data": {
      "text/plain": [
       "['label_encoder.pkl']"
      ]
     },
     "execution_count": 10,
     "metadata": {},
     "output_type": "execute_result"
    }
   ],
   "source": [
    "# 8. Encode target labels\n",
    "print(\"Encoding target labels...\")\n",
    "label_encoder = LabelEncoder()\n",
    "y_encoded = label_encoder.fit_transform(y)\n",
    "joblib.dump(label_encoder, \"models/label_encoder.pkl\")"
   ]
  },
  {
   "cell_type": "code",
   "execution_count": 11,
   "metadata": {},
   "outputs": [],
   "source": [
    "# 9. Handle class imbalance by duplicating rare class samples\n",
    "from collections import Counter\n",
    "class_counts = Counter(y_encoded)\n",
    "min_samples_threshold = 10  # Ensure each class has at least this many samples\n",
    "\n",
    "# Find classes with fewer than min_samples_threshold samples\n",
    "rare_classes = [cls for cls, count in class_counts.items() if count < min_samples_threshold]\n",
    "\n",
    "# Duplicate rare class samples to reach the threshold\n",
    "for cls in rare_classes:\n",
    "    idx = np.where(y_encoded == cls)[0]  # Get indices of rare samples\n",
    "    original_class_name = label_encoder.inverse_transform([cls])[0]\n",
    "    samples_needed = min_samples_threshold - len(idx)\n",
    "    \n",
    "    print(f\"Augmenting class '{original_class_name}' with {samples_needed} additional samples\")\n",
    "    \n",
    "    # Create synthetic samples through duplication with slight variations\n",
    "    for _ in range(samples_needed):\n",
    "        sample_idx = np.random.choice(idx)  # Choose a random sample from this class\n",
    "        new_sample = X_processed[sample_idx].copy()\n",
    "        \n",
    "        # Add slight noise to continuous features (last part of the feature vector)\n",
    "        continuous_start = X_cat_encoded.shape[1]\n",
    "        noise = np.random.normal(0, 0.05, size=X_continuous_scaled.shape[1])\n",
    "        new_sample[continuous_start:] += noise\n",
    "        \n",
    "        X_processed = np.vstack([X_processed, new_sample])\n",
    "        y_encoded = np.append(y_encoded, cls)"
   ]
  },
  {
   "cell_type": "code",
   "execution_count": 12,
   "metadata": {},
   "outputs": [
    {
     "name": "stdout",
     "output_type": "stream",
     "text": [
      "Splitting data into train, validation, and test sets...\n",
      "Training set size: 1694\n",
      "Validation set size: 300\n",
      "Test set size: 353\n"
     ]
    }
   ],
   "source": [
    "# 10. Split data into train, validation, and test sets\n",
    "print(\"Splitting data into train, validation, and test sets...\")\n",
    "X_temp, X_test, y_temp, y_test = train_test_split(\n",
    "    X_processed, y_encoded, test_size=0.15, random_state=42, stratify=y_encoded\n",
    ")\n",
    "\n",
    "X_train, X_val, y_train, y_val = train_test_split(\n",
    "    X_temp, y_temp, test_size=0.15, random_state=42, stratify=y_temp\n",
    ")\n",
    "\n",
    "print(f\"Training set size: {X_train.shape[0]}\")\n",
    "print(f\"Validation set size: {X_val.shape[0]}\")\n",
    "print(f\"Test set size: {X_test.shape[0]}\")"
   ]
  },
  {
   "cell_type": "code",
   "execution_count": 13,
   "metadata": {},
   "outputs": [
    {
     "name": "stdout",
     "output_type": "stream",
     "text": [
      "Computing class weights...\n",
      "Class BUTTON: 6.8862\n",
      "Class DIV: 0.3683\n",
      "Class INPUT: 7.1477\n"
     ]
    }
   ],
   "source": [
    "# 11. Compute class weights for handling imbalance\n",
    "print(\"Computing class weights...\")\n",
    "class_weights = compute_class_weight(\n",
    "    'balanced', \n",
    "    classes=np.unique(y_train), \n",
    "    y=y_train\n",
    ")\n",
    "\n",
    "for c in np.unique(y_train):\n",
    "    print(f\"Class {label_encoder.inverse_transform([c])[0]}: {class_weights[c]:.4f}\")"
   ]
  },
  {
   "cell_type": "code",
   "execution_count": 14,
   "metadata": {},
   "outputs": [
    {
     "name": "stdout",
     "output_type": "stream",
     "text": [
      "Using device: cuda\n"
     ]
    }
   ],
   "source": [
    "# 12. Convert data to PyTorch tensors\n",
    "device = torch.device(\"cuda\" if torch.cuda.is_available() else \"cpu\")\n",
    "print(f\"Using device: {device}\")\n",
    "\n",
    "X_train_tensor = torch.tensor(X_train, dtype=torch.float32)\n",
    "y_train_tensor = torch.tensor(y_train, dtype=torch.long)\n",
    "X_val_tensor = torch.tensor(X_val, dtype=torch.float32)\n",
    "y_val_tensor = torch.tensor(y_val, dtype=torch.long)\n",
    "X_test_tensor = torch.tensor(X_test, dtype=torch.float32)\n",
    "y_test_tensor = torch.tensor(y_test, dtype=torch.long)\n",
    "class_weights_tensor = torch.tensor(class_weights, dtype=torch.float32).to(device)"
   ]
  },
  {
   "cell_type": "code",
   "execution_count": 15,
   "metadata": {},
   "outputs": [],
   "source": [
    "# 13. Create datasets and dataloaders\n",
    "train_dataset = TensorDataset(X_train_tensor, y_train_tensor)\n",
    "val_dataset = TensorDataset(X_val_tensor, y_val_tensor)\n",
    "test_dataset = TensorDataset(X_test_tensor, y_test_tensor)\n",
    "\n",
    "train_loader = DataLoader(\n",
    "    train_dataset, \n",
    "    batch_size=512,\n",
    "    shuffle=True, \n",
    "    num_workers=4,\n",
    "    pin_memory=True,\n",
    "    prefetch_factor=2\n",
    ")\n",
    "\n",
    "val_loader = DataLoader(\n",
    "    val_dataset, \n",
    "    batch_size=512, \n",
    "    shuffle=False,\n",
    "    num_workers=4,\n",
    "    pin_memory=True\n",
    ")\n",
    "\n",
    "test_loader = DataLoader(\n",
    "    test_dataset, \n",
    "    batch_size=512, \n",
    "    shuffle=False,\n",
    "    num_workers=4,\n",
    "    pin_memory=True\n",
    ")"
   ]
  },
  {
   "cell_type": "code",
   "execution_count": 16,
   "metadata": {},
   "outputs": [],
   "source": [
    "# 14. Define an improved model architecture\n",
    "class ImprovedTagClassifier(nn.Module):\n",
    "    def __init__(self, input_size, output_size, dropout_rate=0.4):\n",
    "        super(ImprovedTagClassifier, self).__init__()\n",
    "        \n",
    "        # First hidden layer\n",
    "        self.fc1 = nn.Linear(input_size, 512)\n",
    "        self.bn1 = nn.BatchNorm1d(512)\n",
    "        \n",
    "        # Second hidden layer\n",
    "        self.fc2 = nn.Linear(512, 256)\n",
    "        self.bn2 = nn.BatchNorm1d(256)\n",
    "        \n",
    "        # Third hidden layer\n",
    "        self.fc3 = nn.Linear(256, 128)\n",
    "        self.bn3 = nn.BatchNorm1d(128)\n",
    "        \n",
    "        # Output layer\n",
    "        self.fc4 = nn.Linear(128, output_size)\n",
    "        \n",
    "        # Activations and regularization\n",
    "        self.dropout = nn.Dropout(dropout_rate)\n",
    "        self.leaky_relu = nn.LeakyReLU(0.1)\n",
    "        \n",
    "        # Skip connections\n",
    "        self.skip1_3 = nn.Linear(512, 128)\n",
    "        \n",
    "        # Initialize weights\n",
    "        self._initialize_weights()\n",
    "    \n",
    "    def _initialize_weights(self):\n",
    "        for m in self.modules():\n",
    "            if isinstance(m, nn.Linear):\n",
    "                nn.init.kaiming_normal_(m.weight, mode='fan_out', nonlinearity='leaky_relu')\n",
    "                if m.bias is not None:\n",
    "                    nn.init.constant_(m.bias, 0)\n",
    "            elif isinstance(m, nn.BatchNorm1d):\n",
    "                nn.init.constant_(m.weight, 1)\n",
    "                nn.init.constant_(m.bias, 0)\n",
    "    \n",
    "    def forward(self, x):\n",
    "        # First block\n",
    "        x1 = self.fc1(x)\n",
    "        x1 = self.bn1(x1)\n",
    "        x1 = self.leaky_relu(x1)\n",
    "        x1 = self.dropout(x1)\n",
    "        \n",
    "        # Second block\n",
    "        x2 = self.fc2(x1)\n",
    "        x2 = self.bn2(x2)\n",
    "        x2 = self.leaky_relu(x2)\n",
    "        x2 = self.dropout(x2)\n",
    "        \n",
    "        # Third block with skip connection\n",
    "        x3 = self.fc3(x2)\n",
    "        skip_x1 = self.skip1_3(x1)\n",
    "        x3 = x3 + skip_x1  # Skip connection\n",
    "        x3 = self.bn3(x3)\n",
    "        x3 = self.leaky_relu(x3)\n",
    "        x3 = self.dropout(x3)\n",
    "        \n",
    "        # Output\n",
    "        output = self.fc4(x3)\n",
    "        return output"
   ]
  },
  {
   "cell_type": "code",
   "execution_count": 17,
   "metadata": {},
   "outputs": [
    {
     "name": "stdout",
     "output_type": "stream",
     "text": [
      "Initializing model...\n"
     ]
    }
   ],
   "source": [
    "# 15. Initialize model\n",
    "print(\"Initializing model...\")\n",
    "input_size = X_train.shape[1]\n",
    "output_size = len(label_encoder.classes_)\n",
    "model = ImprovedTagClassifier(input_size, output_size).to(device)"
   ]
  },
  {
   "cell_type": "code",
   "execution_count": 18,
   "metadata": {},
   "outputs": [
    {
     "name": "stderr",
     "output_type": "stream",
     "text": [
      "C:\\Users\\AOZ\\AppData\\Roaming\\Python\\Python312\\site-packages\\torch\\optim\\lr_scheduler.py:62: UserWarning: The verbose parameter is deprecated. Please use get_last_lr() to access the learning rate.\n",
      "  warnings.warn(\n"
     ]
    }
   ],
   "source": [
    "# 16. Define loss function with focal loss component to handle imbalance\n",
    "class FocalLoss(nn.Module):\n",
    "    def __init__(self, weight=None, gamma=2.0, reduction='mean'):\n",
    "        super(FocalLoss, self).__init__()\n",
    "        self.weight = weight\n",
    "        self.gamma = gamma\n",
    "        self.reduction = reduction\n",
    "        self.ce_loss = nn.CrossEntropyLoss(weight=weight, reduction='none')\n",
    "        \n",
    "    def forward(self, inputs, targets):\n",
    "        ce_loss = self.ce_loss(inputs, targets)\n",
    "        pt = torch.exp(-ce_loss)\n",
    "        focal_loss = ((1 - pt) ** self.gamma) * ce_loss\n",
    "        \n",
    "        if self.reduction == 'mean':\n",
    "            return focal_loss.mean()\n",
    "        elif self.reduction == 'sum':\n",
    "            return focal_loss.sum()\n",
    "        else:\n",
    "            return focal_loss\n",
    "\n",
    "# Use a combination of CrossEntropy and Focal Loss\n",
    "criterion = FocalLoss(weight=class_weights_tensor, gamma=2.0)\n",
    "\n",
    "# 17. Define optimizer with weight decay and learning rate scheduler\n",
    "optimizer = optim.AdamW(model.parameters(), lr=0.0001, weight_decay=1e-4)\n",
    "scheduler = optim.lr_scheduler.ReduceLROnPlateau(\n",
    "    optimizer, \n",
    "    mode='min', \n",
    "    factor=0.5, \n",
    "    patience=5, \n",
    "    verbose=True\n",
    ")"
   ]
  },
  {
   "cell_type": "code",
   "execution_count": 19,
   "metadata": {},
   "outputs": [],
   "source": [
    "# 18. Setup mixed precision training\n",
    "scaler = GradScaler()"
   ]
  },
  {
   "cell_type": "code",
   "execution_count": 20,
   "metadata": {},
   "outputs": [],
   "source": [
    "# 19. Define training, validation, and evaluation functions\n",
    "def train_epoch(model, loader, criterion, optimizer, scaler, device):\n",
    "    model.train()\n",
    "    running_loss = 0.0\n",
    "    \n",
    "    for batch_X, batch_y in loader:\n",
    "        batch_X, batch_y = batch_X.to(device), batch_y.to(device)\n",
    "        \n",
    "        optimizer.zero_grad()\n",
    "        \n",
    "        with autocast(device_type=device.type):\n",
    "            outputs = model(batch_X)\n",
    "            loss = criterion(outputs, batch_y)\n",
    "        \n",
    "        scaler.scale(loss).backward()\n",
    "        \n",
    "        # Gradient clipping to prevent exploding gradients\n",
    "        scaler.unscale_(optimizer)\n",
    "        clip_grad_norm_(model.parameters(), max_norm=1.0)\n",
    "        \n",
    "        scaler.step(optimizer)\n",
    "        scaler.update()\n",
    "        \n",
    "        running_loss += loss.item()\n",
    "    \n",
    "    return running_loss / len(loader)\n",
    "\n",
    "def validate(model, loader, criterion, device):\n",
    "    model.eval()\n",
    "    running_loss = 0.0\n",
    "    all_preds = []\n",
    "    all_labels = []\n",
    "    \n",
    "    with torch.no_grad():\n",
    "        for batch_X, batch_y in loader:\n",
    "            batch_X, batch_y = batch_X.to(device), batch_y.to(device)\n",
    "            \n",
    "            with autocast(device_type=device.type):\n",
    "                outputs = model(batch_X)\n",
    "                loss = criterion(outputs, batch_y)\n",
    "            \n",
    "            running_loss += loss.item()\n",
    "            \n",
    "            _, preds = torch.max(outputs, 1)\n",
    "            all_preds.extend(preds.cpu().numpy())\n",
    "            all_labels.extend(batch_y.cpu().numpy())\n",
    "    \n",
    "    # Calculate metrics\n",
    "    accuracy = accuracy_score(all_labels, all_preds)\n",
    "    val_loss = running_loss / len(loader)\n",
    "    \n",
    "    return val_loss, accuracy, all_preds, all_labels\n",
    "\n",
    "def evaluate(model, loader, criterion, device, label_encoder):\n",
    "    val_loss, accuracy, all_preds, all_labels = validate(model, loader, criterion, device)\n",
    "    \n",
    "    print(f\"\\nEvaluation Results:\")\n",
    "    print(f\"Loss: {val_loss:.4f}, Accuracy: {accuracy:.4f}\")\n",
    "    \n",
    "    # Display detailed classification report\n",
    "    print(\"\\nClassification Report:\")\n",
    "    print(classification_report(\n",
    "        all_labels, \n",
    "        all_preds,\n",
    "        labels=np.unique(all_labels),\n",
    "        target_names=label_encoder.inverse_transform(np.unique(all_labels)),\n",
    "        zero_division=0\n",
    "    ))\n",
    "    \n",
    "    # Plot confusion matrix\n",
    "    cm = confusion_matrix(all_labels, all_preds)\n",
    "    plt.figure(figsize=(10, 8))\n",
    "    plt.imshow(cm, interpolation='nearest', cmap=plt.cm.Blues)\n",
    "    plt.title('Confusion Matrix')\n",
    "    plt.colorbar()\n",
    "    \n",
    "    class_names = label_encoder.inverse_transform(np.unique(all_labels))\n",
    "    tick_marks = np.arange(len(class_names))\n",
    "    plt.xticks(tick_marks, class_names, rotation=45)\n",
    "    plt.yticks(tick_marks, class_names)\n",
    "    \n",
    "    # Normalize confusion matrix and print percentages\n",
    "    cm_norm = cm.astype('float') / cm.sum(axis=1)[:, np.newaxis]\n",
    "    thresh = cm.max() / 2.\n",
    "    for i in range(cm.shape[0]):\n",
    "        for j in range(cm.shape[1]):\n",
    "            plt.text(j, i, f\"{cm[i, j]}\\n({cm_norm[i, j]:.2f})\",\n",
    "                     horizontalalignment=\"center\",\n",
    "                     color=\"white\" if cm[i, j] > thresh else \"black\")\n",
    "    \n",
    "    plt.tight_layout()\n",
    "    plt.ylabel('True Label')\n",
    "    plt.xlabel('Predicted Label')\n",
    "    plt.savefig('confusion_matrix.png')\n",
    "    \n",
    "    return val_loss, accuracy"
   ]
  },
  {
   "cell_type": "code",
   "execution_count": null,
   "metadata": {},
   "outputs": [
    {
     "name": "stdout",
     "output_type": "stream",
     "text": [
      "Starting training...\n",
      "Epoch [1/150] - Train Loss: 11.7102, Val Loss: 3.2577, Val Accuracy: 0.1500, Time: 7.85s\n",
      "Model improved and saved!\n",
      "Epoch [2/150] - Train Loss: 11.6906, Val Loss: 2.6152, Val Accuracy: 0.0767, Time: 5.88s\n",
      "Model improved and saved!\n",
      "Epoch [3/150] - Train Loss: 10.9448, Val Loss: 2.1314, Val Accuracy: 0.0733, Time: 6.10s\n",
      "Model improved and saved!\n",
      "Epoch [4/150] - Train Loss: 8.8961, Val Loss: 1.7395, Val Accuracy: 0.0833, Time: 7.24s\n",
      "Model improved and saved!\n",
      "Epoch [5/150] - Train Loss: 7.5594, Val Loss: 1.5764, Val Accuracy: 0.1133, Time: 6.15s\n",
      "Model improved and saved!\n",
      "Epoch [6/150] - Train Loss: 6.6704, Val Loss: 1.5732, Val Accuracy: 0.1133, Time: 6.06s\n",
      "Model improved and saved!\n",
      "Epoch [7/150] - Train Loss: 5.3483, Val Loss: 1.5542, Val Accuracy: 0.1433, Time: 6.15s\n",
      "Model improved and saved!\n",
      "Epoch [8/150] - Train Loss: 4.8753, Val Loss: 1.6253, Val Accuracy: 0.1433, Time: 6.33s\n",
      "EarlyStopping counter: 1 out of 15\n",
      "Epoch [9/150] - Train Loss: 4.5740, Val Loss: 1.6162, Val Accuracy: 0.1533, Time: 6.16s\n",
      "EarlyStopping counter: 2 out of 15\n",
      "Epoch [10/150] - Train Loss: 4.5676, Val Loss: 1.5752, Val Accuracy: 0.1733, Time: 6.02s\n",
      "EarlyStopping counter: 3 out of 15\n",
      "Epoch [11/150] - Train Loss: 4.3907, Val Loss: 1.5764, Val Accuracy: 0.1867, Time: 6.51s\n",
      "EarlyStopping counter: 4 out of 15\n",
      "Epoch [12/150] - Train Loss: 4.2064, Val Loss: 1.4971, Val Accuracy: 0.2033, Time: 6.18s\n",
      "Model improved and saved!\n",
      "Epoch [13/150] - Train Loss: 3.2763, Val Loss: 1.4515, Val Accuracy: 0.2067, Time: 6.21s\n",
      "Model improved and saved!\n",
      "Epoch [14/150] - Train Loss: 3.2626, Val Loss: 1.3858, Val Accuracy: 0.2233, Time: 6.18s\n",
      "Model improved and saved!\n",
      "Epoch [15/150] - Train Loss: 3.2978, Val Loss: 1.3289, Val Accuracy: 0.2300, Time: 6.01s\n",
      "Model improved and saved!\n",
      "Epoch [16/150] - Train Loss: 3.3659, Val Loss: 1.2753, Val Accuracy: 0.2433, Time: 6.07s\n",
      "Model improved and saved!\n",
      "Epoch [17/150] - Train Loss: 3.2400, Val Loss: 1.2082, Val Accuracy: 0.2667, Time: 6.00s\n",
      "Model improved and saved!\n",
      "Epoch [18/150] - Train Loss: 3.2882, Val Loss: 1.1693, Val Accuracy: 0.2800, Time: 5.98s\n",
      "Model improved and saved!\n",
      "Epoch [19/150] - Train Loss: 3.2658, Val Loss: 1.1176, Val Accuracy: 0.3000, Time: 5.92s\n",
      "Model improved and saved!\n",
      "Epoch [20/150] - Train Loss: 2.9908, Val Loss: 1.0964, Val Accuracy: 0.3067, Time: 5.93s\n",
      "Model improved and saved!\n",
      "Epoch [21/150] - Train Loss: 2.9017, Val Loss: 1.0503, Val Accuracy: 0.3433, Time: 5.96s\n",
      "Model improved and saved!\n",
      "Epoch [22/150] - Train Loss: 2.8195, Val Loss: 0.9881, Val Accuracy: 0.3800, Time: 6.47s\n",
      "Model improved and saved!\n",
      "Epoch [23/150] - Train Loss: 3.0578, Val Loss: 0.9781, Val Accuracy: 0.3867, Time: 5.98s\n",
      "Model improved and saved!\n",
      "Epoch [24/150] - Train Loss: 2.6559, Val Loss: 0.9617, Val Accuracy: 0.4067, Time: 5.75s\n",
      "Model improved and saved!\n",
      "Epoch [25/150] - Train Loss: 3.0380, Val Loss: 0.9435, Val Accuracy: 0.4133, Time: 5.88s\n",
      "Model improved and saved!\n",
      "Epoch [26/150] - Train Loss: 2.5065, Val Loss: 0.9145, Val Accuracy: 0.4367, Time: 5.92s\n",
      "Model improved and saved!\n",
      "Epoch [27/150] - Train Loss: 2.5082, Val Loss: 0.9023, Val Accuracy: 0.4667, Time: 5.92s\n",
      "Model improved and saved!\n",
      "Epoch [28/150] - Train Loss: 2.2832, Val Loss: 0.8701, Val Accuracy: 0.5133, Time: 5.96s\n",
      "Model improved and saved!\n",
      "Epoch [29/150] - Train Loss: 2.3899, Val Loss: 0.8601, Val Accuracy: 0.5367, Time: 6.01s\n",
      "Model improved and saved!\n",
      "Epoch [30/150] - Train Loss: 2.5210, Val Loss: 0.8455, Val Accuracy: 0.5633, Time: 5.92s\n",
      "Model improved and saved!\n",
      "Epoch [31/150] - Train Loss: 2.2612, Val Loss: 0.8130, Val Accuracy: 0.5867, Time: 5.84s\n",
      "Model improved and saved!\n",
      "Epoch [32/150] - Train Loss: 2.2878, Val Loss: 0.7967, Val Accuracy: 0.6033, Time: 6.04s\n",
      "Model improved and saved!\n",
      "Epoch [33/150] - Train Loss: 2.2796, Val Loss: 0.7799, Val Accuracy: 0.6200, Time: 6.15s\n",
      "Model improved and saved!\n",
      "Epoch [34/150] - Train Loss: 2.1727, Val Loss: 0.7728, Val Accuracy: 0.6233, Time: 6.16s\n",
      "Model improved and saved!\n",
      "Epoch [35/150] - Train Loss: 2.2753, Val Loss: 0.7671, Val Accuracy: 0.6267, Time: 5.97s\n",
      "Model improved and saved!\n",
      "Epoch [36/150] - Train Loss: 2.1035, Val Loss: 0.7507, Val Accuracy: 0.6467, Time: 5.95s\n",
      "Model improved and saved!\n",
      "Epoch [37/150] - Train Loss: 2.0090, Val Loss: 0.7436, Val Accuracy: 0.6633, Time: 6.02s\n",
      "Model improved and saved!\n",
      "Epoch [38/150] - Train Loss: 2.0464, Val Loss: 0.7417, Val Accuracy: 0.6733, Time: 5.94s\n",
      "Model improved and saved!\n",
      "Epoch [39/150] - Train Loss: 2.0010, Val Loss: 0.7360, Val Accuracy: 0.6967, Time: 5.88s\n",
      "Model improved and saved!\n",
      "Epoch [40/150] - Train Loss: 2.0605, Val Loss: 0.7272, Val Accuracy: 0.7100, Time: 5.65s\n",
      "Model improved and saved!\n",
      "Epoch [41/150] - Train Loss: 2.0032, Val Loss: 0.7216, Val Accuracy: 0.7367, Time: 5.82s\n",
      "Model improved and saved!\n",
      "Epoch [42/150] - Train Loss: 1.8570, Val Loss: 0.7180, Val Accuracy: 0.7367, Time: 5.60s\n",
      "Model improved and saved!\n",
      "Epoch [43/150] - Train Loss: 1.8706, Val Loss: 0.7124, Val Accuracy: 0.7433, Time: 5.80s\n",
      "Model improved and saved!\n",
      "Epoch [44/150] - Train Loss: 1.7630, Val Loss: 0.7082, Val Accuracy: 0.7467, Time: 6.00s\n",
      "Model improved and saved!\n",
      "Epoch [45/150] - Train Loss: 1.7922, Val Loss: 0.7068, Val Accuracy: 0.7433, Time: 6.42s\n",
      "Model improved and saved!\n",
      "Epoch [46/150] - Train Loss: 1.9031, Val Loss: 0.7112, Val Accuracy: 0.7533, Time: 5.94s\n",
      "EarlyStopping counter: 1 out of 15\n",
      "Epoch [47/150] - Train Loss: 1.6859, Val Loss: 0.7089, Val Accuracy: 0.7667, Time: 6.03s\n",
      "EarlyStopping counter: 2 out of 15\n",
      "Epoch [48/150] - Train Loss: 1.6540, Val Loss: 0.6915, Val Accuracy: 0.7667, Time: 5.83s\n",
      "Model improved and saved!\n",
      "Epoch [49/150] - Train Loss: 1.6086, Val Loss: 0.6822, Val Accuracy: 0.7667, Time: 6.02s\n",
      "Model improved and saved!\n",
      "Epoch [50/150] - Train Loss: 1.4386, Val Loss: 0.6477, Val Accuracy: 0.7667, Time: 5.89s\n",
      "Model improved and saved!\n",
      "Epoch [51/150] - Train Loss: 1.5362, Val Loss: 0.6338, Val Accuracy: 0.7733, Time: 5.91s\n",
      "Model improved and saved!\n",
      "Epoch [52/150] - Train Loss: 1.7127, Val Loss: 0.6398, Val Accuracy: 0.7867, Time: 5.95s\n",
      "EarlyStopping counter: 1 out of 15\n",
      "Epoch [53/150] - Train Loss: 1.5155, Val Loss: 0.6520, Val Accuracy: 0.7933, Time: 6.15s\n",
      "EarlyStopping counter: 2 out of 15\n",
      "Epoch [54/150] - Train Loss: 1.6192, Val Loss: 0.6451, Val Accuracy: 0.8000, Time: 5.88s\n",
      "EarlyStopping counter: 3 out of 15\n",
      "Epoch [55/150] - Train Loss: 1.3950, Val Loss: 0.6227, Val Accuracy: 0.8067, Time: 5.93s\n",
      "Model improved and saved!\n",
      "Epoch [56/150] - Train Loss: 1.3832, Val Loss: 0.6316, Val Accuracy: 0.8100, Time: 5.83s\n",
      "EarlyStopping counter: 1 out of 15\n",
      "Epoch [57/150] - Train Loss: 1.3707, Val Loss: 0.6272, Val Accuracy: 0.8067, Time: 5.72s\n",
      "EarlyStopping counter: 2 out of 15\n",
      "Epoch [58/150] - Train Loss: 1.4521, Val Loss: 0.6318, Val Accuracy: 0.8067, Time: 5.74s\n",
      "EarlyStopping counter: 3 out of 15\n",
      "Epoch [59/150] - Train Loss: 1.4773, Val Loss: 0.6372, Val Accuracy: 0.8033, Time: 5.66s\n",
      "EarlyStopping counter: 4 out of 15\n",
      "Epoch [60/150] - Train Loss: 1.7267, Val Loss: 0.6380, Val Accuracy: 0.8067, Time: 5.49s\n",
      "EarlyStopping counter: 5 out of 15\n",
      "Epoch [61/150] - Train Loss: 1.1385, Val Loss: 0.6349, Val Accuracy: 0.8100, Time: 6.04s\n",
      "EarlyStopping counter: 6 out of 15\n",
      "Epoch [62/150] - Train Loss: 1.2391, Val Loss: 0.6493, Val Accuracy: 0.8000, Time: 6.11s\n",
      "EarlyStopping counter: 7 out of 15\n",
      "Epoch [63/150] - Train Loss: 1.1748, Val Loss: 0.6449, Val Accuracy: 0.8100, Time: 6.14s\n",
      "EarlyStopping counter: 8 out of 15\n",
      "Epoch [64/150] - Train Loss: 1.1628, Val Loss: 0.6380, Val Accuracy: 0.8133, Time: 6.14s\n",
      "EarlyStopping counter: 9 out of 15\n",
      "Epoch [65/150] - Train Loss: 1.4328, Val Loss: 0.6315, Val Accuracy: 0.8167, Time: 5.99s\n",
      "EarlyStopping counter: 10 out of 15\n",
      "Epoch [66/150] - Train Loss: 1.4039, Val Loss: 0.6306, Val Accuracy: 0.8167, Time: 5.99s\n",
      "EarlyStopping counter: 11 out of 15\n",
      "Epoch [67/150] - Train Loss: 1.2738, Val Loss: 0.6272, Val Accuracy: 0.8133, Time: 6.07s\n",
      "EarlyStopping counter: 12 out of 15\n",
      "Epoch [68/150] - Train Loss: 1.3138, Val Loss: 0.6176, Val Accuracy: 0.8167, Time: 5.98s\n",
      "Model improved and saved!\n",
      "Epoch [69/150] - Train Loss: 1.3391, Val Loss: 0.6087, Val Accuracy: 0.8167, Time: 5.81s\n",
      "Model improved and saved!\n",
      "Epoch [70/150] - Train Loss: 1.3092, Val Loss: 0.6153, Val Accuracy: 0.8200, Time: 5.95s\n",
      "EarlyStopping counter: 1 out of 15\n",
      "Epoch [71/150] - Train Loss: 1.2177, Val Loss: 0.6141, Val Accuracy: 0.8400, Time: 5.87s\n",
      "EarlyStopping counter: 2 out of 15\n",
      "Epoch [72/150] - Train Loss: 1.3143, Val Loss: 0.6218, Val Accuracy: 0.8333, Time: 6.62s\n",
      "EarlyStopping counter: 3 out of 15\n",
      "Epoch [73/150] - Train Loss: 1.1389, Val Loss: 0.6151, Val Accuracy: 0.8433, Time: 6.67s\n",
      "EarlyStopping counter: 4 out of 15\n",
      "Epoch [74/150] - Train Loss: 1.3113, Val Loss: 0.6004, Val Accuracy: 0.8467, Time: 6.04s\n",
      "Model improved and saved!\n",
      "Epoch [75/150] - Train Loss: 1.2338, Val Loss: 0.6093, Val Accuracy: 0.8500, Time: 6.07s\n",
      "EarlyStopping counter: 1 out of 15\n",
      "Epoch [76/150] - Train Loss: 1.4334, Val Loss: 0.6097, Val Accuracy: 0.8500, Time: 6.07s\n",
      "EarlyStopping counter: 2 out of 15\n",
      "Epoch [77/150] - Train Loss: 1.2408, Val Loss: 0.5996, Val Accuracy: 0.8500, Time: 5.94s\n",
      "Model improved and saved!\n",
      "Epoch [78/150] - Train Loss: 1.4072, Val Loss: 0.6028, Val Accuracy: 0.8533, Time: 5.93s\n",
      "EarlyStopping counter: 1 out of 15\n",
      "Epoch [79/150] - Train Loss: 1.2462, Val Loss: 0.6048, Val Accuracy: 0.8500, Time: 5.87s\n",
      "EarlyStopping counter: 2 out of 15\n",
      "Epoch [80/150] - Train Loss: 1.1172, Val Loss: 0.5939, Val Accuracy: 0.8533, Time: 5.99s\n",
      "Model improved and saved!\n",
      "Epoch [81/150] - Train Loss: 1.3013, Val Loss: 0.5975, Val Accuracy: 0.8567, Time: 5.91s\n",
      "EarlyStopping counter: 1 out of 15\n",
      "Epoch [82/150] - Train Loss: 1.2639, Val Loss: 0.5909, Val Accuracy: 0.8600, Time: 5.97s\n",
      "Model improved and saved!\n",
      "Epoch [83/150] - Train Loss: 1.3370, Val Loss: 0.5942, Val Accuracy: 0.8567, Time: 6.04s\n",
      "EarlyStopping counter: 1 out of 15\n",
      "Epoch [84/150] - Train Loss: 1.2355, Val Loss: 0.5957, Val Accuracy: 0.8567, Time: 6.05s\n",
      "EarlyStopping counter: 2 out of 15\n",
      "Epoch [85/150] - Train Loss: 1.3442, Val Loss: 0.5993, Val Accuracy: 0.8500, Time: 5.87s\n",
      "EarlyStopping counter: 3 out of 15\n",
      "Epoch [86/150] - Train Loss: 1.2242, Val Loss: 0.6023, Val Accuracy: 0.8500, Time: 6.07s\n",
      "EarlyStopping counter: 4 out of 15\n",
      "Epoch [87/150] - Train Loss: 0.9759, Val Loss: 0.5984, Val Accuracy: 0.8533, Time: 6.08s\n",
      "EarlyStopping counter: 5 out of 15\n",
      "Epoch [88/150] - Train Loss: 1.3230, Val Loss: 0.6003, Val Accuracy: 0.8533, Time: 5.87s\n",
      "EarlyStopping counter: 6 out of 15\n",
      "Epoch [89/150] - Train Loss: 1.0327, Val Loss: 0.5914, Val Accuracy: 0.8533, Time: 5.96s\n",
      "EarlyStopping counter: 7 out of 15\n",
      "Epoch [90/150] - Train Loss: 1.1252, Val Loss: 0.5972, Val Accuracy: 0.8633, Time: 5.96s\n",
      "EarlyStopping counter: 8 out of 15\n",
      "Epoch [91/150] - Train Loss: 1.2206, Val Loss: 0.5981, Val Accuracy: 0.8567, Time: 5.94s\n",
      "EarlyStopping counter: 9 out of 15\n",
      "Epoch [92/150] - Train Loss: 1.0451, Val Loss: 0.5687, Val Accuracy: 0.8667, Time: 6.00s\n",
      "Model improved and saved!\n",
      "Epoch [93/150] - Train Loss: 1.1048, Val Loss: 0.5757, Val Accuracy: 0.8667, Time: 5.95s\n",
      "EarlyStopping counter: 1 out of 15\n",
      "Epoch [94/150] - Train Loss: 1.1420, Val Loss: 0.5698, Val Accuracy: 0.8667, Time: 6.15s\n",
      "EarlyStopping counter: 2 out of 15\n",
      "Epoch [95/150] - Train Loss: 1.0307, Val Loss: 0.5803, Val Accuracy: 0.8667, Time: 6.02s\n",
      "EarlyStopping counter: 3 out of 15\n",
      "Epoch [96/150] - Train Loss: 1.0292, Val Loss: 0.5845, Val Accuracy: 0.8700, Time: 5.95s\n",
      "EarlyStopping counter: 4 out of 15\n",
      "Epoch [97/150] - Train Loss: 1.1705, Val Loss: 0.5782, Val Accuracy: 0.8667, Time: 5.81s\n",
      "EarlyStopping counter: 5 out of 15\n",
      "Epoch [98/150] - Train Loss: 0.9172, Val Loss: 0.5783, Val Accuracy: 0.8667, Time: 5.73s\n",
      "EarlyStopping counter: 6 out of 15\n",
      "Epoch [99/150] - Train Loss: 1.2748, Val Loss: 0.5790, Val Accuracy: 0.8667, Time: 6.07s\n",
      "EarlyStopping counter: 7 out of 15\n",
      "Epoch [100/150] - Train Loss: 1.2802, Val Loss: 0.5758, Val Accuracy: 0.8667, Time: 5.94s\n",
      "EarlyStopping counter: 8 out of 15\n",
      "Epoch [101/150] - Train Loss: 1.0129, Val Loss: 0.5787, Val Accuracy: 0.8667, Time: 5.97s\n",
      "EarlyStopping counter: 9 out of 15\n",
      "Epoch [102/150] - Train Loss: 1.1864, Val Loss: 0.5767, Val Accuracy: 0.8667, Time: 6.18s\n",
      "EarlyStopping counter: 10 out of 15\n",
      "Epoch [103/150] - Train Loss: 1.3602, Val Loss: 0.5788, Val Accuracy: 0.8700, Time: 5.81s\n",
      "EarlyStopping counter: 11 out of 15\n",
      "Epoch [104/150] - Train Loss: 1.0352, Val Loss: 0.5750, Val Accuracy: 0.8700, Time: 6.01s\n",
      "EarlyStopping counter: 12 out of 15\n",
      "Epoch [105/150] - Train Loss: 1.0809, Val Loss: 0.5812, Val Accuracy: 0.8700, Time: 5.97s\n",
      "EarlyStopping counter: 13 out of 15\n",
      "Epoch [106/150] - Train Loss: 0.9318, Val Loss: 0.5803, Val Accuracy: 0.8700, Time: 5.92s\n",
      "EarlyStopping counter: 14 out of 15\n",
      "Epoch [107/150] - Train Loss: 1.2775, Val Loss: 0.5760, Val Accuracy: 0.8700, Time: 5.98s\n",
      "EarlyStopping counter: 15 out of 15\n",
      "Early stopping triggered after 107 epochs\n",
      "Total training time: 645.07 seconds\n"
     ]
    }
   ],
   "source": [
    "# 20. Training loop with early stopping\n",
    "print(\"Starting training...\")\n",
    "epochs = 150\n",
    "best_val_loss = float('inf')\n",
    "patience = 15\n",
    "counter = 0\n",
    "early_stop = False\n",
    "\n",
    "# For plotting\n",
    "train_losses = []\n",
    "val_losses = []\n",
    "val_accuracies = []\n",
    "\n",
    "start_time = time.time()\n",
    "\n",
    "for epoch in range(epochs):\n",
    "    epoch_start = time.time()\n",
    "    \n",
    "    # Train\n",
    "    train_loss = train_epoch(model, train_loader, criterion, optimizer, scaler, device)\n",
    "    \n",
    "    # Validate\n",
    "    val_loss, val_accuracy, _, _ = validate(model, val_loader, criterion, device)\n",
    "    \n",
    "    # Update learning rate based on validation loss\n",
    "    scheduler.step(val_loss)\n",
    "    \n",
    "    # Save metrics for plotting\n",
    "    train_losses.append(train_loss)\n",
    "    val_losses.append(val_loss)\n",
    "    val_accuracies.append(val_accuracy)\n",
    "    \n",
    "    # Print progress\n",
    "    epoch_time = time.time() - epoch_start\n",
    "    print(f\"Epoch [{epoch+1}/{epochs}] - \"\n",
    "          f\"Train Loss: {train_loss:.4f}, \"\n",
    "          f\"Val Loss: {val_loss:.4f}, \"\n",
    "          f\"Val Accuracy: {val_accuracy:.4f}, \"\n",
    "          f\"Time: {epoch_time:.2f}s\")\n",
    "    \n",
    "    # Early stopping check\n",
    "    if val_loss < best_val_loss:\n",
    "        best_val_loss = val_loss\n",
    "        counter = 0\n",
    "        # Save the best model\n",
    "        torch.save({\n",
    "            'epoch': epoch,\n",
    "            'model_state_dict': model.state_dict(),\n",
    "            'optimizer_state_dict': optimizer.state_dict(),\n",
    "            'val_loss': val_loss,\n",
    "            'val_accuracy': val_accuracy\n",
    "        }, \"models/best_tag_classifier.pth\")\n",
    "        print(f\"Model improved and saved!\")\n",
    "    else:\n",
    "        counter += 1\n",
    "        print(f\"EarlyStopping counter: {counter} out of {patience}\")\n",
    "        if counter >= patience:\n",
    "            print(f\"Early stopping triggered after {epoch+1} epochs\")\n",
    "            early_stop = True\n",
    "    \n",
    "    # Break if early stopping\n",
    "    if early_stop:\n",
    "        break\n",
    "\n",
    "# Total training time\n",
    "total_time = time.time() - start_time\n",
    "print(f\"Total training time: {total_time:.2f} seconds\")"
   ]
  },
  {
   "cell_type": "code",
   "execution_count": 22,
   "metadata": {},
   "outputs": [
    {
     "data": {
      "image/png": "[encoded data removed]",
      "text/plain": [
       "<Figure size 1200x500 with 2 Axes>"
      ]
     },
     "metadata": {},
     "output_type": "display_data"
    }
   ],
   "source": [
    "# 21. Plot training history\n",
    "plt.figure(figsize=(12, 5))\n",
    "\n",
    "# Plot loss\n",
    "plt.subplot(1, 2, 1)\n",
    "plt.plot(train_losses, label='Training Loss')\n",
    "plt.plot(val_losses, label='Validation Loss')\n",
    "plt.title('Loss over epochs')\n",
    "plt.xlabel('Epoch')\n",
    "plt.ylabel('Loss')\n",
    "plt.legend()\n",
    "\n",
    "# Plot accuracy\n",
    "plt.subplot(1, 2, 2)\n",
    "plt.plot(val_accuracies, label='Validation Accuracy')\n",
    "plt.title('Accuracy over epochs')\n",
    "plt.xlabel('Epoch')\n",
    "plt.ylabel('Accuracy')\n",
    "plt.legend()\n",
    "plt.show()\n",
    "plt.tight_layout()\n",
    "plt.savefig('training_history.png')\n",
    "plt.close()"
   ]
  },
  {
   "cell_type": "code",
   "execution_count": null,
   "metadata": {},
   "outputs": [
    {
     "name": "stdout",
     "output_type": "stream",
     "text": [
      "Loading best model for evaluation...\n",
      "Loaded model from epoch 92 with validation loss: 0.5687\n"
     ]
    },
    {
     "name": "stderr",
     "output_type": "stream",
     "text": [
      "C:\\Users\\AOZ\\AppData\\Local\\Temp\\ipykernel_45548\\3018657600.py:3: FutureWarning: You are using `torch.load` with `weights_only=False` (the current default value), which uses the default pickle module implicitly. It is possible to construct malicious pickle data which will execute arbitrary code during unpickling (See https://github.com/pytorch/pytorch/blob/main/SECURITY.md#untrusted-models for more details). In a future release, the default value for `weights_only` will be flipped to `True`. This limits the functions that could be executed during unpickling. Arbitrary objects will no longer be allowed to be loaded via this mode unless they are explicitly allowlisted by the user via `torch.serialization.add_safe_globals`. We recommend you start setting `weights_only=True` for any use case where you don't have full control of the loaded file. Please open an issue on GitHub for any issues related to this experimental feature.\n",
      "  checkpoint = torch.load(\"best_tag_classifier.pth\")\n"
     ]
    }
   ],
   "source": [
    "# 22. Load the best model for evaluation\n",
    "print(\"Loading best model for evaluation...\")\n",
    "checkpoint = torch.load(\"models/best_tag_classifier.pth\")\n",
    "model.load_state_dict(checkpoint['model_state_dict'])\n",
    "print(f\"Loaded model from epoch {checkpoint['epoch']+1} with validation loss: {checkpoint['val_loss']:.4f}\")"
   ]
  },
  {
   "cell_type": "code",
   "execution_count": 24,
   "metadata": {},
   "outputs": [
    {
     "name": "stdout",
     "output_type": "stream",
     "text": [
      "\n",
      "Evaluating on test set...\n",
      "\n",
      "Evaluation Results:\n",
      "Loss: 0.4463, Accuracy: 0.8300\n",
      "\n",
      "Classification Report:\n",
      "              precision    recall  f1-score   support\n",
      "\n",
      "      BUTTON       0.46      1.00      0.63        17\n",
      "         DIV       1.00      0.82      0.90       320\n",
      "       INPUT       0.28      0.94      0.43        16\n",
      "\n",
      "    accuracy                           0.83       353\n",
      "   macro avg       0.58      0.92      0.65       353\n",
      "weighted avg       0.94      0.83      0.86       353\n",
      "\n",
      "\n",
      "Test Loss: 0.4463\n",
      "Test Accuracy: 0.8300\n"
     ]
    },
    {
     "data": {
      "image/png": "[encoded data removed]",
      "text/plain": [
       "<Figure size 1000x800 with 2 Axes>"
      ]
     },
     "metadata": {},
     "output_type": "display_data"
    }
   ],
   "source": [
    "# 23. Evaluate on test set\n",
    "print(\"\\nEvaluating on test set...\")\n",
    "test_loss, test_accuracy = evaluate(model, test_loader, criterion, device, label_encoder)\n",
    "print(f\"\\nTest Loss: {test_loss:.4f}\")\n",
    "print(f\"Test Accuracy: {test_accuracy:.4f}\")"
   ]
  },
  {
   "cell_type": "code",
   "execution_count": 25,
   "metadata": {},
   "outputs": [
    {
     "name": "stdout",
     "output_type": "stream",
     "text": [
      "\n",
      "Analyzing feature importance...\n",
      "\n",
      "Top 20 most important features:\n",
      "1. aspect_ratio: 0.0526\n",
      "2. child_2_html_tag_SVG: 0.0523\n",
      "3. width: 0.0522\n",
      "4. child_2_html_tag_nan: 0.0519\n",
      "5. prev_sibling_html_tag_BUTTON: 0.0516\n",
      "6. type_RECTANGLE: 0.0512\n",
      "7. type_INSTANCE: 0.0508\n",
      "8. child_2_html_tag_INPUT: 0.0507\n",
      "9. prev_sibling_html_tag_P: 0.0504\n",
      "10. child_1_html_tag_ICON: 0.0504\n",
      "11. type_GROUP: 0.0504\n",
      "12. child_2_percentage_of_parent: 0.0502\n",
      "13. child_2_html_tag_ICON: 0.0502\n",
      "14. has_placeholder: 0.0502\n",
      "15. child_1_html_tag_P: 0.0500\n",
      "16. prev_sibling_html_tag_INPUT: 0.0499\n",
      "17. sibling_count: 0.0499\n",
      "18. prev_sibling_html_tag_nan: 0.0497\n",
      "19. type_FRAME: 0.0497\n",
      "20. child_2_html_tag_CHECKBOX: 0.0496\n"
     ]
    }
   ],
   "source": [
    "# 24. Feature importance analysis\n",
    "print(\"\\nAnalyzing feature importance...\")\n",
    "with torch.no_grad():\n",
    "    # We'll use gradient-based feature importance\n",
    "    # First collect the weights from the first layer\n",
    "    weights = model.fc1.weight.cpu().numpy()\n",
    "    importance = np.abs(weights).mean(axis=0)\n",
    "    \n",
    "    # Get feature names\n",
    "    cat_feature_names = ohe.get_feature_names_out(categorical_cols)\n",
    "    all_feature_names = np.concatenate([cat_feature_names, np.array(continuous_cols)])\n",
    "    \n",
    "    # Sort and display\n",
    "    feature_importance = list(zip(all_feature_names, importance))\n",
    "    feature_importance.sort(key=lambda x: x[1], reverse=True)\n",
    "    \n",
    "    print(\"\\nTop 20 most important features:\")\n",
    "    for i, (feature, imp) in enumerate(feature_importance[:20]):\n",
    "        print(f\"{i+1}. {feature}: {imp:.4f}\")\n",
    "    \n",
    "    # Visualize top features\n",
    "    plt.figure(figsize=(12, 6))\n",
    "    top_features = feature_importance[:15]\n",
    "    features, importances = zip(*top_features)\n",
    "    plt.barh(range(len(features)), importances, align='center')\n",
    "    plt.yticks(range(len(features)), features)\n",
    "    plt.xlabel('Importance')\n",
    "    plt.ylabel('Feature')\n",
    "    plt.title('Top 15 Feature Importances')\n",
    "    plt.tight_layout()\n",
    "    plt.savefig('feature_importance.png')\n",
    "    plt.close()"
   ]
  },
  {
   "cell_type": "code",
   "execution_count": null,
   "metadata": {},
   "outputs": [
    {
     "name": "stdout",
     "output_type": "stream",
     "text": [
      "\n",
      "Saving final model with all preprocessing components...\n",
      "\n",
      "Training and evaluation complete!\n"
     ]
    }
   ],
   "source": [
    "# 25. Final model saving\n",
    "print(\"\\nSaving final model with all preprocessing components...\")\n",
    "torch.save({\n",
    "    'model_state_dict': model.state_dict(),\n",
    "    'input_size': input_size,\n",
    "    'output_size': output_size,\n",
    "    'scaler': scaler,\n",
    "    'imputer': imputer,\n",
    "    'ohe_encoder': ohe,\n",
    "    'label_encoder': label_encoder\n",
    "}, \"models/tag_classifier_complete.pth\")\n",
    "\n",
    "print(\"\\nTraining and evaluation complete!\")"
   ]
  }
 ],
 "metadata": {
  "kernelspec": {
   "display_name": "Python 3",
   "language": "python",
   "name": "python3"
  },
  "language_info": {
   "codemirror_mode": {
    "name": "ipython",
    "version": 3
   },
   "file_extension": ".py",
   "mimetype": "text/x-python",
   "name": "python",
   "nbconvert_exporter": "python",
   "pygments_lexer": "ipython3",
   "version": "3.12.6"
  }
 },
 "nbformat": 4,
 "nbformat_minor": 2
}
