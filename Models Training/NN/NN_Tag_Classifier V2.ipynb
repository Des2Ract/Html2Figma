{
 "cells": [
  {
   "cell_type": "code",
   "execution_count": 74,
   "metadata": {},
   "outputs": [],
   "source": [
    "import torch\n",
    "import torch.nn as nn\n",
    "import torch.optim as optim\n",
    "import pandas as pd\n",
    "import numpy as np\n",
    "import joblib\n",
    "import time\n",
    "import matplotlib.pyplot as plt\n",
    "from sklearn.preprocessing import LabelEncoder, StandardScaler, OneHotEncoder\n",
    "from sklearn.impute import SimpleImputer\n",
    "from sklearn.model_selection import train_test_split\n",
    "from sklearn.metrics import accuracy_score, classification_report, confusion_matrix\n",
    "from sklearn.utils.class_weight import compute_class_weight\n",
    "from torch.amp import autocast, GradScaler\n",
    "from torch.utils.data import TensorDataset, DataLoader\n",
    "from torch.nn.utils import clip_grad_norm_\n",
    "import os\n",
    "import sys"
   ]
  },
  {
   "cell_type": "code",
   "execution_count": 75,
   "metadata": {},
   "outputs": [],
   "source": [
    "# Add the parent directory (where utils.py is located) to sys.path to ensure utils module is found\n",
    "utils_path = os.path.abspath(os.path.join(os.getcwd(), \"../../Utils/\"))\n",
    "sys.path.append(utils_path)\n",
    "\n",
    "from model_utils import ImprovedTagClassifier  # Import our model from utils"
   ]
  },
  {
   "cell_type": "code",
   "execution_count": 76,
   "metadata": {},
   "outputs": [],
   "source": [
    "# Enable cuDNN benchmarking for faster training\n",
    "torch.backends.cudnn.benchmark = True"
   ]
  },
  {
   "cell_type": "code",
   "execution_count": 77,
   "metadata": {},
   "outputs": [
    {
     "name": "stdout",
     "output_type": "stream",
     "text": [
      "Loading and cleaning data...\n",
      "Unique Child 1: ['DIV' 'ICON' 'P' nan 'LI' 'CHECKBOX' 'INPUT' 'BUTTON' 'SVG' 'RADIO']\n",
      "Unique Child 2: ['SVG' 'DIV' nan 'INPUT' 'BUTTON' 'P' 'LI' 'ICON' 'CHECKBOX' 'RADIO']\n",
      "Prev HTML tag: [nan 'ICON' 'P' 'DIV' 'BUTTON' 'INPUT' 'SVG' 'LI' 'RADIO']\n",
      "Unique tags after cleaning: ['DIV' 'INPUT' 'BUTTON']\n",
      "Total samples: 11890\n",
      "Distribution of tags: \n",
      "tag\n",
      "DIV       11035\n",
      "BUTTON      578\n",
      "INPUT       277\n",
      "Name: count, dtype: int64\n"
     ]
    },
    {
     "name": "stderr",
     "output_type": "stream",
     "text": [
      "C:\\Users\\AOZ\\AppData\\Local\\Temp\\ipykernel_32436\\1327527177.py:43: UserWarning: This pattern is interpreted as a regular expression, and has match groups. To actually get the groups, use str.extract.\n",
      "  df = df[~df['tag'].str.contains(r'\\b(P|IMG|SVG|ICON|LI|CHECKBOX|RADIO)\\b', regex=True)]\n"
     ]
    }
   ],
   "source": [
    "# Load and clean the data\n",
    "print(\"Loading and cleaning data...\")\n",
    "df = pd.read_csv(\"../Dataset/new_figma_dataset9.csv\")\n",
    "if 'parent_tag_html' in df.columns:\n",
    "    df = df.drop(columns=['parent_tag_html'])\n",
    "if 'y' in df.columns:\n",
    "    df = df.drop(columns=['y'])\n",
    "\n",
    "# Map tags to simpler ones\n",
    "tag_mapping = {\n",
    "    \"ARTICLE\": \"DIV\", \"DIV\": \"DIV\", \"FIGURE\": \"DIV\",\n",
    "    \"HEADER\": \"DIV\", \"NAV\": \"DIV\", \"MAIN\": \"DIV\",\n",
    "    \"BODY\": \"DIV\", \"FORM\": \"DIV\", \"OL\": \"DIV\", \"UL\": \"DIV\", \"TABLE\": \"DIV\", \"THEAD\": \"DIV\", \"TBODY\": \"DIV\", \"SECTION\": \"DIV\",\n",
    "    \"H1\": \"P\", \"H2\": \"P\", \"H3\": \"P\", \"H4\": \"P\", \"H5\": \"P\", \"H6\": \"P\", \"SUP\": \"P\", \"SUB\": \"P\", \"BIG\": \"P\",\n",
    "    \"P\": \"P\", \"CAPTION\": \"P\", \"FIGCAPTION\": \"P\", \"B\": \"P\", \"EM\": \"P\", \"I\": \"P\", \"TD\": \"P\", \"TH\": \"P\", \"TR\": \"P\", \"PRE\": \"P\",\n",
    "    \"U\": \"P\", \"TIME\": \"P\", \"TXT\": \"P\", \"ABBR\": \"P\", \"SMALL\": \"P\", \"STRONG\": \"P\", \"SUMMARY\": \"P\", \"SPAN\": \"P\",\n",
    "    \"PICTURE\": \"IMG\", \"VIDEO\": \"IMG\",\n",
    "    \"SELECT\": \"INPUT\", \"TEXTAREA\": \"INPUT\",\n",
    "    \"UNK\": \"DIV\", \"FOOTER\": \"DIV\", \"NAVBAR\": \"DIV\", \"LIST\": \"DIV\", \"CARD\": \"DIV\",\n",
    "    \"LABEL\": \"P\", \"A\": \"P\",\n",
    "    \"DROPDOWN\": \"INPUT\"\n",
    "}\n",
    "\n",
    "# Fix specific tags\n",
    "df.loc[(df[\"tag\"] == \"SPAN\") & ((df[\"type\"] == \"RECTANGLE\") | (df[\"type\"] == \"GROUP\")), \"tag\"] = \"DIV\"\n",
    "children_cols = ['child_1_html_tag', 'child_2_html_tag']\n",
    "for col in children_cols:\n",
    "    df[col] = df[col].apply(lambda x: \"DIV\" if isinstance(x, str) and '-' in x else x)\n",
    "\n",
    "# Make tags uppercase\n",
    "df['tag'] = df['tag'].str.upper()\n",
    "df['prev_sibling_html_tag'] = df['prev_sibling_html_tag'].str.upper()\n",
    "df['child_1_html_tag'] = df['child_1_html_tag'].str.upper()\n",
    "df['child_2_html_tag'] = df['child_2_html_tag'].str.upper()\n",
    "\n",
    "# Apply the tag mapping\n",
    "df['tag'] = df['tag'].replace(tag_mapping)\n",
    "df['prev_sibling_html_tag'] = df['prev_sibling_html_tag'].replace(tag_mapping)\n",
    "df['child_1_html_tag'] = df['child_1_html_tag'].replace(tag_mapping)\n",
    "df['child_2_html_tag'] = df['child_2_html_tag'].replace(tag_mapping)\n",
    "\n",
    "# Remove unwanted tags (leave only there effect in feature vector)\n",
    "df = df[~df['tag'].str.contains(r'\\b(P|IMG|SVG|ICON|LI|CHECKBOX|RADIO)\\b', regex=True)]\n",
    "\n",
    "# Show some data info\n",
    "print(\"Unique Child 1:\", df['child_1_html_tag'].unique())\n",
    "print(\"Unique Child 2:\", df['child_2_html_tag'].unique())\n",
    "print(\"Prev HTML tag:\", df['prev_sibling_html_tag'].unique())\n",
    "print(f\"Unique tags after cleaning: {df['tag'].unique()}\")\n",
    "print(f\"Total samples: {len(df)}\")\n",
    "print(f\"Distribution of tags: \\n{df['tag'].value_counts()}\")"
   ]
  },
  {
   "cell_type": "code",
   "execution_count": 78,
   "metadata": {},
   "outputs": [],
   "source": [
    "# Separate features and target\n",
    "y = df[\"tag\"]\n",
    "X = df.drop(columns=[\"tag\"])"
   ]
  },
  {
   "cell_type": "code",
   "execution_count": 79,
   "metadata": {},
   "outputs": [],
   "source": [
    "# Identify categorical and continuous columns\n",
    "categorical_cols = ['type','prev_sibling_html_tag','child_1_html_tag','child_2_html_tag']\n",
    "continuous_cols = [col for col in X.columns if col not in categorical_cols]"
   ]
  },
  {
   "cell_type": "code",
   "execution_count": 80,
   "metadata": {},
   "outputs": [
    {
     "name": "stdout",
     "output_type": "stream",
     "text": [
      "Processing categorical features...\n"
     ]
    },
    {
     "data": {
      "text/plain": [
       "['../models/ohe_encoder.pkl']"
      ]
     },
     "execution_count": 80,
     "metadata": {},
     "output_type": "execute_result"
    }
   ],
   "source": [
    "# Process categorical features with OneHotEncoder\n",
    "print(\"Processing categorical features...\")\n",
    "X[categorical_cols] = X[categorical_cols].astype(str).fillna('unknown')\n",
    "ohe = OneHotEncoder(sparse_output=False, handle_unknown='ignore')\n",
    "X_cat_encoded = ohe.fit_transform(X[categorical_cols])\n",
    "joblib.dump(ohe, \"../models/ohe_encoder.pkl\")"
   ]
  },
  {
   "cell_type": "code",
   "execution_count": 81,
   "metadata": {},
   "outputs": [
    {
     "name": "stdout",
     "output_type": "stream",
     "text": [
      "Handling missing values...\n"
     ]
    },
    {
     "data": {
      "text/plain": [
       "['../models/imputer.pkl']"
      ]
     },
     "execution_count": 81,
     "metadata": {},
     "output_type": "execute_result"
    }
   ],
   "source": [
    "# Handle missing values in continuous features\n",
    "print(\"Handling missing values...\")\n",
    "imputer = SimpleImputer(strategy='median')  # Changed to median for better robustness\n",
    "X_continuous_imputed = imputer.fit_transform(X[continuous_cols])\n",
    "joblib.dump(imputer, \"../models/imputer.pkl\")"
   ]
  },
  {
   "cell_type": "code",
   "execution_count": 82,
   "metadata": {},
   "outputs": [
    {
     "name": "stdout",
     "output_type": "stream",
     "text": [
      "Scaling continuous features...\n"
     ]
    },
    {
     "data": {
      "text/plain": [
       "['../models/scaler.pkl']"
      ]
     },
     "execution_count": 82,
     "metadata": {},
     "output_type": "execute_result"
    }
   ],
   "source": [
    "# Scale continuous features\n",
    "print(\"Scaling continuous features...\")\n",
    "scaler = StandardScaler()\n",
    "X_continuous_scaled = scaler.fit_transform(X_continuous_imputed)\n",
    "joblib.dump(scaler, \"../models/scaler.pkl\")"
   ]
  },
  {
   "cell_type": "code",
   "execution_count": 83,
   "metadata": {},
   "outputs": [],
   "source": [
    "# Combine one-hot encoded categorical features with scaled continuous features\n",
    "X_processed = np.concatenate([X_cat_encoded, X_continuous_scaled], axis=1)"
   ]
  },
  {
   "cell_type": "code",
   "execution_count": 84,
   "metadata": {},
   "outputs": [
    {
     "name": "stdout",
     "output_type": "stream",
     "text": [
      "Encoding target labels...\n"
     ]
    },
    {
     "data": {
      "text/plain": [
       "['../models/label_encoder.pkl']"
      ]
     },
     "execution_count": 84,
     "metadata": {},
     "output_type": "execute_result"
    }
   ],
   "source": [
    "# Encode target labels\n",
    "print(\"Encoding target labels...\")\n",
    "label_encoder = LabelEncoder()\n",
    "y_encoded = label_encoder.fit_transform(y)\n",
    "joblib.dump(label_encoder, \"../models/label_encoder.pkl\")"
   ]
  },
  {
   "cell_type": "code",
   "execution_count": 85,
   "metadata": {},
   "outputs": [],
   "source": [
    "# Handle class imbalance by duplicating rare class samples\n",
    "from collections import Counter\n",
    "class_counts = Counter(y_encoded)\n",
    "min_samples_threshold = 10  # Ensure each class has at least this many samples\n",
    "\n",
    "# Find classes with fewer than min_samples_threshold samples\n",
    "rare_classes = [cls for cls, count in class_counts.items() if count < min_samples_threshold]\n",
    "\n",
    "# Duplicate rare class samples to reach the threshold\n",
    "for cls in rare_classes:\n",
    "    idx = np.where(y_encoded == cls)[0]  # Get indices of rare samples\n",
    "    original_class_name = label_encoder.inverse_transform([cls])[0]\n",
    "    samples_needed = min_samples_threshold - len(idx)\n",
    "    \n",
    "    print(f\"Augmenting class '{original_class_name}' with {samples_needed} additional samples\")\n",
    "    \n",
    "    # Create synthetic samples through duplication with slight variations\n",
    "    for _ in range(samples_needed):\n",
    "        sample_idx = np.random.choice(idx)  # Choose a random sample from this class\n",
    "        new_sample = X_processed[sample_idx].copy()\n",
    "        \n",
    "        # Add slight noise to continuous features (last part of the feature vector)\n",
    "        continuous_start = X_cat_encoded.shape[1]\n",
    "        noise = np.random.normal(0, 0.05, size=X_continuous_scaled.shape[1])\n",
    "        new_sample[continuous_start:] += noise\n",
    "        \n",
    "        X_processed = np.vstack([X_processed, new_sample])\n",
    "        y_encoded = np.append(y_encoded, cls)"
   ]
  },
  {
   "cell_type": "code",
   "execution_count": 86,
   "metadata": {},
   "outputs": [
    {
     "name": "stdout",
     "output_type": "stream",
     "text": [
      "Splitting data into train, validation, and test sets...\n",
      "Training set size: 8590\n",
      "Validation set size: 1516\n",
      "Test set size: 1784\n"
     ]
    }
   ],
   "source": [
    "# Split data into train, validation, and test sets\n",
    "print(\"Splitting data into train, validation, and test sets...\")\n",
    "X_temp, X_test, y_temp, y_test = train_test_split(\n",
    "    X_processed, y_encoded, test_size=0.15, random_state=42, stratify=y_encoded\n",
    ")\n",
    "\n",
    "X_train, X_val, y_train, y_val = train_test_split(\n",
    "    X_temp, y_temp, test_size=0.15, random_state=42, stratify=y_temp\n",
    ")\n",
    "\n",
    "print(f\"Training set size: {X_train.shape[0]}\")\n",
    "print(f\"Validation set size: {X_val.shape[0]}\")\n",
    "print(f\"Test set size: {X_test.shape[0]}\")"
   ]
  },
  {
   "cell_type": "code",
   "execution_count": 87,
   "metadata": {},
   "outputs": [
    {
     "name": "stdout",
     "output_type": "stream",
     "text": [
      "Computing class weights...\n",
      "Class BUTTON: 6.8665\n",
      "Class DIV: 0.3592\n",
      "Class INPUT: 14.2454\n"
     ]
    }
   ],
   "source": [
    "# Compute class weights for handling imbalance\n",
    "print(\"Computing class weights...\")\n",
    "class_weights = compute_class_weight(\n",
    "    'balanced', \n",
    "    classes=np.unique(y_train), \n",
    "    y=y_train\n",
    ")\n",
    "\n",
    "for c in np.unique(y_train):\n",
    "    print(f\"Class {label_encoder.inverse_transform([c])[0]}: {class_weights[c]:.4f}\")"
   ]
  },
  {
   "cell_type": "code",
   "execution_count": 88,
   "metadata": {},
   "outputs": [
    {
     "name": "stdout",
     "output_type": "stream",
     "text": [
      "Using device: cuda\n"
     ]
    }
   ],
   "source": [
    "# Convert data to PyTorch tensors\n",
    "device = torch.device(\"cuda\" if torch.cuda.is_available() else \"cpu\")\n",
    "print(f\"Using device: {device}\")\n",
    "\n",
    "X_train_tensor = torch.tensor(X_train, dtype=torch.float32)\n",
    "y_train_tensor = torch.tensor(y_train, dtype=torch.long)\n",
    "X_val_tensor = torch.tensor(X_val, dtype=torch.float32)\n",
    "y_val_tensor = torch.tensor(y_val, dtype=torch.long)\n",
    "X_test_tensor = torch.tensor(X_test, dtype=torch.float32)\n",
    "y_test_tensor = torch.tensor(y_test, dtype=torch.long)\n",
    "class_weights_tensor = torch.tensor(class_weights, dtype=torch.float32).to(device)"
   ]
  },
  {
   "cell_type": "code",
   "execution_count": 89,
   "metadata": {},
   "outputs": [],
   "source": [
    "# Create datasets and dataloaders\n",
    "train_dataset = TensorDataset(X_train_tensor, y_train_tensor)\n",
    "val_dataset = TensorDataset(X_val_tensor, y_val_tensor)\n",
    "test_dataset = TensorDataset(X_test_tensor, y_test_tensor)\n",
    "\n",
    "train_loader = DataLoader(\n",
    "    train_dataset, \n",
    "    batch_size=512,\n",
    "    shuffle=True, \n",
    "    num_workers=4,\n",
    "    pin_memory=True,\n",
    "    prefetch_factor=2\n",
    ")\n",
    "\n",
    "val_loader = DataLoader(\n",
    "    val_dataset, \n",
    "    batch_size=512, \n",
    "    shuffle=False,\n",
    "    num_workers=4,\n",
    "    pin_memory=True\n",
    ")\n",
    "\n",
    "test_loader = DataLoader(\n",
    "    test_dataset, \n",
    "    batch_size=512, \n",
    "    shuffle=False,\n",
    "    num_workers=4,\n",
    "    pin_memory=True\n",
    ")"
   ]
  },
  {
   "cell_type": "code",
   "execution_count": 90,
   "metadata": {},
   "outputs": [
    {
     "name": "stdout",
     "output_type": "stream",
     "text": [
      "Initializing model...\n"
     ]
    }
   ],
   "source": [
    "# Initialize model\n",
    "print(\"Initializing model...\")\n",
    "input_size = X_train.shape[1]\n",
    "output_size = len(label_encoder.classes_)\n",
    "model = ImprovedTagClassifier(input_size, output_size).to(device)"
   ]
  },
  {
   "cell_type": "code",
   "execution_count": 91,
   "metadata": {},
   "outputs": [
    {
     "name": "stderr",
     "output_type": "stream",
     "text": [
      "C:\\Users\\AOZ\\AppData\\Roaming\\Python\\Python312\\site-packages\\torch\\optim\\lr_scheduler.py:62: UserWarning: The verbose parameter is deprecated. Please use get_last_lr() to access the learning rate.\n",
      "  warnings.warn(\n"
     ]
    }
   ],
   "source": [
    "# Define loss function with focal loss component to handle imbalance\n",
    "class FocalLoss(nn.Module):\n",
    "    def __init__(self, weight=None, gamma=2.0, reduction='mean'):\n",
    "        super(FocalLoss, self).__init__()\n",
    "        self.weight = weight\n",
    "        self.gamma = gamma\n",
    "        self.reduction = reduction\n",
    "        self.ce_loss = nn.CrossEntropyLoss(weight=weight, reduction='none')\n",
    "        \n",
    "    def forward(self, inputs, targets):\n",
    "        ce_loss = self.ce_loss(inputs, targets)\n",
    "        pt = torch.exp(-ce_loss)\n",
    "        focal_loss = ((1 - pt) ** self.gamma) * ce_loss\n",
    "        \n",
    "        if self.reduction == 'mean':\n",
    "            return focal_loss.mean()\n",
    "        elif self.reduction == 'sum':\n",
    "            return focal_loss.sum()\n",
    "        else:\n",
    "            return focal_loss\n",
    "\n",
    "# Use a combination of CrossEntropy and Focal Loss\n",
    "criterion = FocalLoss(weight=class_weights_tensor, gamma=2.0)\n",
    "\n",
    "# Define optimizer with weight decay and learning rate scheduler\n",
    "optimizer = optim.AdamW(model.parameters(), lr=0.0001, weight_decay=1e-4)\n",
    "scheduler = optim.lr_scheduler.ReduceLROnPlateau(\n",
    "    optimizer, \n",
    "    mode='min', \n",
    "    factor=0.5, \n",
    "    patience=5, \n",
    "    verbose=True\n",
    ")"
   ]
  },
  {
   "cell_type": "code",
   "execution_count": 92,
   "metadata": {},
   "outputs": [],
   "source": [
    "# Setup mixed precision training\n",
    "scaler = GradScaler()"
   ]
  },
  {
   "cell_type": "code",
   "execution_count": 93,
   "metadata": {},
   "outputs": [],
   "source": [
    "# Define training, validation, and evaluation functions\n",
    "def train_epoch(model, loader, criterion, optimizer, scaler, device):\n",
    "    model.train()\n",
    "    running_loss = 0.0\n",
    "    \n",
    "    for batch_X, batch_y in loader:\n",
    "        batch_X, batch_y = batch_X.to(device), batch_y.to(device)\n",
    "        \n",
    "        optimizer.zero_grad()\n",
    "        \n",
    "        with autocast(device_type=device.type):\n",
    "            outputs = model(batch_X)\n",
    "            loss = criterion(outputs, batch_y)\n",
    "        \n",
    "        scaler.scale(loss).backward()\n",
    "        \n",
    "        # Gradient clipping to prevent exploding gradients\n",
    "        scaler.unscale_(optimizer)\n",
    "        clip_grad_norm_(model.parameters(), max_norm=1.0)\n",
    "        \n",
    "        scaler.step(optimizer)\n",
    "        scaler.update()\n",
    "        \n",
    "        running_loss += loss.item()\n",
    "    \n",
    "    return running_loss / len(loader)\n",
    "\n",
    "def validate(model, loader, criterion, device):\n",
    "    model.eval()\n",
    "    running_loss = 0.0\n",
    "    all_preds = []\n",
    "    all_labels = []\n",
    "    \n",
    "    with torch.no_grad():\n",
    "        for batch_X, batch_y in loader:\n",
    "            batch_X, batch_y = batch_X.to(device), batch_y.to(device)\n",
    "            \n",
    "            with autocast(device_type=device.type):\n",
    "                outputs = model(batch_X)\n",
    "                loss = criterion(outputs, batch_y)\n",
    "            \n",
    "            running_loss += loss.item()\n",
    "            \n",
    "            _, preds = torch.max(outputs, 1)\n",
    "            all_preds.extend(preds.cpu().numpy())\n",
    "            all_labels.extend(batch_y.cpu().numpy())\n",
    "    \n",
    "    # Calculate metrics\n",
    "    accuracy = accuracy_score(all_labels, all_preds)\n",
    "    val_loss = running_loss / len(loader)\n",
    "    \n",
    "    return val_loss, accuracy, all_preds, all_labels\n",
    "\n",
    "def evaluate(model, loader, criterion, device, label_encoder):\n",
    "    val_loss, accuracy, all_preds, all_labels = validate(model, loader, criterion, device)\n",
    "    \n",
    "    print(f\"\\nEvaluation Results:\")\n",
    "    print(f\"Loss: {val_loss:.4f}, Accuracy: {accuracy:.4f}\")\n",
    "    \n",
    "    # Display detailed classification report\n",
    "    print(\"\\nClassification Report:\")\n",
    "    print(classification_report(\n",
    "        all_labels, \n",
    "        all_preds,\n",
    "        labels=np.unique(all_labels),\n",
    "        target_names=label_encoder.inverse_transform(np.unique(all_labels)),\n",
    "        zero_division=0\n",
    "    ))\n",
    "    \n",
    "    # Plot confusion matrix\n",
    "    cm = confusion_matrix(all_labels, all_preds)\n",
    "    plt.figure(figsize=(10, 8))\n",
    "    plt.imshow(cm, interpolation='nearest', cmap=plt.cm.Blues)\n",
    "    plt.title('Confusion Matrix')\n",
    "    plt.colorbar()\n",
    "    \n",
    "    class_names = label_encoder.inverse_transform(np.unique(all_labels))\n",
    "    tick_marks = np.arange(len(class_names))\n",
    "    plt.xticks(tick_marks, class_names, rotation=45)\n",
    "    plt.yticks(tick_marks, class_names)\n",
    "    \n",
    "    # Normalize confusion matrix and print percentages\n",
    "    cm_norm = cm.astype('float') / cm.sum(axis=1)[:, np.newaxis]\n",
    "    thresh = cm.max() / 2.\n",
    "    for i in range(cm.shape[0]):\n",
    "        for j in range(cm.shape[1]):\n",
    "            plt.text(j, i, f\"{cm[i, j]}\\n({cm_norm[i, j]:.2f})\",\n",
    "                     horizontalalignment=\"center\",\n",
    "                     color=\"white\" if cm[i, j] > thresh else \"black\")\n",
    "    \n",
    "    plt.tight_layout()\n",
    "    plt.ylabel('True Label')\n",
    "    plt.xlabel('Predicted Label')\n",
    "    plt.savefig('../models/confusion_matrix.png')\n",
    "    \n",
    "    return val_loss, accuracy"
   ]
  },
  {
   "cell_type": "code",
   "execution_count": 94,
   "metadata": {},
   "outputs": [
    {
     "name": "stdout",
     "output_type": "stream",
     "text": [
      "Starting training...\n"
     ]
    },
    {
     "name": "stdout",
     "output_type": "stream",
     "text": [
      "Epoch [1/150] - Train Loss: 6.1637, Val Loss: 1.1884, Val Accuracy: 0.3978, Time: 6.46s\n",
      "Model improved and saved!\n",
      "Epoch [2/150] - Train Loss: 4.6600, Val Loss: 1.0735, Val Accuracy: 0.4235, Time: 5.75s\n",
      "Model improved and saved!\n",
      "Epoch [3/150] - Train Loss: 3.9256, Val Loss: 1.0973, Val Accuracy: 0.4848, Time: 5.78s\n",
      "EarlyStopping counter: 1 out of 15\n",
      "Epoch [4/150] - Train Loss: 3.4638, Val Loss: 1.1513, Val Accuracy: 0.4934, Time: 5.53s\n",
      "EarlyStopping counter: 2 out of 15\n",
      "Epoch [5/150] - Train Loss: 3.4801, Val Loss: 1.1097, Val Accuracy: 0.5673, Time: 5.56s\n",
      "EarlyStopping counter: 3 out of 15\n",
      "Epoch [6/150] - Train Loss: 3.2503, Val Loss: 1.0364, Val Accuracy: 0.6055, Time: 6.10s\n",
      "Model improved and saved!\n",
      "Epoch [7/150] - Train Loss: 2.9328, Val Loss: 0.9674, Val Accuracy: 0.6326, Time: 5.97s\n",
      "Model improved and saved!\n",
      "Epoch [8/150] - Train Loss: 2.7457, Val Loss: 0.8916, Val Accuracy: 0.6596, Time: 6.50s\n",
      "Model improved and saved!\n",
      "Epoch [9/150] - Train Loss: 2.6045, Val Loss: 0.8650, Val Accuracy: 0.6946, Time: 5.96s\n",
      "Model improved and saved!\n",
      "Epoch [10/150] - Train Loss: 2.6771, Val Loss: 0.8668, Val Accuracy: 0.7117, Time: 5.82s\n",
      "EarlyStopping counter: 1 out of 15\n",
      "Epoch [11/150] - Train Loss: 2.3193, Val Loss: 0.8263, Val Accuracy: 0.7309, Time: 6.04s\n",
      "Model improved and saved!\n",
      "Epoch [12/150] - Train Loss: 2.3680, Val Loss: 0.7635, Val Accuracy: 0.7460, Time: 5.65s\n",
      "Model improved and saved!\n",
      "Epoch [13/150] - Train Loss: 2.2031, Val Loss: 0.7633, Val Accuracy: 0.7493, Time: 6.11s\n",
      "Model improved and saved!\n",
      "Epoch [14/150] - Train Loss: 2.0688, Val Loss: 0.6859, Val Accuracy: 0.7592, Time: 6.10s\n",
      "Model improved and saved!\n",
      "Epoch [15/150] - Train Loss: 1.9062, Val Loss: 0.6447, Val Accuracy: 0.7678, Time: 5.65s\n",
      "Model improved and saved!\n",
      "Epoch [16/150] - Train Loss: 1.9600, Val Loss: 0.6025, Val Accuracy: 0.7698, Time: 5.48s\n",
      "Model improved and saved!\n",
      "Epoch [17/150] - Train Loss: 1.8284, Val Loss: 0.5767, Val Accuracy: 0.7777, Time: 5.69s\n",
      "Model improved and saved!\n",
      "Epoch [18/150] - Train Loss: 1.8268, Val Loss: 0.5678, Val Accuracy: 0.7843, Time: 5.88s\n",
      "Model improved and saved!\n",
      "Epoch [19/150] - Train Loss: 1.8683, Val Loss: 0.5546, Val Accuracy: 0.7876, Time: 5.66s\n",
      "Model improved and saved!\n",
      "Epoch [20/150] - Train Loss: 1.6269, Val Loss: 0.4806, Val Accuracy: 0.7988, Time: 5.90s\n",
      "Model improved and saved!\n",
      "Epoch [21/150] - Train Loss: 1.4995, Val Loss: 0.4514, Val Accuracy: 0.8061, Time: 5.73s\n",
      "Model improved and saved!\n",
      "Epoch [22/150] - Train Loss: 1.6186, Val Loss: 0.4526, Val Accuracy: 0.8067, Time: 6.37s\n",
      "EarlyStopping counter: 1 out of 15\n",
      "Epoch [23/150] - Train Loss: 1.4860, Val Loss: 0.4550, Val Accuracy: 0.8047, Time: 6.09s\n",
      "EarlyStopping counter: 2 out of 15\n",
      "Epoch [24/150] - Train Loss: 1.4128, Val Loss: 0.4265, Val Accuracy: 0.8206, Time: 5.78s\n",
      "Model improved and saved!\n",
      "Epoch [25/150] - Train Loss: 1.3704, Val Loss: 0.4149, Val Accuracy: 0.8265, Time: 5.61s\n",
      "Model improved and saved!\n",
      "Epoch [26/150] - Train Loss: 1.3791, Val Loss: 0.3952, Val Accuracy: 0.8305, Time: 5.74s\n",
      "Model improved and saved!\n",
      "Epoch [27/150] - Train Loss: 1.2385, Val Loss: 0.3702, Val Accuracy: 0.8410, Time: 6.04s\n",
      "Model improved and saved!\n",
      "Epoch [28/150] - Train Loss: 1.3425, Val Loss: 0.3530, Val Accuracy: 0.8417, Time: 5.69s\n",
      "Model improved and saved!\n",
      "Epoch [29/150] - Train Loss: 1.1198, Val Loss: 0.3441, Val Accuracy: 0.8404, Time: 6.36s\n",
      "Model improved and saved!\n",
      "Epoch [30/150] - Train Loss: 1.2928, Val Loss: 0.3237, Val Accuracy: 0.8496, Time: 5.74s\n",
      "Model improved and saved!\n",
      "Epoch [31/150] - Train Loss: 1.1690, Val Loss: 0.3121, Val Accuracy: 0.8463, Time: 6.14s\n",
      "Model improved and saved!\n",
      "Epoch [32/150] - Train Loss: 1.2055, Val Loss: 0.3181, Val Accuracy: 0.8496, Time: 6.31s\n",
      "EarlyStopping counter: 1 out of 15\n",
      "Epoch [33/150] - Train Loss: 1.0751, Val Loss: 0.3209, Val Accuracy: 0.8516, Time: 5.64s\n",
      "EarlyStopping counter: 2 out of 15\n",
      "Epoch [34/150] - Train Loss: 0.9654, Val Loss: 0.2999, Val Accuracy: 0.8648, Time: 5.84s\n",
      "Model improved and saved!\n",
      "Epoch [35/150] - Train Loss: 1.0374, Val Loss: 0.2938, Val Accuracy: 0.8602, Time: 6.04s\n",
      "Model improved and saved!\n",
      "Epoch [36/150] - Train Loss: 0.9360, Val Loss: 0.2869, Val Accuracy: 0.8648, Time: 5.41s\n",
      "Model improved and saved!\n",
      "Epoch [37/150] - Train Loss: 0.9199, Val Loss: 0.2814, Val Accuracy: 0.8674, Time: 6.81s\n",
      "Model improved and saved!\n",
      "Epoch [38/150] - Train Loss: 0.8675, Val Loss: 0.2624, Val Accuracy: 0.8766, Time: 5.97s\n",
      "Model improved and saved!\n",
      "Epoch [39/150] - Train Loss: 0.8169, Val Loss: 0.2483, Val Accuracy: 0.8852, Time: 6.03s\n",
      "Model improved and saved!\n",
      "Epoch [40/150] - Train Loss: 0.9110, Val Loss: 0.2445, Val Accuracy: 0.8865, Time: 5.58s\n",
      "Model improved and saved!\n",
      "Epoch [41/150] - Train Loss: 0.8623, Val Loss: 0.2369, Val Accuracy: 0.8892, Time: 5.62s\n",
      "Model improved and saved!\n",
      "Epoch [42/150] - Train Loss: 0.8402, Val Loss: 0.2415, Val Accuracy: 0.8839, Time: 5.71s\n",
      "EarlyStopping counter: 1 out of 15\n",
      "Epoch [43/150] - Train Loss: 0.8202, Val Loss: 0.2464, Val Accuracy: 0.8852, Time: 5.92s\n",
      "EarlyStopping counter: 2 out of 15\n",
      "Epoch [44/150] - Train Loss: 0.8807, Val Loss: 0.2370, Val Accuracy: 0.8872, Time: 5.47s\n",
      "EarlyStopping counter: 3 out of 15\n",
      "Epoch [45/150] - Train Loss: 0.8332, Val Loss: 0.2330, Val Accuracy: 0.8872, Time: 5.48s\n",
      "Model improved and saved!\n",
      "Epoch [46/150] - Train Loss: 0.7225, Val Loss: 0.2256, Val Accuracy: 0.8892, Time: 6.49s\n",
      "Model improved and saved!\n",
      "Epoch [47/150] - Train Loss: 0.7705, Val Loss: 0.2260, Val Accuracy: 0.8865, Time: 5.54s\n",
      "EarlyStopping counter: 1 out of 15\n",
      "Epoch [48/150] - Train Loss: 0.6815, Val Loss: 0.2295, Val Accuracy: 0.8898, Time: 6.02s\n",
      "EarlyStopping counter: 2 out of 15\n",
      "Epoch [49/150] - Train Loss: 0.6589, Val Loss: 0.2215, Val Accuracy: 0.8918, Time: 5.52s\n",
      "Model improved and saved!\n",
      "Epoch [50/150] - Train Loss: 0.6809, Val Loss: 0.2209, Val Accuracy: 0.8905, Time: 5.54s\n",
      "Model improved and saved!\n",
      "Epoch [51/150] - Train Loss: 0.6158, Val Loss: 0.2170, Val Accuracy: 0.8918, Time: 5.76s\n",
      "Model improved and saved!\n",
      "Epoch [52/150] - Train Loss: 0.6517, Val Loss: 0.2135, Val Accuracy: 0.8918, Time: 5.56s\n",
      "Model improved and saved!\n",
      "Epoch [53/150] - Train Loss: 0.5670, Val Loss: 0.2050, Val Accuracy: 0.8971, Time: 5.63s\n",
      "Model improved and saved!\n",
      "Epoch [54/150] - Train Loss: 0.5102, Val Loss: 0.2025, Val Accuracy: 0.8971, Time: 5.80s\n",
      "Model improved and saved!\n",
      "Epoch [55/150] - Train Loss: 0.5741, Val Loss: 0.1965, Val Accuracy: 0.8991, Time: 5.53s\n",
      "Model improved and saved!\n",
      "Epoch [56/150] - Train Loss: 0.6193, Val Loss: 0.1904, Val Accuracy: 0.9011, Time: 5.77s\n",
      "Model improved and saved!\n",
      "Epoch [57/150] - Train Loss: 0.5701, Val Loss: 0.1909, Val Accuracy: 0.9017, Time: 5.68s\n",
      "EarlyStopping counter: 1 out of 15\n",
      "Epoch [58/150] - Train Loss: 0.5352, Val Loss: 0.1889, Val Accuracy: 0.9024, Time: 6.17s\n",
      "Model improved and saved!\n",
      "Epoch [59/150] - Train Loss: 0.6850, Val Loss: 0.1867, Val Accuracy: 0.9017, Time: 5.88s\n",
      "Model improved and saved!\n",
      "Epoch [60/150] - Train Loss: 0.6250, Val Loss: 0.1882, Val Accuracy: 0.9037, Time: 5.90s\n",
      "EarlyStopping counter: 1 out of 15\n",
      "Epoch [61/150] - Train Loss: 0.5662, Val Loss: 0.1882, Val Accuracy: 0.9024, Time: 5.29s\n",
      "EarlyStopping counter: 2 out of 15\n",
      "Epoch [62/150] - Train Loss: 0.5006, Val Loss: 0.1843, Val Accuracy: 0.9030, Time: 5.50s\n",
      "Model improved and saved!\n",
      "Epoch [63/150] - Train Loss: 0.4929, Val Loss: 0.1792, Val Accuracy: 0.9037, Time: 5.48s\n",
      "Model improved and saved!\n",
      "Epoch [64/150] - Train Loss: 0.4569, Val Loss: 0.1766, Val Accuracy: 0.9044, Time: 5.91s\n",
      "Model improved and saved!\n",
      "Epoch [65/150] - Train Loss: 0.4066, Val Loss: 0.1704, Val Accuracy: 0.9057, Time: 6.07s\n",
      "Model improved and saved!\n",
      "Epoch [66/150] - Train Loss: 0.4841, Val Loss: 0.1645, Val Accuracy: 0.9077, Time: 5.75s\n",
      "Model improved and saved!\n",
      "Epoch [67/150] - Train Loss: 0.4814, Val Loss: 0.1628, Val Accuracy: 0.9083, Time: 6.34s\n",
      "Model improved and saved!\n",
      "Epoch [68/150] - Train Loss: 0.4516, Val Loss: 0.1600, Val Accuracy: 0.9103, Time: 5.68s\n",
      "Model improved and saved!\n",
      "Epoch [69/150] - Train Loss: 0.4403, Val Loss: 0.1551, Val Accuracy: 0.9109, Time: 6.03s\n",
      "Model improved and saved!\n",
      "Epoch [70/150] - Train Loss: 0.4553, Val Loss: 0.1570, Val Accuracy: 0.9077, Time: 5.75s\n",
      "EarlyStopping counter: 1 out of 15\n",
      "Epoch [71/150] - Train Loss: 0.4427, Val Loss: 0.1554, Val Accuracy: 0.9077, Time: 5.39s\n",
      "EarlyStopping counter: 2 out of 15\n",
      "Epoch [72/150] - Train Loss: 0.3841, Val Loss: 0.1612, Val Accuracy: 0.9083, Time: 5.91s\n",
      "EarlyStopping counter: 3 out of 15\n",
      "Epoch [73/150] - Train Loss: 0.3942, Val Loss: 0.1615, Val Accuracy: 0.9103, Time: 6.04s\n",
      "EarlyStopping counter: 4 out of 15\n",
      "Epoch [74/150] - Train Loss: 0.3886, Val Loss: 0.1569, Val Accuracy: 0.9103, Time: 5.98s\n",
      "EarlyStopping counter: 5 out of 15\n",
      "Epoch [75/150] - Train Loss: 0.3900, Val Loss: 0.1474, Val Accuracy: 0.9142, Time: 5.58s\n",
      "Model improved and saved!\n",
      "Epoch [76/150] - Train Loss: 0.3837, Val Loss: 0.1456, Val Accuracy: 0.9136, Time: 5.64s\n",
      "Model improved and saved!\n",
      "Epoch [77/150] - Train Loss: 0.3876, Val Loss: 0.1503, Val Accuracy: 0.9109, Time: 5.61s\n",
      "EarlyStopping counter: 1 out of 15\n",
      "Epoch [78/150] - Train Loss: 0.3270, Val Loss: 0.1508, Val Accuracy: 0.9116, Time: 5.85s\n",
      "EarlyStopping counter: 2 out of 15\n",
      "Epoch [79/150] - Train Loss: 0.3544, Val Loss: 0.1506, Val Accuracy: 0.9109, Time: 6.39s\n",
      "EarlyStopping counter: 3 out of 15\n",
      "Epoch [80/150] - Train Loss: 0.3256, Val Loss: 0.1491, Val Accuracy: 0.9090, Time: 5.94s\n",
      "EarlyStopping counter: 4 out of 15\n",
      "Epoch [81/150] - Train Loss: 0.3668, Val Loss: 0.1429, Val Accuracy: 0.9090, Time: 5.59s\n",
      "Model improved and saved!\n",
      "Epoch [82/150] - Train Loss: 0.3052, Val Loss: 0.1451, Val Accuracy: 0.9103, Time: 6.37s\n",
      "EarlyStopping counter: 1 out of 15\n",
      "Epoch [83/150] - Train Loss: 0.3144, Val Loss: 0.1446, Val Accuracy: 0.9116, Time: 5.83s\n",
      "EarlyStopping counter: 2 out of 15\n",
      "Epoch [84/150] - Train Loss: 0.3282, Val Loss: 0.1441, Val Accuracy: 0.9096, Time: 6.38s\n",
      "EarlyStopping counter: 3 out of 15\n",
      "Epoch [85/150] - Train Loss: 0.3139, Val Loss: 0.1426, Val Accuracy: 0.9077, Time: 5.90s\n",
      "Model improved and saved!\n",
      "Epoch [86/150] - Train Loss: 0.3203, Val Loss: 0.1351, Val Accuracy: 0.9083, Time: 5.73s\n",
      "Model improved and saved!\n",
      "Epoch [87/150] - Train Loss: 0.3289, Val Loss: 0.1331, Val Accuracy: 0.9090, Time: 5.92s\n",
      "Model improved and saved!\n",
      "Epoch [88/150] - Train Loss: 0.2575, Val Loss: 0.1292, Val Accuracy: 0.9083, Time: 6.37s\n",
      "Model improved and saved!\n",
      "Epoch [89/150] - Train Loss: 0.2736, Val Loss: 0.1267, Val Accuracy: 0.9116, Time: 6.14s\n",
      "Model improved and saved!\n",
      "Epoch [90/150] - Train Loss: 0.2599, Val Loss: 0.1282, Val Accuracy: 0.9129, Time: 5.74s\n",
      "EarlyStopping counter: 1 out of 15\n",
      "Epoch [91/150] - Train Loss: 0.3435, Val Loss: 0.1249, Val Accuracy: 0.9123, Time: 6.36s\n",
      "Model improved and saved!\n",
      "Epoch [92/150] - Train Loss: 0.3059, Val Loss: 0.1251, Val Accuracy: 0.9123, Time: 5.80s\n",
      "EarlyStopping counter: 1 out of 15\n",
      "Epoch [93/150] - Train Loss: 0.3090, Val Loss: 0.1323, Val Accuracy: 0.9096, Time: 5.56s\n",
      "EarlyStopping counter: 2 out of 15\n",
      "Epoch [94/150] - Train Loss: 0.2786, Val Loss: 0.1323, Val Accuracy: 0.9083, Time: 5.83s\n",
      "EarlyStopping counter: 3 out of 15\n",
      "Epoch [95/150] - Train Loss: 0.2772, Val Loss: 0.1309, Val Accuracy: 0.9096, Time: 5.45s\n",
      "EarlyStopping counter: 4 out of 15\n",
      "Epoch [96/150] - Train Loss: 0.2934, Val Loss: 0.1284, Val Accuracy: 0.9116, Time: 5.58s\n",
      "EarlyStopping counter: 5 out of 15\n",
      "Epoch [97/150] - Train Loss: 0.2971, Val Loss: 0.1319, Val Accuracy: 0.9109, Time: 5.88s\n",
      "EarlyStopping counter: 6 out of 15\n",
      "Epoch [98/150] - Train Loss: 0.2480, Val Loss: 0.1322, Val Accuracy: 0.9116, Time: 5.83s\n",
      "EarlyStopping counter: 7 out of 15\n",
      "Epoch [99/150] - Train Loss: 0.3109, Val Loss: 0.1317, Val Accuracy: 0.9090, Time: 6.03s\n",
      "EarlyStopping counter: 8 out of 15\n",
      "Epoch [100/150] - Train Loss: 0.3044, Val Loss: 0.1316, Val Accuracy: 0.9116, Time: 5.58s\n",
      "EarlyStopping counter: 9 out of 15\n",
      "Epoch [101/150] - Train Loss: 0.2352, Val Loss: 0.1298, Val Accuracy: 0.9129, Time: 5.67s\n",
      "EarlyStopping counter: 10 out of 15\n",
      "Epoch [102/150] - Train Loss: 0.2300, Val Loss: 0.1290, Val Accuracy: 0.9096, Time: 5.93s\n",
      "EarlyStopping counter: 11 out of 15\n",
      "Epoch [103/150] - Train Loss: 0.2689, Val Loss: 0.1276, Val Accuracy: 0.9149, Time: 5.94s\n",
      "EarlyStopping counter: 12 out of 15\n",
      "Epoch [104/150] - Train Loss: 0.2698, Val Loss: 0.1270, Val Accuracy: 0.9109, Time: 5.62s\n",
      "EarlyStopping counter: 13 out of 15\n",
      "Epoch [105/150] - Train Loss: 0.2459, Val Loss: 0.1277, Val Accuracy: 0.9129, Time: 5.59s\n",
      "EarlyStopping counter: 14 out of 15\n",
      "Epoch [106/150] - Train Loss: 0.2591, Val Loss: 0.1276, Val Accuracy: 0.9116, Time: 5.47s\n",
      "EarlyStopping counter: 15 out of 15\n",
      "Early stopping triggered after 106 epochs\n",
      "Total training time: 620.52 seconds\n"
     ]
    }
   ],
   "source": [
    "# Training loop with early stopping\n",
    "print(\"Starting training...\")\n",
    "epochs = 150\n",
    "best_val_loss = float('inf')\n",
    "patience = 15\n",
    "counter = 0\n",
    "early_stop = False\n",
    "\n",
    "# For plotting\n",
    "train_losses = []\n",
    "val_losses = []\n",
    "val_accuracies = []\n",
    "\n",
    "start_time = time.time()\n",
    "\n",
    "for epoch in range(epochs):\n",
    "    epoch_start = time.time()\n",
    "    \n",
    "    # Train\n",
    "    train_loss = train_epoch(model, train_loader, criterion, optimizer, scaler, device)\n",
    "    \n",
    "    # Validate\n",
    "    val_loss, val_accuracy, _, _ = validate(model, val_loader, criterion, device)\n",
    "    \n",
    "    # Update learning rate based on validation loss\n",
    "    scheduler.step(val_loss)\n",
    "    \n",
    "    # Save metrics for plotting\n",
    "    train_losses.append(train_loss)\n",
    "    val_losses.append(val_loss)\n",
    "    val_accuracies.append(val_accuracy)\n",
    "    \n",
    "    # Print progress\n",
    "    epoch_time = time.time() - epoch_start\n",
    "    print(f\"Epoch [{epoch+1}/{epochs}] - \"\n",
    "          f\"Train Loss: {train_loss:.4f}, \"\n",
    "          f\"Val Loss: {val_loss:.4f}, \"\n",
    "          f\"Val Accuracy: {val_accuracy:.4f}, \"\n",
    "          f\"Time: {epoch_time:.2f}s\")\n",
    "    \n",
    "    # Early stopping check\n",
    "    if val_loss < best_val_loss:\n",
    "        best_val_loss = val_loss\n",
    "        counter = 0\n",
    "        # Save the best model\n",
    "        torch.save({\n",
    "            'epoch': epoch,\n",
    "            'model_state_dict': model.state_dict(),\n",
    "            'optimizer_state_dict': optimizer.state_dict(),\n",
    "            'val_loss': val_loss,\n",
    "            'val_accuracy': val_accuracy\n",
    "        }, \"../models/best_tag_classifier.pth\")\n",
    "        print(f\"Model improved and saved!\")\n",
    "    else:\n",
    "        counter += 1\n",
    "        print(f\"EarlyStopping counter: {counter} out of {patience}\")\n",
    "        if counter >= patience:\n",
    "            print(f\"Early stopping triggered after {epoch+1} epochs\")\n",
    "            early_stop = True\n",
    "    \n",
    "    # Break if early stopping\n",
    "    if early_stop:\n",
    "        break\n",
    "\n",
    "# Total training time\n",
    "total_time = time.time() - start_time\n",
    "print(f\"Total training time: {total_time:.2f} seconds\")"
   ]
  },
  {
   "cell_type": "code",
   "execution_count": 95,
   "metadata": {},
   "outputs": [
    {
     "data": {
      "image/png": "[encoded data removed]",
      "text/plain": [
       "<Figure size 1200x500 with 2 Axes>"
      ]
     },
     "metadata": {},
     "output_type": "display_data"
    }
   ],
   "source": [
    "# Plot training history\n",
    "plt.figure(figsize=(12, 5))\n",
    "\n",
    "# Plot loss\n",
    "plt.subplot(1, 2, 1)\n",
    "plt.plot(train_losses, label='Training Loss')\n",
    "plt.plot(val_losses, label='Validation Loss')\n",
    "plt.title('Loss over epochs')\n",
    "plt.xlabel('Epoch')\n",
    "plt.ylabel('Loss')\n",
    "plt.legend()\n",
    "\n",
    "# Plot accuracy\n",
    "plt.subplot(1, 2, 2)\n",
    "plt.plot(val_accuracies, label='Validation Accuracy')\n",
    "plt.title('Accuracy over epochs')\n",
    "plt.xlabel('Epoch')\n",
    "plt.ylabel('Accuracy')\n",
    "plt.legend()\n",
    "plt.show()\n",
    "plt.tight_layout()\n",
    "plt.savefig('../models/training_history.png')\n",
    "plt.close()"
   ]
  },
  {
   "cell_type": "code",
   "execution_count": 96,
   "metadata": {},
   "outputs": [
    {
     "name": "stdout",
     "output_type": "stream",
     "text": [
      "Loading best model for evaluation...\n",
      "Loaded model from epoch 91 with validation loss: 0.1249\n"
     ]
    },
    {
     "name": "stderr",
     "output_type": "stream",
     "text": [
      "C:\\Users\\AOZ\\AppData\\Local\\Temp\\ipykernel_32436\\2536954669.py:3: FutureWarning: You are using `torch.load` with `weights_only=False` (the current default value), which uses the default pickle module implicitly. It is possible to construct malicious pickle data which will execute arbitrary code during unpickling (See https://github.com/pytorch/pytorch/blob/main/SECURITY.md#untrusted-models for more details). In a future release, the default value for `weights_only` will be flipped to `True`. This limits the functions that could be executed during unpickling. Arbitrary objects will no longer be allowed to be loaded via this mode unless they are explicitly allowlisted by the user via `torch.serialization.add_safe_globals`. We recommend you start setting `weights_only=True` for any use case where you don't have full control of the loaded file. Please open an issue on GitHub for any issues related to this experimental feature.\n",
      "  checkpoint = torch.load(\"../models/best_tag_classifier.pth\")\n"
     ]
    }
   ],
   "source": [
    "# Load the best model for evaluation\n",
    "print(\"Loading best model for evaluation...\")\n",
    "checkpoint = torch.load(\"../models/best_tag_classifier.pth\")\n",
    "model.load_state_dict(checkpoint['model_state_dict'])\n",
    "print(f\"Loaded model from epoch {checkpoint['epoch']+1} with validation loss: {checkpoint['val_loss']:.4f}\")"
   ]
  },
  {
   "cell_type": "code",
   "execution_count": 97,
   "metadata": {},
   "outputs": [
    {
     "name": "stdout",
     "output_type": "stream",
     "text": [
      "\n",
      "Evaluating on test set...\n",
      "\n",
      "Evaluation Results:\n",
      "Loss: 0.3670, Accuracy: 0.9176\n",
      "\n",
      "Classification Report:\n",
      "              precision    recall  f1-score   support\n",
      "\n",
      "      BUTTON       0.58      0.91      0.71        87\n",
      "         DIV       1.00      0.92      0.96      1656\n",
      "       INPUT       0.30      0.90      0.45        41\n",
      "\n",
      "    accuracy                           0.92      1784\n",
      "   macro avg       0.63      0.91      0.71      1784\n",
      "weighted avg       0.96      0.92      0.93      1784\n",
      "\n",
      "\n",
      "Test Loss: 0.3670\n",
      "Test Accuracy: 0.9176\n"
     ]
    },
    {
     "data": {
      "image/png": "[encoded data removed]",
      "text/plain": [
       "<Figure size 1000x800 with 2 Axes>"
      ]
     },
     "metadata": {},
     "output_type": "display_data"
    }
   ],
   "source": [
    "# 23. Evaluate on test set\n",
    "print(\"\\nEvaluating on test set...\")\n",
    "test_loss, test_accuracy = evaluate(model, test_loader, criterion, device, label_encoder)\n",
    "print(f\"\\nTest Loss: {test_loss:.4f}\")\n",
    "print(f\"Test Accuracy: {test_accuracy:.4f}\")"
   ]
  },
  {
   "cell_type": "code",
   "execution_count": 98,
   "metadata": {},
   "outputs": [
    {
     "name": "stdout",
     "output_type": "stream",
     "text": [
      "\n",
      "Analyzing feature importance...\n",
      "\n",
      "Top 20 most important features:\n",
      "1. nearest_text_node_dist: 0.0589\n",
      "2. child_1_html_tag_LI: 0.0548\n",
      "3. width: 0.0547\n",
      "4. prev_sibling_html_tag_BUTTON: 0.0537\n",
      "5. type_LINE: 0.0533\n",
      "6. type_ELLIPSE: 0.0530\n",
      "7. child_2_html_tag_LI: 0.0528\n",
      "8. prev_sibling_html_tag_nan: 0.0525\n",
      "9. aspect_ratio: 0.0523\n",
      "10. child_1_html_tag_SVG: 0.0520\n",
      "11. sibling_count: 0.0517\n",
      "12. type_REGULAR_POLYGON: 0.0512\n",
      "13. type_RECTANGLE: 0.0512\n",
      "14. child_2_html_tag_BUTTON: 0.0511\n",
      "15. center_of_weight_diff: 0.0511\n",
      "16. child_1_html_tag_ICON: 0.0511\n",
      "17. child_2_html_tag_CHECKBOX: 0.0510\n",
      "18. child_2_html_tag_DIV: 0.0510\n",
      "19. type_INSTANCE: 0.0507\n",
      "20. child_2_html_tag_nan: 0.0506\n"
     ]
    }
   ],
   "source": [
    "# Feature importance analysis\n",
    "print(\"\\nAnalyzing feature importance...\")\n",
    "with torch.no_grad():\n",
    "    # We'll use gradient based feature importance\n",
    "    # First collect the weights from the first layer\n",
    "    weights = model.fc1.weight.cpu().numpy()\n",
    "    importance = np.abs(weights).mean(axis=0)\n",
    "    \n",
    "    # Get feature names\n",
    "    cat_feature_names = ohe.get_feature_names_out(categorical_cols)\n",
    "    all_feature_names = np.concatenate([cat_feature_names, np.array(continuous_cols)])\n",
    "    \n",
    "    # Sort and display\n",
    "    feature_importance = list(zip(all_feature_names, importance))\n",
    "    feature_importance.sort(key=lambda x: x[1], reverse=True)\n",
    "    \n",
    "    print(\"\\nTop 20 most important features:\")\n",
    "    for i, (feature, imp) in enumerate(feature_importance[:20]):\n",
    "        print(f\"{i+1}. {feature}: {imp:.4f}\")\n",
    "    \n",
    "    # Visualize top features\n",
    "    plt.figure(figsize=(12, 6))\n",
    "    top_features = feature_importance[:15]\n",
    "    features, importances = zip(*top_features)\n",
    "    plt.barh(range(len(features)), importances, align='center')\n",
    "    plt.yticks(range(len(features)), features)\n",
    "    plt.xlabel('Importance')\n",
    "    plt.ylabel('Feature')\n",
    "    plt.title('Top 15 Feature Importances')\n",
    "    plt.tight_layout()\n",
    "    plt.savefig('../models/feature_importance.png')\n",
    "    plt.close()"
   ]
  },
  {
   "cell_type": "code",
   "execution_count": 99,
   "metadata": {},
   "outputs": [
    {
     "name": "stdout",
     "output_type": "stream",
     "text": [
      "\n",
      "Saving final model with all preprocessing components...\n",
      "\n",
      "Training and evaluation complete!\n"
     ]
    }
   ],
   "source": [
    "# Final model saving\n",
    "print(\"\\nSaving final model with all preprocessing components...\")\n",
    "torch.save({\n",
    "    'model_state_dict': model.state_dict(),\n",
    "    'input_size': input_size,\n",
    "    'output_size': output_size,\n",
    "    'scaler': scaler,\n",
    "    'imputer': imputer,\n",
    "    'ohe_encoder': ohe,\n",
    "    'label_encoder': label_encoder\n",
    "}, \"../models/tag_classifier_complete.pth\")\n",
    "\n",
    "print(\"\\nTraining and evaluation complete!\")"
   ]
  }
 ],
 "metadata": {
  "kernelspec": {
   "display_name": "Python 3",
   "language": "python",
   "name": "python3"
  },
  "language_info": {
   "codemirror_mode": {
    "name": "ipython",
    "version": 3
   },
   "file_extension": ".py",
   "mimetype": "text/x-python",
   "name": "python",
   "nbconvert_exporter": "python",
   "pygments_lexer": "ipython3",
   "version": "3.12.6"
  }
 },
 "nbformat": 4,
 "nbformat_minor": 2
}
