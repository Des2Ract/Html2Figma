{
 "cells": [
  {
   "cell_type": "code",
   "execution_count": null,
   "metadata": {},
   "outputs": [],
   "source": [
    "import pandas as pd\n",
    "import numpy as np\n",
    "import torch\n",
    "import torch.nn as nn\n",
    "import torch.optim as optim\n",
    "from sklearn.compose import ColumnTransformer\n",
    "from sklearn.pipeline import Pipeline\n",
    "from sklearn.preprocessing import OneHotEncoder, StandardScaler, LabelEncoder, OrdinalEncoder\n",
    "from sklearn.model_selection import train_test_split\n",
    "from sklearn.metrics import accuracy_score, classification_report\n",
    "import joblib"
   ]
  },
  {
   "cell_type": "code",
   "execution_count": 2,
   "metadata": {},
   "outputs": [],
   "source": [
    "# Load dataset with appropriate encoding to avoid decoding errors\n",
    "df_all = pd.read_csv('figma_dataset.csv')\n",
    "\n",
    "df = df_all[~df_all['tag'].str.contains('-', na=False)]\n",
    "\n"
   ]
  },
  {
   "cell_type": "code",
   "execution_count": null,
   "metadata": {},
   "outputs": [],
   "source": [
    "# Assume 'tag' is the target variable\n",
    "y = df[\"tag\"]\n",
    "X = df.drop(columns=[\"tag\"])\n"
   ]
  },
  {
   "cell_type": "code",
   "execution_count": 4,
   "metadata": {},
   "outputs": [],
   "source": [
    "# Identify categorical and numerical columns\n",
    "categorical_cols = []  # adjust as needed\n",
    "numerical_cols = [col for col in X.columns if col not in categorical_cols]"
   ]
  },
  {
   "cell_type": "code",
   "execution_count": 5,
   "metadata": {},
   "outputs": [],
   "source": [
    "# Create a preprocessor:\n",
    "preprocessor = ColumnTransformer(\n",
    "    transformers=[\n",
    "        (\"num\", StandardScaler(), numerical_cols),\n",
    "        (\n",
    "            \"cat\",\n",
    "            Pipeline(steps=[\n",
    "                (\"ord\", OrdinalEncoder()),\n",
    "                (\"scaler\", StandardScaler())\n",
    "            ]),\n",
    "            categorical_cols\n",
    "        )\n",
    "    ]\n",
    ")"
   ]
  },
  {
   "cell_type": "code",
   "execution_count": 6,
   "metadata": {},
   "outputs": [],
   "source": [
    "# Apply the preprocessor to our features\n",
    "X_processed = preprocessor.fit_transform(X)"
   ]
  },
  {
   "cell_type": "code",
   "execution_count": 7,
   "metadata": {},
   "outputs": [],
   "source": [
    "# Encode target labels\n",
    "target_encoder = LabelEncoder()\n",
    "y_encoded = target_encoder.fit_transform(y)"
   ]
  },
  {
   "cell_type": "code",
   "execution_count": 8,
   "metadata": {},
   "outputs": [
    {
     "data": {
      "text/plain": [
       "['target_encoder.pkl']"
      ]
     },
     "execution_count": 8,
     "metadata": {},
     "output_type": "execute_result"
    }
   ],
   "source": [
    "# Save the preprocessor and target encoder for reuse later\n",
    "joblib.dump(preprocessor, \"preprocessor.pkl\")\n",
    "joblib.dump(target_encoder, \"target_encoder.pkl\")"
   ]
  },
  {
   "cell_type": "code",
   "execution_count": 9,
   "metadata": {},
   "outputs": [],
   "source": [
    "# Train/test split\n",
    "# Train/test split\n",
    "X_train, X_test, y_train, y_test = train_test_split(X_processed, y_encoded, test_size=0.2, random_state=42)"
   ]
  },
  {
   "cell_type": "code",
   "execution_count": 10,
   "metadata": {},
   "outputs": [],
   "source": [
    "# Convert to PyTorch tensors.\n",
    "# Note: OneHotEncoder returns a sparse matrix by default, so we convert to dense.\n",
    "if hasattr(X_train, \"toarray\"):\n",
    "    X_train = X_train.toarray()\n",
    "    X_test = X_test.toarray()"
   ]
  },
  {
   "cell_type": "code",
   "execution_count": 11,
   "metadata": {},
   "outputs": [],
   "source": [
    "X_train_tensor = torch.tensor(X_train, dtype=torch.float32)\n",
    "y_train_tensor = torch.tensor(y_train, dtype=torch.long)\n",
    "X_test_tensor = torch.tensor(X_test, dtype=torch.float32)\n",
    "y_test_tensor = torch.tensor(y_test, dtype=torch.long)"
   ]
  },
  {
   "cell_type": "code",
   "execution_count": 12,
   "metadata": {},
   "outputs": [],
   "source": [
    "# Define Neural Network Model with dropout for improved regularization\n",
    "class TagClassifier(nn.Module):\n",
    "    def __init__(self, input_size, output_size):\n",
    "        super(TagClassifier, self).__init__()\n",
    "        self.fc1 = nn.Linear(input_size, 64)\n",
    "        self.relu1 = nn.ReLU()\n",
    "        self.dropout1 = nn.Dropout(0.3)\n",
    "        self.fc2 = nn.Linear(64, 32)\n",
    "        self.relu2 = nn.ReLU()\n",
    "        self.dropout2 = nn.Dropout(0.3)\n",
    "        self.fc3 = nn.Linear(32, output_size)\n",
    "    \n",
    "    def forward(self, x):\n",
    "        x = self.fc1(x)\n",
    "        x = self.relu1(x)\n",
    "        x = self.dropout1(x)\n",
    "        x = self.fc2(x)\n",
    "        x = self.relu2(x)\n",
    "        x = self.dropout2(x)\n",
    "        x = self.fc3(x)\n",
    "        return x"
   ]
  },
  {
   "cell_type": "code",
   "execution_count": 13,
   "metadata": {},
   "outputs": [],
   "source": [
    "input_size = X_train_tensor.shape[1]\n",
    "output_size = len(target_encoder.classes_)\n",
    "model = TagClassifier(input_size, output_size)"
   ]
  },
  {
   "cell_type": "code",
   "execution_count": 14,
   "metadata": {},
   "outputs": [],
   "source": [
    "# Loss and optimizer\n",
    "criterion = nn.CrossEntropyLoss()\n",
    "optimizer = optim.Adam(model.parameters(), lr=0.001)\n"
   ]
  },
  {
   "cell_type": "code",
   "execution_count": 15,
   "metadata": {},
   "outputs": [
    {
     "name": "stdout",
     "output_type": "stream",
     "text": [
      "Epoch [10/200], Loss: 4.1646\n",
      "Epoch [20/200], Loss: 3.8527\n",
      "Epoch [30/200], Loss: 3.3253\n",
      "Epoch [40/200], Loss: 2.5774\n",
      "Epoch [50/200], Loss: 2.0029\n",
      "Epoch [60/200], Loss: 1.8045\n",
      "Epoch [70/200], Loss: 1.6527\n",
      "Epoch [80/200], Loss: 1.5380\n",
      "Epoch [90/200], Loss: 1.4441\n",
      "Epoch [100/200], Loss: 1.3683\n",
      "Epoch [110/200], Loss: 1.3044\n",
      "Epoch [120/200], Loss: 1.2516\n",
      "Epoch [130/200], Loss: 1.2105\n",
      "Epoch [140/200], Loss: 1.1735\n",
      "Epoch [150/200], Loss: 1.1406\n",
      "Epoch [160/200], Loss: 1.1158\n",
      "Epoch [170/200], Loss: 1.0974\n",
      "Epoch [180/200], Loss: 1.0758\n",
      "Epoch [190/200], Loss: 1.0624\n",
      "Epoch [200/200], Loss: 1.0467\n"
     ]
    }
   ],
   "source": [
    "# Training loop\n",
    "num_epochs = 200\n",
    "for epoch in range(num_epochs):\n",
    "    model.train()\n",
    "    optimizer.zero_grad()\n",
    "    outputs = model(X_train_tensor)\n",
    "    loss = criterion(outputs, y_train_tensor)\n",
    "    loss.backward()\n",
    "    optimizer.step()\n",
    "    \n",
    "    if (epoch + 1) % 10 == 0:\n",
    "        print(f\"Epoch [{epoch + 1}/{num_epochs}], Loss: {loss.item():.4f}\")\n",
    "\n",
    "# Save the model state_dict\n",
    "torch.save(model.state_dict(), \"tag_classifier.pth\")"
   ]
  },
  {
   "cell_type": "code",
   "execution_count": 16,
   "metadata": {},
   "outputs": [
    {
     "name": "stdout",
     "output_type": "stream",
     "text": [
      "Accuracy: 0.7520\n",
      "\n",
      "Classification Report:\n",
      "              precision    recall  f1-score   support\n",
      "\n",
      "           A       1.00      1.00      1.00      3118\n",
      "     ADDRESS       0.00      0.00      0.00        16\n",
      "     ARTICLE       0.00      0.00      0.00       178\n",
      "       ASIDE       0.00      0.00      0.00        12\n",
      "           B       0.00      0.00      0.00         6\n",
      "        BODY       0.00      0.00      0.00        22\n",
      "      BUTTON       1.00      0.07      0.14       357\n",
      "      CANVAS       0.00      0.00      0.00         2\n",
      "        DATA       0.00      0.00      0.00         1\n",
      "          DD       0.00      0.00      0.00         1\n",
      "         DEL       0.00      0.00      0.00         7\n",
      "     DETAILS       0.00      0.00      0.00         1\n",
      "         DIV       0.75      0.99      0.85     10568\n",
      "          DL       0.00      0.00      0.00         2\n",
      "          DT       0.00      0.00      0.00         2\n",
      "          EM       0.00      0.00      0.00        12\n",
      "  FIGCAPTION       0.00      0.00      0.00        22\n",
      "      FIGURE       0.00      0.00      0.00       158\n",
      "      FOOTER       0.00      0.00      0.00        71\n",
      "        FORM       0.00      0.00      0.00        24\n",
      "          H1       0.00      0.00      0.00        12\n",
      "          H2       0.00      0.00      0.00       324\n",
      "          H3       1.00      0.00      0.01       526\n",
      "          H4       0.00      0.00      0.00        67\n",
      "          H5       0.00      0.00      0.00        10\n",
      "          H6       0.00      0.00      0.00         9\n",
      "      HEADER       0.00      0.00      0.00       127\n",
      "      HGROUP       0.00      0.00      0.00         2\n",
      "          HR       0.00      0.00      0.00        47\n",
      "           I       0.00      0.00      0.00       115\n",
      "      IFRAME       0.00      0.00      0.00        37\n",
      "         IMG       0.60      0.97      0.74       699\n",
      "       INPUT       1.00      0.78      0.88       119\n",
      "       LABEL       0.00      0.00      0.00       114\n",
      "      LEGEND       0.00      0.00      0.00         1\n",
      "          LI       0.98      0.99      0.99      1052\n",
      "        MAIN       0.00      0.00      0.00        11\n",
      "         NAV       0.00      0.00      0.00        31\n",
      "      OBJECT       0.00      0.00      0.00         2\n",
      "          OL       0.00      0.00      0.00         6\n",
      "           P       0.00      0.00      0.00       455\n",
      "     PICTURE       0.00      0.00      0.00       313\n",
      "           S       0.00      0.00      0.00         3\n",
      "     SECTION       0.00      0.00      0.00       244\n",
      "      SELECT       0.00      0.00      0.00         1\n",
      "       SMALL       0.00      0.00      0.00         3\n",
      "      SOURCE       0.00      0.00      0.00         1\n",
      "        SPAN       0.62      0.25      0.35      3157\n",
      "      STRONG       0.00      0.00      0.00        35\n",
      "     SUMMARY       0.00      0.00      0.00         7\n",
      "         SUP       0.00      0.00      0.00         1\n",
      "         SVG       1.00      0.99      1.00       909\n",
      "       TABLE       0.00      0.00      0.00         4\n",
      "       TBODY       0.00      0.00      0.00         7\n",
      "          TD       0.86      1.00      0.92       167\n",
      "          TH       0.00      0.00      0.00        27\n",
      "       THEAD       0.00      0.00      0.00         5\n",
      "        TIME       0.88      0.16      0.28       128\n",
      "          TR       0.70      1.00      0.82        32\n",
      "         TXT       0.57      0.93      0.71      2882\n",
      "          UL       0.00      0.00      0.00       268\n",
      "      VECTOR       0.00      0.00      0.00         2\n",
      "       VIDEO       0.00      0.00      0.00         6\n",
      "\n",
      "    accuracy                           0.75     26548\n",
      "   macro avg       0.17      0.14      0.14     26548\n",
      "weighted avg       0.69      0.75      0.68     26548\n",
      "\n"
     ]
    },
    {
     "name": "stderr",
     "output_type": "stream",
     "text": [
      "C:\\Users\\kareem alaa\\AppData\\Local\\Packages\\PythonSoftwareFoundation.Python.3.10_qbz5n2kfra8p0\\LocalCache\\local-packages\\Python310\\site-packages\\sklearn\\metrics\\_classification.py:1471: UndefinedMetricWarning: Precision and F-score are ill-defined and being set to 0.0 in labels with no predicted samples. Use `zero_division` parameter to control this behavior.\n",
      "  _warn_prf(average, modifier, msg_start, len(result))\n",
      "C:\\Users\\kareem alaa\\AppData\\Local\\Packages\\PythonSoftwareFoundation.Python.3.10_qbz5n2kfra8p0\\LocalCache\\local-packages\\Python310\\site-packages\\sklearn\\metrics\\_classification.py:1471: UndefinedMetricWarning: Precision and F-score are ill-defined and being set to 0.0 in labels with no predicted samples. Use `zero_division` parameter to control this behavior.\n",
      "  _warn_prf(average, modifier, msg_start, len(result))\n",
      "C:\\Users\\kareem alaa\\AppData\\Local\\Packages\\PythonSoftwareFoundation.Python.3.10_qbz5n2kfra8p0\\LocalCache\\local-packages\\Python310\\site-packages\\sklearn\\metrics\\_classification.py:1471: UndefinedMetricWarning: Precision and F-score are ill-defined and being set to 0.0 in labels with no predicted samples. Use `zero_division` parameter to control this behavior.\n",
      "  _warn_prf(average, modifier, msg_start, len(result))\n"
     ]
    }
   ],
   "source": [
    "\n",
    "# Evaluation\n",
    "model.eval()\n",
    "with torch.no_grad():\n",
    "    y_pred = model(X_test_tensor)\n",
    "    y_pred_classes = torch.argmax(y_pred, dim=1).numpy()\n",
    "\n",
    "accuracy = accuracy_score(y_test, y_pred_classes)\n",
    "print(f'Accuracy: {accuracy:.4f}')\n",
    "\n",
    "print(\"\\nClassification Report:\")\n",
    "print(classification_report(y_test, y_pred_classes, target_names=target_encoder.inverse_transform(np.unique(y_test))))"
   ]
  }
 ],
 "metadata": {
  "kernelspec": {
   "display_name": "Python 3",
   "language": "python",
   "name": "python3"
  },
  "language_info": {
   "codemirror_mode": {
    "name": "ipython",
    "version": 3
   },
   "file_extension": ".py",
   "mimetype": "text/x-python",
   "name": "python",
   "nbconvert_exporter": "python",
   "pygments_lexer": "ipython3",
   "version": "3.10.11"
  }
 },
 "nbformat": 4,
 "nbformat_minor": 2
}
