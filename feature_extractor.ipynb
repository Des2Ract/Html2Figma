{
 "cells": [
  {
   "cell_type": "code",
   "execution_count": 1,
   "metadata": {},
   "outputs": [],
   "source": [
    "import os\n",
    "import json\n",
    "import pandas as pd"
   ]
  },
  {
   "cell_type": "code",
   "execution_count": 2,
   "metadata": {},
   "outputs": [],
   "source": [
    "def extract_features(node, depth=0, parent_tag=None, sibling_count=0):\n",
    "    \"\"\"\n",
    "    Recursively extracts features from a Figma node, including hierarchy, \n",
    "    layout, size, style, and text features.\n",
    "\n",
    "    Hierarchy Features:\n",
    "      - depth: How deep the node is in the hierarchy.\n",
    "      - num_children: Number of direct child nodes.\n",
    "      - parent_tag: The tag of the parent node.\n",
    "      - sibling_count: Number of siblings.\n",
    "      - is_leaf: Whether this node is a leaf (has no children).\n",
    "\n",
    "    Style Features:\n",
    "      - font_size: Text font size (if available).\n",
    "      - font_weight: Derived from fontName.style (if available).\n",
    "      - color: Extracted from the first SOLID fill (as an RGB string).\n",
    "      - background_color: Same as color if applicable.\n",
    "      - border_radius: Average of the four corner radii (if available).\n",
    "      - visibility: Defaults to \"visible\".\n",
    "      - border_type: Extracted from strokes.type.\n",
    "      - border_color: Extracted from strokes.color.\n",
    "      - border_opacity: Extracted from strokes.opacity.\n",
    "      - border_weight: Extracted from strokeWeight.\n",
    "      - border_pattern: Extracted from dashPattern.\n",
    "      - shadow_type: Extracts the type of shadow effect.\n",
    "      - shadow_color: Retrieves the color of the shadow.\n",
    "      - shadow_offset: Captures the shadow’s x and y offset.\n",
    "      - shadow_radius: Represents the blur radius of the shadow.\n",
    "\n",
    "    Text Features:\n",
    "      - text_length: Length of inner text (0 if no text).\n",
    "      - word_count: Number of words in the text.\n",
    "      - contains_number: Whether the text contains any digits.\n",
    "      - contains_special_chars: Whether the text contains special symbols.\n",
    "      - text_type: \"short\" for brief texts (e.g., labels, buttons) and \"long\" for extended texts (e.g., paragraphs).\n",
    "    \"\"\"\n",
    "    features = []\n",
    "    \n",
    "    # Basic node properties from the \"node\" object.\n",
    "    tag = node.get(\"tag\", \"\")\n",
    "    node_data = node.get(\"node\", {})\n",
    "    \n",
    "    # Extract basic text information\n",
    "    text = node_data.get(\"characters\", \"\") or \"\"\n",
    "    text_length = len(text)\n",
    "    word_count = len(text.split())\n",
    "    contains_number = any(ch.isdigit() for ch in text)\n",
    "    contains_special_chars = any(not ch.isalnum() and not ch.isspace() for ch in text)\n",
    "    # Categorize text as \"long\" if word_count is greater than 10, otherwise \"short\".\n",
    "    text_type = \"long\" if word_count > 10 else \"short\"\n",
    "    \n",
    "    # Compute hierarchy features\n",
    "    children = node.get(\"children\", [])\n",
    "    num_children = len(children)\n",
    "    is_leaf = (num_children == 0)\n",
    "    \n",
    "    # Create the feature dictionary\n",
    "    feature = {\n",
    "        \"tag\": tag,\n",
    "        \"type\": node_data.get(\"type\", \"\"),\n",
    "        \"x\": node_data.get(\"x\", None),\n",
    "        \"y\": node_data.get(\"y\", None),\n",
    "        \"width\": node_data.get(\"width\", None),\n",
    "        \"height\": node_data.get(\"height\", None),\n",
    "        \"characters\": text,\n",
    "        # Hierarchy features\n",
    "        \"depth\": depth,\n",
    "        \"num_children\": num_children,\n",
    "        \"parent_tag\": parent_tag,\n",
    "        \"sibling_count\": sibling_count,\n",
    "        \"is_leaf\": is_leaf,\n",
    "        # Style features\n",
    "        \"font_size\": node_data.get(\"fontSize\", None),\n",
    "        \"font_weight\": node_data.get(\"fontName\", {}).get(\"style\", None) if node_data.get(\"fontName\") else None,\n",
    "        \"color\": None,\n",
    "        \"background_color\": None,\n",
    "        \"border_radius\": None,\n",
    "        \"visibility\": \"visible\",  # Default to visible\n",
    "        \"border_type\": None,\n",
    "        \"border_color\": None,\n",
    "        \"border_opacity\": None,\n",
    "        \"border_weight\": node_data.get(\"strokeWeight\", None),\n",
    "        \"border_pattern\": node_data.get(\"dashPattern\", []),\n",
    "        \"shadow_type\": None,\n",
    "        \"shadow_color\": None,\n",
    "        \"shadow_offset\": None,\n",
    "        \"shadow_radius\": None,\n",
    "        # Text features\n",
    "        \"text_length\": text_length,\n",
    "        \"word_count\": word_count,\n",
    "        \"contains_number\": contains_number,\n",
    "        \"contains_special_chars\": contains_special_chars,\n",
    "        \"text_type\": text_type\n",
    "    }\n",
    "    \n",
    "    # Extract color information from fills (if available)\n",
    "    fills = node_data.get(\"fills\", [])\n",
    "    for fill in fills:\n",
    "        if fill.get(\"type\") == \"SOLID\" and \"color\" in fill:\n",
    "            r = int(fill[\"color\"].get(\"r\", 0) * 255)\n",
    "            g = int(fill[\"color\"].get(\"g\", 0) * 255)\n",
    "            b = int(fill[\"color\"].get(\"b\", 0) * 255)\n",
    "            rgb_str = f\"rgb({r}, {g}, {b})\"\n",
    "            feature[\"color\"] = rgb_str\n",
    "            feature[\"background_color\"] = rgb_str\n",
    "            break  # Use the first SOLID fill found\n",
    "    \n",
    "    # Compute border information\n",
    "    strokes = node_data.get(\"strokes\", [])\n",
    "    if strokes:\n",
    "        stroke = strokes[0]\n",
    "        feature[\"border_type\"] = stroke.get(\"type\", None)\n",
    "        if \"color\" in stroke:\n",
    "            r = int(stroke[\"color\"].get(\"r\", 0) * 255)\n",
    "            g = int(stroke[\"color\"].get(\"g\", 0) * 255)\n",
    "            b = int(stroke[\"color\"].get(\"b\", 0) * 255)\n",
    "            feature[\"border_color\"] = f\"rgb({r}, {g}, {b})\"\n",
    "        feature[\"border_opacity\"] = stroke.get(\"opacity\", None)\n",
    "    \n",
    "    # Compute border_radius as the average of the four corner radii if available\n",
    "    br_top_left = node_data.get(\"topLeftRadius\", None)\n",
    "    br_top_right = node_data.get(\"topRightRadius\", None)\n",
    "    br_bottom_left = node_data.get(\"bottomLeftRadius\", None)\n",
    "    br_bottom_right = node_data.get(\"bottomRightRadius\", None)\n",
    "    if all(v is not None for v in [br_top_left, br_top_right, br_bottom_left, br_bottom_right]):\n",
    "        feature[\"border_radius\"] = (br_top_left + br_top_right + br_bottom_left + br_bottom_right) / 4\n",
    "    \n",
    "    # Extract shadow properties\n",
    "    effects = node_data.get(\"effects\", [])\n",
    "    for effect in effects:\n",
    "        if effect.get(\"type\") == \"DROP_SHADOW\":\n",
    "            feature[\"shadow_type\"] = \"DROP_SHADOW\"\n",
    "            if \"color\" in effect:\n",
    "                r = int(effect[\"color\"].get(\"r\", 0) * 255)\n",
    "                g = int(effect[\"color\"].get(\"g\", 0) * 255)\n",
    "                b = int(effect[\"color\"].get(\"b\", 0) * 255)\n",
    "                feature[\"shadow_color\"] = f\"rgb({r}, {g}, {b})\"\n",
    "            feature[\"shadow_offset\"] = effect.get(\"offset\", None)\n",
    "            feature[\"shadow_radius\"] = effect.get(\"radius\", None)\n",
    "            break  # Only consider the first drop shadow\n",
    "    \n",
    "    features.append(feature)\n",
    "    \n",
    "    # Recursively process children, updating hierarchy features.\n",
    "    for child in children:\n",
    "        features.extend(extract_features(child, depth=depth+1, parent_tag=tag, sibling_count=len(children)-1))\n",
    "    \n",
    "    return features"
   ]
  },
  {
   "cell_type": "code",
   "execution_count": 3,
   "metadata": {},
   "outputs": [
    {
     "name": "stdout",
     "output_type": "stream",
     "text": [
      "Processing data\\figmaTree_1.json...\n",
      "Processing data\\figmaTree_10.json...\n",
      "Processing data\\figmaTree_100.json...\n",
      "Processing data\\figmaTree_11.json...\n",
      "Processing data\\figmaTree_12.json...\n"
     ]
    },
    {
     "name": "stderr",
     "output_type": "stream",
     "text": [
      "C:\\Users\\AOZ\\AppData\\Local\\Temp\\ipykernel_31540\\2173520818.py:54: FutureWarning: The behavior of DataFrame concatenation with empty or all-NA entries is deprecated. In a future version, this will no longer exclude empty or all-NA columns when determining the result dtypes. To retain the old behavior, exclude the relevant entries before the concat operation.\n",
      "  df_all = pd.concat([df_all, df], ignore_index=True)\n"
     ]
    },
    {
     "name": "stdout",
     "output_type": "stream",
     "text": [
      "Processing data\\figmaTree_13.json...\n",
      "Processing data\\figmaTree_14.json...\n",
      "Processing data\\figmaTree_15.json...\n"
     ]
    },
    {
     "name": "stderr",
     "output_type": "stream",
     "text": [
      "C:\\Users\\AOZ\\AppData\\Local\\Temp\\ipykernel_31540\\2173520818.py:54: FutureWarning: The behavior of DataFrame concatenation with empty or all-NA entries is deprecated. In a future version, this will no longer exclude empty or all-NA columns when determining the result dtypes. To retain the old behavior, exclude the relevant entries before the concat operation.\n",
      "  df_all = pd.concat([df_all, df], ignore_index=True)\n",
      "C:\\Users\\AOZ\\AppData\\Local\\Temp\\ipykernel_31540\\2173520818.py:54: FutureWarning: The behavior of DataFrame concatenation with empty or all-NA entries is deprecated. In a future version, this will no longer exclude empty or all-NA columns when determining the result dtypes. To retain the old behavior, exclude the relevant entries before the concat operation.\n",
      "  df_all = pd.concat([df_all, df], ignore_index=True)\n",
      "C:\\Users\\AOZ\\AppData\\Local\\Temp\\ipykernel_31540\\2173520818.py:54: FutureWarning: The behavior of DataFrame concatenation with empty or all-NA entries is deprecated. In a future version, this will no longer exclude empty or all-NA columns when determining the result dtypes. To retain the old behavior, exclude the relevant entries before the concat operation.\n",
      "  df_all = pd.concat([df_all, df], ignore_index=True)\n",
      "C:\\Users\\AOZ\\AppData\\Local\\Temp\\ipykernel_31540\\2173520818.py:54: FutureWarning: The behavior of DataFrame concatenation with empty or all-NA entries is deprecated. In a future version, this will no longer exclude empty or all-NA columns when determining the result dtypes. To retain the old behavior, exclude the relevant entries before the concat operation.\n",
      "  df_all = pd.concat([df_all, df], ignore_index=True)\n",
      "C:\\Users\\AOZ\\AppData\\Local\\Temp\\ipykernel_31540\\2173520818.py:54: FutureWarning: The behavior of DataFrame concatenation with empty or all-NA entries is deprecated. In a future version, this will no longer exclude empty or all-NA columns when determining the result dtypes. To retain the old behavior, exclude the relevant entries before the concat operation.\n",
      "  df_all = pd.concat([df_all, df], ignore_index=True)\n"
     ]
    },
    {
     "name": "stdout",
     "output_type": "stream",
     "text": [
      "Processing data\\figmaTree_16.json...\n",
      "Processing data\\figmaTree_17.json...\n",
      "Processing data\\figmaTree_18.json...\n",
      "Processing data\\figmaTree_19.json...\n",
      "Processing data\\figmaTree_2.json...\n"
     ]
    },
    {
     "name": "stderr",
     "output_type": "stream",
     "text": [
      "C:\\Users\\AOZ\\AppData\\Local\\Temp\\ipykernel_31540\\2173520818.py:54: FutureWarning: The behavior of DataFrame concatenation with empty or all-NA entries is deprecated. In a future version, this will no longer exclude empty or all-NA columns when determining the result dtypes. To retain the old behavior, exclude the relevant entries before the concat operation.\n",
      "  df_all = pd.concat([df_all, df], ignore_index=True)\n",
      "C:\\Users\\AOZ\\AppData\\Local\\Temp\\ipykernel_31540\\2173520818.py:54: FutureWarning: The behavior of DataFrame concatenation with empty or all-NA entries is deprecated. In a future version, this will no longer exclude empty or all-NA columns when determining the result dtypes. To retain the old behavior, exclude the relevant entries before the concat operation.\n",
      "  df_all = pd.concat([df_all, df], ignore_index=True)\n",
      "C:\\Users\\AOZ\\AppData\\Local\\Temp\\ipykernel_31540\\2173520818.py:54: FutureWarning: The behavior of DataFrame concatenation with empty or all-NA entries is deprecated. In a future version, this will no longer exclude empty or all-NA columns when determining the result dtypes. To retain the old behavior, exclude the relevant entries before the concat operation.\n",
      "  df_all = pd.concat([df_all, df], ignore_index=True)\n",
      "C:\\Users\\AOZ\\AppData\\Local\\Temp\\ipykernel_31540\\2173520818.py:54: FutureWarning: The behavior of DataFrame concatenation with empty or all-NA entries is deprecated. In a future version, this will no longer exclude empty or all-NA columns when determining the result dtypes. To retain the old behavior, exclude the relevant entries before the concat operation.\n",
      "  df_all = pd.concat([df_all, df], ignore_index=True)\n",
      "C:\\Users\\AOZ\\AppData\\Local\\Temp\\ipykernel_31540\\2173520818.py:54: FutureWarning: The behavior of DataFrame concatenation with empty or all-NA entries is deprecated. In a future version, this will no longer exclude empty or all-NA columns when determining the result dtypes. To retain the old behavior, exclude the relevant entries before the concat operation.\n",
      "  df_all = pd.concat([df_all, df], ignore_index=True)\n"
     ]
    },
    {
     "name": "stdout",
     "output_type": "stream",
     "text": [
      "Processing data\\figmaTree_20.json...\n",
      "Processing data\\figmaTree_21.json...\n",
      "Processing data\\figmaTree_22.json...\n",
      "Processing data\\figmaTree_23.json...\n",
      "Processing data\\figmaTree_24.json...\n",
      "Processing data\\figmaTree_25.json...\n",
      "Processing data\\figmaTree_27.json...\n",
      "Processing data\\figmaTree_28.json...\n",
      "Processing data\\figmaTree_29.json...\n",
      "Processing data\\figmaTree_3.json...\n",
      "Processing data\\figmaTree_30.json...\n"
     ]
    },
    {
     "name": "stderr",
     "output_type": "stream",
     "text": [
      "C:\\Users\\AOZ\\AppData\\Local\\Temp\\ipykernel_31540\\2173520818.py:54: FutureWarning: The behavior of DataFrame concatenation with empty or all-NA entries is deprecated. In a future version, this will no longer exclude empty or all-NA columns when determining the result dtypes. To retain the old behavior, exclude the relevant entries before the concat operation.\n",
      "  df_all = pd.concat([df_all, df], ignore_index=True)\n",
      "C:\\Users\\AOZ\\AppData\\Local\\Temp\\ipykernel_31540\\2173520818.py:54: FutureWarning: The behavior of DataFrame concatenation with empty or all-NA entries is deprecated. In a future version, this will no longer exclude empty or all-NA columns when determining the result dtypes. To retain the old behavior, exclude the relevant entries before the concat operation.\n",
      "  df_all = pd.concat([df_all, df], ignore_index=True)\n"
     ]
    },
    {
     "name": "stdout",
     "output_type": "stream",
     "text": [
      "Processing data\\figmaTree_31.json...\n",
      "Processing data\\figmaTree_32.json...\n",
      "Processing data\\figmaTree_33.json...\n",
      "Processing data\\figmaTree_34.json...\n",
      "Processing data\\figmaTree_35.json...\n"
     ]
    },
    {
     "name": "stderr",
     "output_type": "stream",
     "text": [
      "C:\\Users\\AOZ\\AppData\\Local\\Temp\\ipykernel_31540\\2173520818.py:54: FutureWarning: The behavior of DataFrame concatenation with empty or all-NA entries is deprecated. In a future version, this will no longer exclude empty or all-NA columns when determining the result dtypes. To retain the old behavior, exclude the relevant entries before the concat operation.\n",
      "  df_all = pd.concat([df_all, df], ignore_index=True)\n",
      "C:\\Users\\AOZ\\AppData\\Local\\Temp\\ipykernel_31540\\2173520818.py:54: FutureWarning: The behavior of DataFrame concatenation with empty or all-NA entries is deprecated. In a future version, this will no longer exclude empty or all-NA columns when determining the result dtypes. To retain the old behavior, exclude the relevant entries before the concat operation.\n",
      "  df_all = pd.concat([df_all, df], ignore_index=True)\n",
      "C:\\Users\\AOZ\\AppData\\Local\\Temp\\ipykernel_31540\\2173520818.py:54: FutureWarning: The behavior of DataFrame concatenation with empty or all-NA entries is deprecated. In a future version, this will no longer exclude empty or all-NA columns when determining the result dtypes. To retain the old behavior, exclude the relevant entries before the concat operation.\n",
      "  df_all = pd.concat([df_all, df], ignore_index=True)\n",
      "C:\\Users\\AOZ\\AppData\\Local\\Temp\\ipykernel_31540\\2173520818.py:54: FutureWarning: The behavior of DataFrame concatenation with empty or all-NA entries is deprecated. In a future version, this will no longer exclude empty or all-NA columns when determining the result dtypes. To retain the old behavior, exclude the relevant entries before the concat operation.\n",
      "  df_all = pd.concat([df_all, df], ignore_index=True)\n"
     ]
    },
    {
     "name": "stdout",
     "output_type": "stream",
     "text": [
      "Processing data\\figmaTree_36.json...\n",
      "Processing data\\figmaTree_37.json...\n",
      "Processing data\\figmaTree_38.json...\n",
      "Processing data\\figmaTree_39.json...\n",
      "Processing data\\figmaTree_4.json...\n",
      "Processing data\\figmaTree_40.json...\n",
      "Processing data\\figmaTree_41.json...\n",
      "Processing data\\figmaTree_42.json...\n",
      "Processing data\\figmaTree_43.json...\n"
     ]
    },
    {
     "name": "stderr",
     "output_type": "stream",
     "text": [
      "C:\\Users\\AOZ\\AppData\\Local\\Temp\\ipykernel_31540\\2173520818.py:54: FutureWarning: The behavior of DataFrame concatenation with empty or all-NA entries is deprecated. In a future version, this will no longer exclude empty or all-NA columns when determining the result dtypes. To retain the old behavior, exclude the relevant entries before the concat operation.\n",
      "  df_all = pd.concat([df_all, df], ignore_index=True)\n",
      "C:\\Users\\AOZ\\AppData\\Local\\Temp\\ipykernel_31540\\2173520818.py:54: FutureWarning: The behavior of DataFrame concatenation with empty or all-NA entries is deprecated. In a future version, this will no longer exclude empty or all-NA columns when determining the result dtypes. To retain the old behavior, exclude the relevant entries before the concat operation.\n",
      "  df_all = pd.concat([df_all, df], ignore_index=True)\n"
     ]
    },
    {
     "name": "stdout",
     "output_type": "stream",
     "text": [
      "Processing data\\figmaTree_44.json...\n",
      "Processing data\\figmaTree_45.json...\n",
      "Processing data\\figmaTree_47.json...\n",
      "Processing data\\figmaTree_48.json...\n"
     ]
    },
    {
     "name": "stderr",
     "output_type": "stream",
     "text": [
      "C:\\Users\\AOZ\\AppData\\Local\\Temp\\ipykernel_31540\\2173520818.py:54: FutureWarning: The behavior of DataFrame concatenation with empty or all-NA entries is deprecated. In a future version, this will no longer exclude empty or all-NA columns when determining the result dtypes. To retain the old behavior, exclude the relevant entries before the concat operation.\n",
      "  df_all = pd.concat([df_all, df], ignore_index=True)\n"
     ]
    },
    {
     "name": "stdout",
     "output_type": "stream",
     "text": [
      "Processing data\\figmaTree_49.json...\n",
      "Processing data\\figmaTree_5.json...\n",
      "Processing data\\figmaTree_50.json...\n",
      "Processing data\\figmaTree_51.json...\n",
      "Processing data\\figmaTree_52.json...\n"
     ]
    },
    {
     "name": "stderr",
     "output_type": "stream",
     "text": [
      "C:\\Users\\AOZ\\AppData\\Local\\Temp\\ipykernel_31540\\2173520818.py:54: FutureWarning: The behavior of DataFrame concatenation with empty or all-NA entries is deprecated. In a future version, this will no longer exclude empty or all-NA columns when determining the result dtypes. To retain the old behavior, exclude the relevant entries before the concat operation.\n",
      "  df_all = pd.concat([df_all, df], ignore_index=True)\n"
     ]
    },
    {
     "name": "stdout",
     "output_type": "stream",
     "text": [
      "Processing data\\figmaTree_53.json...\n",
      "Processing data\\figmaTree_54.json...\n",
      "Processing data\\figmaTree_55.json...\n",
      "Processing data\\figmaTree_57.json...\n"
     ]
    },
    {
     "name": "stderr",
     "output_type": "stream",
     "text": [
      "C:\\Users\\AOZ\\AppData\\Local\\Temp\\ipykernel_31540\\2173520818.py:54: FutureWarning: The behavior of DataFrame concatenation with empty or all-NA entries is deprecated. In a future version, this will no longer exclude empty or all-NA columns when determining the result dtypes. To retain the old behavior, exclude the relevant entries before the concat operation.\n",
      "  df_all = pd.concat([df_all, df], ignore_index=True)\n",
      "C:\\Users\\AOZ\\AppData\\Local\\Temp\\ipykernel_31540\\2173520818.py:54: FutureWarning: The behavior of DataFrame concatenation with empty or all-NA entries is deprecated. In a future version, this will no longer exclude empty or all-NA columns when determining the result dtypes. To retain the old behavior, exclude the relevant entries before the concat operation.\n",
      "  df_all = pd.concat([df_all, df], ignore_index=True)\n",
      "C:\\Users\\AOZ\\AppData\\Local\\Temp\\ipykernel_31540\\2173520818.py:54: FutureWarning: The behavior of DataFrame concatenation with empty or all-NA entries is deprecated. In a future version, this will no longer exclude empty or all-NA columns when determining the result dtypes. To retain the old behavior, exclude the relevant entries before the concat operation.\n",
      "  df_all = pd.concat([df_all, df], ignore_index=True)\n"
     ]
    },
    {
     "name": "stdout",
     "output_type": "stream",
     "text": [
      "Processing data\\figmaTree_58.json...\n",
      "Processing data\\figmaTree_59.json...\n",
      "Processing data\\figmaTree_6.json...\n",
      "Processing data\\figmaTree_60.json...\n",
      "Processing data\\figmaTree_61.json...\n",
      "Processing data\\figmaTree_62.json...\n",
      "Processing data\\figmaTree_63.json...\n",
      "Processing data\\figmaTree_64.json...\n"
     ]
    },
    {
     "name": "stderr",
     "output_type": "stream",
     "text": [
      "C:\\Users\\AOZ\\AppData\\Local\\Temp\\ipykernel_31540\\2173520818.py:54: FutureWarning: The behavior of DataFrame concatenation with empty or all-NA entries is deprecated. In a future version, this will no longer exclude empty or all-NA columns when determining the result dtypes. To retain the old behavior, exclude the relevant entries before the concat operation.\n",
      "  df_all = pd.concat([df_all, df], ignore_index=True)\n",
      "C:\\Users\\AOZ\\AppData\\Local\\Temp\\ipykernel_31540\\2173520818.py:54: FutureWarning: The behavior of DataFrame concatenation with empty or all-NA entries is deprecated. In a future version, this will no longer exclude empty or all-NA columns when determining the result dtypes. To retain the old behavior, exclude the relevant entries before the concat operation.\n",
      "  df_all = pd.concat([df_all, df], ignore_index=True)\n"
     ]
    },
    {
     "name": "stdout",
     "output_type": "stream",
     "text": [
      "Processing data\\figmaTree_65.json...\n",
      "Processing data\\figmaTree_66.json...\n",
      "Processing data\\figmaTree_67.json...\n",
      "Processing data\\figmaTree_68.json...\n"
     ]
    },
    {
     "name": "stderr",
     "output_type": "stream",
     "text": [
      "C:\\Users\\AOZ\\AppData\\Local\\Temp\\ipykernel_31540\\2173520818.py:54: FutureWarning: The behavior of DataFrame concatenation with empty or all-NA entries is deprecated. In a future version, this will no longer exclude empty or all-NA columns when determining the result dtypes. To retain the old behavior, exclude the relevant entries before the concat operation.\n",
      "  df_all = pd.concat([df_all, df], ignore_index=True)\n"
     ]
    },
    {
     "name": "stdout",
     "output_type": "stream",
     "text": [
      "Processing data\\figmaTree_69.json...\n",
      "Processing data\\figmaTree_70.json...\n",
      "Processing data\\figmaTree_71.json...\n",
      "Processing data\\figmaTree_72.json...\n",
      "Processing data\\figmaTree_73.json...\n",
      "Processing data\\figmaTree_74.json...\n",
      "Processing data\\figmaTree_75.json...\n",
      "Processing data\\figmaTree_76.json...\n",
      "Processing data\\figmaTree_77.json...\n"
     ]
    },
    {
     "name": "stderr",
     "output_type": "stream",
     "text": [
      "C:\\Users\\AOZ\\AppData\\Local\\Temp\\ipykernel_31540\\2173520818.py:54: FutureWarning: The behavior of DataFrame concatenation with empty or all-NA entries is deprecated. In a future version, this will no longer exclude empty or all-NA columns when determining the result dtypes. To retain the old behavior, exclude the relevant entries before the concat operation.\n",
      "  df_all = pd.concat([df_all, df], ignore_index=True)\n",
      "C:\\Users\\AOZ\\AppData\\Local\\Temp\\ipykernel_31540\\2173520818.py:54: FutureWarning: The behavior of DataFrame concatenation with empty or all-NA entries is deprecated. In a future version, this will no longer exclude empty or all-NA columns when determining the result dtypes. To retain the old behavior, exclude the relevant entries before the concat operation.\n",
      "  df_all = pd.concat([df_all, df], ignore_index=True)\n",
      "C:\\Users\\AOZ\\AppData\\Local\\Temp\\ipykernel_31540\\2173520818.py:54: FutureWarning: The behavior of DataFrame concatenation with empty or all-NA entries is deprecated. In a future version, this will no longer exclude empty or all-NA columns when determining the result dtypes. To retain the old behavior, exclude the relevant entries before the concat operation.\n",
      "  df_all = pd.concat([df_all, df], ignore_index=True)\n",
      "C:\\Users\\AOZ\\AppData\\Local\\Temp\\ipykernel_31540\\2173520818.py:54: FutureWarning: The behavior of DataFrame concatenation with empty or all-NA entries is deprecated. In a future version, this will no longer exclude empty or all-NA columns when determining the result dtypes. To retain the old behavior, exclude the relevant entries before the concat operation.\n",
      "  df_all = pd.concat([df_all, df], ignore_index=True)\n"
     ]
    },
    {
     "name": "stdout",
     "output_type": "stream",
     "text": [
      "Processing data\\figmaTree_78.json...\n",
      "Processing data\\figmaTree_79.json...\n",
      "Processing data\\figmaTree_8.json...\n",
      "Processing data\\figmaTree_80.json...\n",
      "Processing data\\figmaTree_81.json...\n",
      "Processing data\\figmaTree_82.json...\n",
      "Processing data\\figmaTree_83.json...\n",
      "Processing data\\figmaTree_84.json...\n",
      "Processing data\\figmaTree_85.json...\n",
      "Processing data\\figmaTree_86.json...\n",
      "Processing data\\figmaTree_88.json...\n",
      "Processing data\\figmaTree_89.json...\n"
     ]
    },
    {
     "name": "stderr",
     "output_type": "stream",
     "text": [
      "C:\\Users\\AOZ\\AppData\\Local\\Temp\\ipykernel_31540\\2173520818.py:54: FutureWarning: The behavior of DataFrame concatenation with empty or all-NA entries is deprecated. In a future version, this will no longer exclude empty or all-NA columns when determining the result dtypes. To retain the old behavior, exclude the relevant entries before the concat operation.\n",
      "  df_all = pd.concat([df_all, df], ignore_index=True)\n"
     ]
    },
    {
     "name": "stdout",
     "output_type": "stream",
     "text": [
      "Processing data\\figmaTree_9.json...\n",
      "Processing data\\figmaTree_90.json...\n",
      "Processing data\\figmaTree_91.json...\n"
     ]
    },
    {
     "name": "stderr",
     "output_type": "stream",
     "text": [
      "C:\\Users\\AOZ\\AppData\\Local\\Temp\\ipykernel_31540\\2173520818.py:54: FutureWarning: The behavior of DataFrame concatenation with empty or all-NA entries is deprecated. In a future version, this will no longer exclude empty or all-NA columns when determining the result dtypes. To retain the old behavior, exclude the relevant entries before the concat operation.\n",
      "  df_all = pd.concat([df_all, df], ignore_index=True)\n",
      "C:\\Users\\AOZ\\AppData\\Local\\Temp\\ipykernel_31540\\2173520818.py:54: FutureWarning: The behavior of DataFrame concatenation with empty or all-NA entries is deprecated. In a future version, this will no longer exclude empty or all-NA columns when determining the result dtypes. To retain the old behavior, exclude the relevant entries before the concat operation.\n",
      "  df_all = pd.concat([df_all, df], ignore_index=True)\n",
      "C:\\Users\\AOZ\\AppData\\Local\\Temp\\ipykernel_31540\\2173520818.py:54: FutureWarning: The behavior of DataFrame concatenation with empty or all-NA entries is deprecated. In a future version, this will no longer exclude empty or all-NA columns when determining the result dtypes. To retain the old behavior, exclude the relevant entries before the concat operation.\n",
      "  df_all = pd.concat([df_all, df], ignore_index=True)\n",
      "C:\\Users\\AOZ\\AppData\\Local\\Temp\\ipykernel_31540\\2173520818.py:54: FutureWarning: The behavior of DataFrame concatenation with empty or all-NA entries is deprecated. In a future version, this will no longer exclude empty or all-NA columns when determining the result dtypes. To retain the old behavior, exclude the relevant entries before the concat operation.\n",
      "  df_all = pd.concat([df_all, df], ignore_index=True)\n"
     ]
    },
    {
     "name": "stdout",
     "output_type": "stream",
     "text": [
      "Processing data\\figmaTree_92.json...\n",
      "Processing data\\figmaTree_93.json...\n",
      "Processing data\\figmaTree_94.json...\n",
      "Processing data\\figmaTree_95.json...\n",
      "Processing data\\figmaTree_96.json...\n",
      "Processing data\\figmaTree_97.json...\n",
      "Processing data\\figmaTree_98.json...\n"
     ]
    },
    {
     "name": "stderr",
     "output_type": "stream",
     "text": [
      "C:\\Users\\AOZ\\AppData\\Local\\Temp\\ipykernel_31540\\2173520818.py:54: FutureWarning: The behavior of DataFrame concatenation with empty or all-NA entries is deprecated. In a future version, this will no longer exclude empty or all-NA columns when determining the result dtypes. To retain the old behavior, exclude the relevant entries before the concat operation.\n",
      "  df_all = pd.concat([df_all, df], ignore_index=True)\n"
     ]
    },
    {
     "name": "stdout",
     "output_type": "stream",
     "text": [
      "Processing data\\figmaTree_99.json...\n",
      "Extracted features from all JSON files have been saved to figma_features_with_relative_positions.xlsx\n"
     ]
    }
   ],
   "source": [
    "# Folder containing JSON files\n",
    "data_folder = \"data\"\n",
    "\n",
    "# Initialize an empty DataFrame to store all extracted features\n",
    "df_all = pd.DataFrame()\n",
    "\n",
    "# Iterate over all JSON files in the data folder\n",
    "for filename in os.listdir(data_folder):\n",
    "    if filename.endswith(\".json\"):  # Ensure we only process JSON files\n",
    "        file_path = os.path.join(data_folder, filename)\n",
    "        print(f\"Processing {file_path}...\")\n",
    "        \n",
    "        with open(file_path, \"r\", encoding=\"utf-8\") as file:\n",
    "            data = json.load(file)\n",
    "        \n",
    "        # Extract features using the recursive function starting at the root\n",
    "        features_list = extract_features(data, depth=0, parent_tag=None, sibling_count=0)\n",
    "        \n",
    "        # Create a DataFrame from the extracted features\n",
    "        df = pd.DataFrame(features_list)\n",
    "        \n",
    "        # Compute the minimum x and y values (ignoring None values)\n",
    "        min_x = df['x'].min() if df['x'].notnull().any() else 0\n",
    "        min_y = df['y'].min() if df['y'].notnull().any() else 0\n",
    "\n",
    "        # Normalize coordinates\n",
    "        df['x_normalized'] = df['x'] - min_x\n",
    "        df['y_normalized'] = df['y'] - min_y\n",
    "\n",
    "        # Compute the center coordinates for each node\n",
    "        df['x_center'] = df['x'] + df['width'] / 2\n",
    "        df['y_center'] = df['y'] + df['height'] / 2\n",
    "\n",
    "        # Determine total width and height from the BODY node, if available\n",
    "        body_node = df[df['tag'] == 'BODY']\n",
    "        if not body_node.empty:\n",
    "            total_width = body_node.iloc[0]['width']\n",
    "            total_height = body_node.iloc[0]['height']\n",
    "        else:\n",
    "            total_width = (df['x'] + df['width']).max()\n",
    "            total_height = (df['y'] + df['height']).max()\n",
    "\n",
    "        # Compute relative positioning\n",
    "        df['x_quarter'] = df['x_center'] / total_width\n",
    "        df['y_quarter'] = df['y_center'] / total_height\n",
    "\n",
    "        # Additional size features\n",
    "        df['aspect_ratio'] = df.apply(lambda row: row['width'] / row['height'] if row['height'] and row['height'] != 0 else None, axis=1)\n",
    "        df['area'] = df['width'] * df['height']\n",
    "        df['normalized_width'] = df['width'] / total_width\n",
    "        df['normalized_height'] = df['height'] / total_height\n",
    "\n",
    "        # Append to the main DataFrame\n",
    "        df_all = pd.concat([df_all, df], ignore_index=True)\n",
    "\n",
    "# Save the aggregated DataFrame to an Excel file\n",
    "output_excel_file = \"figma_features_with_relative_positions.xlsx\"\n",
    "df_all.to_excel(output_excel_file, index=False)\n",
    "print(f\"Extracted features from all JSON files have been saved to {output_excel_file}\")\n"
   ]
  }
 ],
 "metadata": {
  "kernelspec": {
   "display_name": "Python 3",
   "language": "python",
   "name": "python3"
  },
  "language_info": {
   "codemirror_mode": {
    "name": "ipython",
    "version": 3
   },
   "file_extension": ".py",
   "mimetype": "text/x-python",
   "name": "python",
   "nbconvert_exporter": "python",
   "pygments_lexer": "ipython3",
   "version": "3.12.6"
  }
 },
 "nbformat": 4,
 "nbformat_minor": 2
}
